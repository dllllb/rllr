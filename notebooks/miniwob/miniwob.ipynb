{
 "cells": [
  {
   "cell_type": "code",
   "execution_count": 1,
   "metadata": {},
   "outputs": [],
   "source": [
    "import os\n",
    "import sys\n",
    "\n",
    "chrome_driver_path = os.path.join(\"/\", 'usr', 'local', 'bin', 'chromedriver')\n",
    "app_path = os.path.join(\"/\", 'usr', 'local', 'bin', 'chromedriver')\n",
    "os.environ[\"PATH\"] += os.pathsep + app_path\n",
    "os.environ[\"MINIWOB_BASE_URL\"] = \"file:///Users/a18401417/work//miniwob-plusplus/html/\""
   ]
  },
  {
   "cell_type": "code",
   "execution_count": 2,
   "metadata": {},
   "outputs": [
    {
     "name": "stdout",
     "output_type": "stream",
     "text": [
      "BASE URL: file:///Users/a18401417/work//miniwob-plusplus/html/\n"
     ]
    }
   ],
   "source": [
    "from miniwob.environment import MiniWoBEnvironment\n",
    "from miniwob.action import  MiniWoBCoordClick\n",
    "from miniwob.screenshot import pil_to_numpy_array\n",
    "\n",
    "task_name = 'click-button'\n",
    "base_url = os.environ.get('MINIWOB_BASE_URL')\n",
    "env = MiniWoBEnvironment(task_name, seeds=[1, 2, 3], num_instances=3, base_url=base_url)\n",
    "print('BASE URL:', base_url)"
   ]
  },
  {
   "cell_type": "code",
   "execution_count": 3,
   "metadata": {},
   "outputs": [],
   "source": [
    "states = env.reset(record_screenshots=True)"
   ]
  },
  {
   "cell_type": "code",
   "execution_count": 4,
   "metadata": {},
   "outputs": [
    {
     "data": {
      "text/plain": [
       "[MiniWoBState(utterance: 'Click on the \"Ok\" button.'),\n",
       " MiniWoBState(utterance: 'Click on the \"ok\" button.'),\n",
       " MiniWoBState(utterance: 'Click on the \"no\" button.')]"
      ]
     },
     "execution_count": 4,
     "metadata": {},
     "output_type": "execute_result"
    }
   ],
   "source": [
    "states"
   ]
  },
  {
   "cell_type": "code",
   "execution_count": 9,
   "metadata": {},
   "outputs": [
    {
     "data": {
      "image/png": "[encoded data removed]",
      "text/plain": [
       "<PIL.Image.Image image mode=RGB size=160x210 at 0x7FB6F9E0CC10>"
      ]
     },
     "execution_count": 9,
     "metadata": {},
     "output_type": "execute_result"
    }
   ],
   "source": [
    "states[0].screenshot"
   ]
  },
  {
   "cell_type": "code",
   "execution_count": 10,
   "metadata": {},
   "outputs": [
    {
     "data": {
      "text/plain": [
       "(210, 160, 3)"
      ]
     },
     "execution_count": 10,
     "metadata": {},
     "output_type": "execute_result"
    }
   ],
   "source": [
    "img = pil_to_numpy_array(states[0].screenshot)\n",
    "img.shape"
   ]
  },
  {
   "cell_type": "code",
   "execution_count": 11,
   "metadata": {},
   "outputs": [
    {
     "data": {
      "text/plain": [
       "\"- [1] body @ (0, 0) classes=[NO_CLASS] children=1\\n  |- [2] div @ (0, 0) classes=[NO_CLASS] children=1\\n     |- [3] div @ (0, 50) classes=[NO_CLASS] children=6\\n        |- [4] div @ (2, 52) text='cursus dis justo' classes=[NO_CLASS]\\n        |- [5] div @ (2, 63) text='facilisis proin aliq...' classes=[NO_CLASS]\\n        |- [6] button @ (2, 74) text='Ok' classes=[NO_CLASS]\\n        |- [7] div @ (2, 95) text='pharetra turpis scel...' classes=[NO_CLASS]\\n        |- [8] div @ (2, 106) text='rutrum lectus adipis...' classes=[NO_CLASS]\\n        |- [9] div @ (2, 117) text='pretium, aliquet ege...' classes=[NO_CLASS]\""
      ]
     },
     "execution_count": 11,
     "metadata": {},
     "output_type": "execute_result"
    }
   ],
   "source": [
    "states[0].dom.visualize()"
   ]
  },
  {
   "cell_type": "code",
   "execution_count": 12,
   "metadata": {},
   "outputs": [
    {
     "data": {
      "text/plain": [
       "['Click', 'on', 'the', '\"', 'Ok', '\"', 'button', '.']"
      ]
     },
     "execution_count": 12,
     "metadata": {},
     "output_type": "execute_result"
    }
   ],
   "source": [
    "states[0].tokens"
   ]
  },
  {
   "cell_type": "code",
   "execution_count": 13,
   "metadata": {},
   "outputs": [
    {
     "name": "stderr",
     "output_type": "stream",
     "text": [
      "WARNING:urllib3.connectionpool:Retrying (Retry(total=2, connect=None, read=None, redirect=None, status=None)) after connection broken by 'NewConnectionError('<urllib3.connection.HTTPConnection object at 0x7fb6f9e1a590>: Failed to establish a new connection: [Errno 61] Connection refused')': /session/3a5098dea70fc0877ce17e8587aee956\n",
      "WARNING:urllib3.connectionpool:Retrying (Retry(total=2, connect=None, read=None, redirect=None, status=None)) after connection broken by 'NewConnectionError('<urllib3.connection.HTTPConnection object at 0x7fb6fb60fe50>: Failed to establish a new connection: [Errno 61] Connection refused')': /session/9f18a311964c6e1615c98fc1e311533b\n",
      "WARNING:urllib3.connectionpool:Retrying (Retry(total=1, connect=None, read=None, redirect=None, status=None)) after connection broken by 'NewConnectionError('<urllib3.connection.HTTPConnection object at 0x7fb6fb60f650>: Failed to establish a new connection: [Errno 61] Connection refused')': /session/3a5098dea70fc0877ce17e8587aee956\n",
      "WARNING:urllib3.connectionpool:Retrying (Retry(total=1, connect=None, read=None, redirect=None, status=None)) after connection broken by 'NewConnectionError('<urllib3.connection.HTTPConnection object at 0x7fb6f9eb1a10>: Failed to establish a new connection: [Errno 61] Connection refused')': /session/9f18a311964c6e1615c98fc1e311533b\n",
      "WARNING:urllib3.connectionpool:Retrying (Retry(total=2, connect=None, read=None, redirect=None, status=None)) after connection broken by 'NewConnectionError('<urllib3.connection.HTTPConnection object at 0x7fb6f9e20f50>: Failed to establish a new connection: [Errno 61] Connection refused')': /session/0c9b6cdc3fd94decd7b36b735b7fb22d\n",
      "WARNING:urllib3.connectionpool:Retrying (Retry(total=0, connect=None, read=None, redirect=None, status=None)) after connection broken by 'NewConnectionError('<urllib3.connection.HTTPConnection object at 0x7fb6f9eb1c90>: Failed to establish a new connection: [Errno 61] Connection refused')': /session/3a5098dea70fc0877ce17e8587aee956\n",
      "WARNING:urllib3.connectionpool:Retrying (Retry(total=0, connect=None, read=None, redirect=None, status=None)) after connection broken by 'NewConnectionError('<urllib3.connection.HTTPConnection object at 0x7fb6f916a590>: Failed to establish a new connection: [Errno 61] Connection refused')': /session/9f18a311964c6e1615c98fc1e311533b\n",
      "WARNING:urllib3.connectionpool:Retrying (Retry(total=1, connect=None, read=None, redirect=None, status=None)) after connection broken by 'NewConnectionError('<urllib3.connection.HTTPConnection object at 0x7fb6f9eb16d0>: Failed to establish a new connection: [Errno 61] Connection refused')': /session/0c9b6cdc3fd94decd7b36b735b7fb22d\n",
      "WARNING:urllib3.connectionpool:Retrying (Retry(total=0, connect=None, read=None, redirect=None, status=None)) after connection broken by 'NewConnectionError('<urllib3.connection.HTTPConnection object at 0x7fb6f9e27110>: Failed to establish a new connection: [Errno 61] Connection refused')': /session/0c9b6cdc3fd94decd7b36b735b7fb22d\n"
     ]
    }
   ],
   "source": [
    "env.close()"
   ]
  },
  {
   "cell_type": "markdown",
   "metadata": {},
   "source": [
    "# Gym miniwob wrapper"
   ]
  },
  {
   "cell_type": "code",
   "execution_count": 24,
   "metadata": {},
   "outputs": [],
   "source": [
    "import gym\n",
    "import torch\n",
    "import numpy as np\n",
    "\n",
    "from miniwob.action import MiniWoBElementClick, MiniWoBCoordClick\n",
    "from transformers import BertTokenizer, BertModel, BertConfig\n",
    "\n",
    "\n",
    "class MiniWobClickButtonWrapper(gym.Wrapper):\n",
    "    \n",
    "    def __init__(self, env):      \n",
    "        super().__init__(env)\n",
    "        self.env = env\n",
    "        bert_model = 'bert-base-cased'\n",
    "        self.tokenizer = BertTokenizer.from_pretrained(bert_model)\n",
    "        \n",
    "        self.observation_space = gym.spaces.Dict({\"goal_state\": gym.spaces.Box(0, \n",
    "                                                                              self.tokenizer.vocab_size, (8, ),\n",
    "                                                                              dtype=np.int64), \n",
    "                                                 \"state\": gym.spaces.Box(0, 255, (210, 160, 3), dtype=np.uint8)})\n",
    "        \n",
    "\n",
    "        self.h, self.w = 210, 160\n",
    "        self.grid_step = 10\n",
    "        n_actions = int(self.h/self.grid_step+1) * int(self.w/self.grid_step+1)\n",
    "        self.action_space = gym.spaces.Discrete(n_actions)\n",
    "        \n",
    "    def _ob_to_token(self, ob):\n",
    "        max_length = 8\n",
    "        if ob is None:\n",
    "            return torch.zeros(1, max_length)\n",
    "        else: \n",
    "            return self.tokenizer(ob.tokens,  \n",
    "                                  padding='max_length', \n",
    "                                  max_length = max_length, truncation=True,          \n",
    "                                  return_tensors=\"pt\",\n",
    "                                  is_split_into_words=True)['input_ids']\n",
    "            \n",
    "    def _ob_to_image(self, ob):\n",
    "        if ob is None:\n",
    "            return torch.zeros(1, self.h, self.w, 3)\n",
    "        else:\n",
    "            return torch.tensor(pil_to_numpy_array(ob.screenshot)).unsqueeze(0)\n",
    "        \n",
    "    \n",
    "    def _to_miniwob_actions(self, actions):\n",
    "        \n",
    "        n_x = int(self.w/self.grid_step + 1)        \n",
    "        actions = actions.squeeze()\n",
    "        miniwob_actions = []\n",
    "        \n",
    "        for i in range(self.num_instances):\n",
    "            if self.instances[i].get_metadata()['done']:\n",
    "                miniwob_actions.append(None)\n",
    "            else:\n",
    "                k = actions[i].item()\n",
    "                x, y = k%n_x * self.grid_step, int(k/n_x) * self.grid_step\n",
    "                miniwob_actions.append(MiniWoBCoordClick(x, y))\n",
    "        return miniwob_actions\n",
    "        \n",
    "    \n",
    "    def observation(self, obs):\n",
    "            \n",
    "        goals = torch.cat([self._ob_to_token(ob) for ob in obs], dim=0)\n",
    "        imgs = torch.cat([self._ob_to_image(ob) for ob in obs], dim=0)\n",
    "        doms = [\"\" for ob in obs] # ob.dom.visualize()\n",
    "        return {'state': imgs, 'dom': doms, 'goal_state': goals}\n",
    "    \n",
    "    def reset(self):\n",
    "        return self.observation(self.env.reset(record_screenshots=True))\n",
    "    \n",
    "            \n",
    "    \n",
    "    def step(self, actions):\n",
    "        \n",
    "        miniwob_actions = self._to_miniwob_actions(actions)\n",
    "        obs, rewards, dones, infos = self.env.step(miniwob_actions)        \n",
    "        obs = self.observation(obs)\n",
    "        \n",
    "        for instance in self.env.instances:\n",
    "            if instance.get_metadata()['done']:\n",
    "                instance.begin_task()\n",
    "        \n",
    "        return obs, torch.tensor([rewards]).T, torch.tensor([dones]).T, infos['n']\n",
    "        \n",
    "class EpisodeInfoWrapper(gym.Wrapper):\n",
    "    \n",
    "    def __init__(self, env, n):\n",
    "        super(EpisodeInfoWrapper, self).__init__(env)\n",
    "        self.episode_reward = np.zeros(n)\n",
    "        self.episode_steps = np.zeros(n)\n",
    "        self.n = n\n",
    "\n",
    "    def reset(self):\n",
    "        self.episode_reward = np.zeros(self.n)\n",
    "        self.episode_steps = np.zeros(self.n)\n",
    "        return self.env.reset()\n",
    "\n",
    "    def step(self, actions):\n",
    "        states, rewards, dones, infos = self.env.step(actions)\n",
    "        \n",
    "        for i, done in enumerate(dones):\n",
    "            if done:\n",
    "                self.episode_reward[i] = rewards[i]\n",
    "                self.episode_steps[i] += 1\n",
    "                infos[i]['episode'] = {'r': self.episode_reward[i], 'steps': self.episode_steps[i]}\n",
    "                \n",
    "        return states, rewards, dones, infos"
   ]
  },
  {
   "cell_type": "code",
   "execution_count": 25,
   "metadata": {},
   "outputs": [],
   "source": [
    "def get_envs(n, **kwargs):\n",
    "    env = MiniWoBEnvironment(task_name, seeds=range(n), num_instances=n, base_url=base_url, **kwargs)\n",
    "    env = MiniWobClickButtonWrapper(env)\n",
    "    return EpisodeInfoWrapper(env, n)"
   ]
  },
  {
   "cell_type": "markdown",
   "metadata": {},
   "source": [
    "# Bert encoder"
   ]
  },
  {
   "cell_type": "code",
   "execution_count": 26,
   "metadata": {},
   "outputs": [],
   "source": [
    "from transformers import BertTokenizer, BertModel, BertConfig\n",
    "from torch import nn\n",
    "import torch\n",
    "\n",
    "class BertEncoder(nn.Module):\n",
    "    \n",
    "    def __init__(self):\n",
    "        \n",
    "        super().__init__()\n",
    "        bert_model = 'bert-base-cased'\n",
    "        self.bert_encoder = BertModel.from_pretrained(bert_model)\n",
    "        self.embed_dim = 768\n",
    "        output_size = 100\n",
    "        self.lstm = nn.LSTM(input_size=self.embed_dim, \n",
    "                            hidden_size=output_size, \n",
    "                            num_layers=2)\n",
    "        self.hidden_size = 32\n",
    "        in_size = output_size\n",
    "        out_size = self.hidden_size\n",
    "        self.fc = nn.Sequential(nn.Linear(in_size, out_size), nn.ReLU())\n",
    "        self.output_size = out_size\n",
    "   \n",
    "    def forward(self, input_ids):\n",
    "        \"\"\"\n",
    "        Encode batch of tokens\n",
    "        \n",
    "        \"\"\"\n",
    "        with torch.no_grad():\n",
    "            embeds = self.bert_encoder(input_ids.long()).last_hidden_state\n",
    "        embeds = embeds.permute([1, 0, 2])\n",
    "            \n",
    "        output, _ = self.lstm(embeds)\n",
    "        return self.fc(output[-1])"
   ]
  },
  {
   "cell_type": "code",
   "execution_count": 27,
   "metadata": {},
   "outputs": [],
   "source": [
    "import torchvision.models as zoo_models\n",
    "\n",
    "class ResNetEncoder(nn.Module):\n",
    "    def __init__(self):\n",
    "        super().__init__()\n",
    "        resnet = zoo_models.resnet34(pretrained=True)\n",
    "        self.output_size = 32\n",
    "        self.resnet = nn.Sequential(*list(resnet.children())[:-1])\n",
    "        in_size, out_size = 512, self.output_size\n",
    "        self.fc = nn.Sequential(nn.Linear(in_size, out_size), nn.ReLU())\n",
    "\n",
    "    def forward(self, x):\n",
    "        x = x.permute(0, 3, 1, 2)\n",
    "        with torch.no_grad():\n",
    "            encoded = self.resnet(x).reshape(x.shape[0], -1)\n",
    "        return self.fc(encoded)"
   ]
  },
  {
   "cell_type": "code",
   "execution_count": 28,
   "metadata": {},
   "outputs": [],
   "source": [
    "class Permute(nn.Module):\n",
    "    def __init__(self, *args):\n",
    "        super().__init__()\n",
    "        self.dims = args\n",
    "\n",
    "    def forward(self, x):\n",
    "        return x.permute(self.dims)\n",
    "\n",
    "class SimpleCNN(nn.Module):\n",
    "    def __init__(self, h, w, conf):\n",
    "        super().__init__()\n",
    "        conv_layers = [Permute(0, 3, 1, 2)]\n",
    "        cnn_output_h, cnn_output_w = h, w\n",
    "        cur_channels = 3\n",
    "        conv_params = zip(\n",
    "            conf['n_channels'],\n",
    "            conf['kernel_sizes'],\n",
    "            conf['max_pools'] if conf.get('max_pools', False) else [1] * len(conf['n_channels']),\n",
    "            conf['strides'] if conf.get('strides', False) else [1] * len(conf['n_channels'])\n",
    "        )\n",
    "        for n_channels, kernel_size, max_pool, stride in conv_params:\n",
    "            conv_layers.append(nn.Conv2d(cur_channels, n_channels, kernel_size, stride))\n",
    "            conv_layers.append(nn.ReLU(inplace=True))\n",
    "            cnn_output_h += -1 * kernel_size + stride\n",
    "            cnn_output_w += -1 * kernel_size + stride\n",
    "            cnn_output_h //= stride\n",
    "            cnn_output_w //= stride\n",
    "            cur_channels = n_channels\n",
    "            if max_pool > 1:\n",
    "                conv_layers.append(nn.MaxPool2d(max_pool, max_pool))\n",
    "                cnn_output_h //= max_pool\n",
    "                cnn_output_w //= max_pool\n",
    "        self.conv_net = nn.Sequential(*conv_layers)\n",
    "        output_size = cur_channels * cnn_output_h * cnn_output_w\n",
    "\n",
    "        hidden_layers_sizes = list(conf.get('hidden_layers_sizes', []))\n",
    "        if hidden_layers_sizes:\n",
    "            fc_layers = []\n",
    "            layers_size = [output_size] + hidden_layers_sizes\n",
    "            for size_in, size_out in zip(layers_size[:-1], layers_size[1:]):\n",
    "                fc_layers.append(nn.Linear(size_in, size_out))\n",
    "                fc_layers.append(nn.ReLU())\n",
    "            self.fc = nn.Sequential(*fc_layers)\n",
    "            output_size = layers_size[-1]\n",
    "        else:\n",
    "            self.fc = None\n",
    "\n",
    "        self.output_size = output_size\n",
    "\n",
    "    def forward(self, x):\n",
    "        res = self.conv_net(x.float() / 255.).reshape(x.shape[0], -1)\n",
    "        if self.fc is not None:\n",
    "            res = self.fc(res)\n",
    "        return res"
   ]
  },
  {
   "cell_type": "markdown",
   "metadata": {},
   "source": [
    "# Init encoders"
   ]
  },
  {
   "cell_type": "code",
   "execution_count": 41,
   "metadata": {},
   "outputs": [
    {
     "name": "stderr",
     "output_type": "stream",
     "text": [
      "Some weights of the model checkpoint at bert-base-cased were not used when initializing BertModel: ['cls.seq_relationship.weight', 'cls.predictions.transform.dense.weight', 'cls.seq_relationship.bias', 'cls.predictions.bias', 'cls.predictions.transform.dense.bias', 'cls.predictions.transform.LayerNorm.bias', 'cls.predictions.decoder.weight', 'cls.predictions.transform.LayerNorm.weight']\n",
      "- This IS expected if you are initializing BertModel from the checkpoint of a model trained on another task or with another architecture (e.g. initializing a BertForSequenceClassification model from a BertForPreTraining model).\n",
      "- This IS NOT expected if you are initializing BertModel from the checkpoint of a model that you expect to be exactly identical (initializing a BertForSequenceClassification model from a BertForSequenceClassification model).\n"
     ]
    }
   ],
   "source": [
    "from rllr.models.encoders import GoalStateEncoder # , SimpleCNN\n",
    "\n",
    "conf = {\n",
    "    \"n_channels\": [32, 32, 32, 32, 32, 32],\n",
    "    \"kernel_sizes\": [16, 8, 4, 4, 4, 4],\n",
    "    \"strides\": [4, 2, 1, 1, 1, 1],\n",
    "    \"hidden_layers_sizes\": [128]\n",
    "}\n",
    "\n",
    "state_encoder = SimpleCNN(h=210, w=160, conf=conf)\n",
    "goal_encoder = BertEncoder()\n",
    "encoder = GoalStateEncoder(state_encoder, goal_encoder)"
   ]
  },
  {
   "cell_type": "markdown",
   "metadata": {},
   "source": [
    "# Train agent"
   ]
  },
  {
   "cell_type": "code",
   "execution_count": 42,
   "metadata": {},
   "outputs": [],
   "source": [
    "n_instances = 8\n",
    "envs = get_envs(n_instances, headless=True)"
   ]
  },
  {
   "cell_type": "code",
   "execution_count": 43,
   "metadata": {},
   "outputs": [],
   "source": [
    "from rllr.algo import PPO\n",
    "from rllr.models.ppo import ActorCriticNetwork\n",
    "\n",
    "hidden_size = 32\n",
    "policy = ActorCriticNetwork(envs.action_space, encoder, encoder, hidden_size, hidden_size)\n",
    "\n",
    "agent_conf = {\n",
    "        \"clip_param\": 0.2,\n",
    "        \"ppo_epoch\": 4,\n",
    "        \"num_mini_batch\": 4,\n",
    "        \"value_loss_coef\": 0.5,\n",
    "        \"entropy_coef\": 0.01,\n",
    "        \"lr\": 0.001,\n",
    "        \"eps\": 1e-5,\n",
    "        \"max_grad_norm\": 0.5,\n",
    "}\n",
    "\n",
    "\n",
    "agent = PPO(policy, **agent_conf)"
   ]
  },
  {
   "cell_type": "code",
   "execution_count": null,
   "metadata": {
    "scrolled": false
   },
   "outputs": [
    {
     "name": "stderr",
     "output_type": "stream",
     "text": [
      "  0%|          | 0/125 [00:00<?, ?it/s]WARNING:root:Cannot call CoordClick(coords: (150, 40)) on instance 3, which is already done\n"
     ]
    },
    {
     "name": "stdout",
     "output_type": "stream",
     "text": [
      "Updates 0, num timesteps 800, FPS 3 \n",
      "Last 10 training episodes: mean/median reward -0.54/-1.00, min/max reward -1.00/0.84\n",
      "dist_entropy 5.92, value_loss 0.13, action_loss -0.01\n"
     ]
    },
    {
     "name": "stderr",
     "output_type": "stream",
     "text": [
      "  2%|▏         | 2/125 [07:22<7:30:49, 219.91s/it]WARNING:root:Cannot call CoordClick(coords: (150, 200)) on instance 1, which is already done\n",
      "WARNING:root:Cannot call CoordClick(coords: (60, 200)) on instance 2, which is already done\n",
      "  4%|▍         | 5/125 [18:04<7:10:06, 215.05s/it]"
     ]
    },
    {
     "name": "stdout",
     "output_type": "stream",
     "text": [
      "Updates 5, num timesteps 4800, FPS 3 \n",
      "Last 10 training episodes: mean/median reward -0.82/-1.00, min/max reward -1.00/0.82\n",
      "dist_entropy 5.87, value_loss 0.08, action_loss -0.01\n"
     ]
    },
    {
     "name": "stderr",
     "output_type": "stream",
     "text": [
      "  6%|▌         | 7/125 [25:10<7:00:45, 213.94s/it]WARNING:root:Cannot call CoordClick(coords: (160, 50)) on instance 5, which is already done\n",
      "  8%|▊         | 10/125 [36:07<6:58:12, 218.19s/it]WARNING:root:Cannot call CoordClick(coords: (150, 0)) on instance 3, which is already done\n",
      "WARNING:root:Cannot call CoordClick(coords: (90, 140)) on instance 4, which is already done\n"
     ]
    },
    {
     "name": "stdout",
     "output_type": "stream",
     "text": [
      "Updates 10, num timesteps 8800, FPS 3 \n",
      "Last 10 training episodes: mean/median reward -0.81/-1.00, min/max reward -1.00/0.93\n",
      "dist_entropy 5.73, value_loss 0.07, action_loss -0.02\n"
     ]
    },
    {
     "name": "stderr",
     "output_type": "stream",
     "text": [
      " 10%|█         | 13/125 [47:52<7:06:48, 228.64s/it]WARNING:root:Cannot call CoordClick(coords: (130, 130)) on instance 6, which is already done\n",
      "WARNING:root:Cannot call CoordClick(coords: (150, 120)) on instance 5, which is already done\n",
      " 11%|█         | 14/125 [51:49<7:07:20, 231.00s/it]WARNING:root:Cannot call CoordClick(coords: (140, 140)) on instance 6, which is already done\n",
      "WARNING:root:Cannot call CoordClick(coords: (30, 20)) on instance 5, which is already done\n",
      " 12%|█▏        | 15/125 [55:23<6:54:08, 225.90s/it]"
     ]
    },
    {
     "name": "stdout",
     "output_type": "stream",
     "text": [
      "Updates 15, num timesteps 12800, FPS 3 \n",
      "Last 10 training episodes: mean/median reward -0.82/-1.00, min/max reward -1.00/0.76\n",
      "dist_entropy 5.53, value_loss 0.13, action_loss -0.02\n"
     ]
    },
    {
     "name": "stderr",
     "output_type": "stream",
     "text": [
      " 16%|█▌        | 20/125 [1:13:38<6:27:24, 221.37s/it]"
     ]
    },
    {
     "name": "stdout",
     "output_type": "stream",
     "text": [
      "Updates 20, num timesteps 16800, FPS 3 \n",
      "Last 10 training episodes: mean/median reward -0.41/-1.00, min/max reward -1.00/0.74\n",
      "dist_entropy 5.33, value_loss 0.12, action_loss -0.02\n"
     ]
    },
    {
     "name": "stderr",
     "output_type": "stream",
     "text": [
      " 17%|█▋        | 21/125 [1:17:17<6:22:33, 220.71s/it]WARNING:root:Cannot call CoordClick(coords: (70, 90)) on instance 0, which is already done\n",
      " 20%|██        | 25/125 [1:31:58<6:06:59, 220.20s/it]WARNING:root:Cannot call CoordClick(coords: (20, 150)) on instance 0, which is already done\n"
     ]
    },
    {
     "name": "stdout",
     "output_type": "stream",
     "text": [
      "Updates 25, num timesteps 20800, FPS 3 \n",
      "Last 10 training episodes: mean/median reward 0.12/0.81, min/max reward -1.00/0.92\n",
      "dist_entropy 5.19, value_loss 0.15, action_loss -0.02\n"
     ]
    },
    {
     "name": "stderr",
     "output_type": "stream",
     "text": [
      " 21%|██        | 26/125 [1:35:42<6:05:21, 221.43s/it]WARNING:root:Cannot call CoordClick(coords: (130, 20)) on instance 7, which is already done\n",
      " 22%|██▏       | 27/125 [1:39:22<6:00:52, 220.94s/it]WARNING:root:Cannot call CoordClick(coords: (0, 0)) on instance 4, which is already done\n",
      "WARNING:root:Cannot call CoordClick(coords: (30, 90)) on instance 2, which is already done\n",
      "WARNING:root:Cannot call CoordClick(coords: (80, 180)) on instance 5, which is already done\n",
      " 24%|██▍       | 30/125 [1:50:28<5:51:23, 221.93s/it]"
     ]
    },
    {
     "name": "stdout",
     "output_type": "stream",
     "text": [
      "Updates 30, num timesteps 24800, FPS 3 \n",
      "Last 10 training episodes: mean/median reward -0.09/0.19, min/max reward -1.00/0.85\n",
      "dist_entropy 4.86, value_loss 0.17, action_loss -0.02\n"
     ]
    },
    {
     "name": "stderr",
     "output_type": "stream",
     "text": [
      " 25%|██▍       | 31/125 [1:54:02<5:44:02, 219.60s/it]WARNING:root:Cannot call CoordClick(coords: (150, 170)) on instance 5, which is already done\n",
      "WARNING:root:Cannot call CoordClick(coords: (130, 130)) on instance 0, which is already done\n",
      " 26%|██▋       | 33/125 [2:01:28<5:39:07, 221.17s/it]WARNING:root:Cannot call CoordClick(coords: (30, 90)) on instance 5, which is already done\n",
      "WARNING:root:Cannot call CoordClick(coords: (30, 90)) on instance 0, which is already done\n",
      " 28%|██▊       | 35/125 [2:09:01<5:35:56, 223.97s/it]WARNING:root:Cannot call CoordClick(coords: (80, 180)) on instance 5, which is already done\n"
     ]
    },
    {
     "name": "stdout",
     "output_type": "stream",
     "text": [
      "Updates 35, num timesteps 28800, FPS 3 \n",
      "Last 10 training episodes: mean/median reward -0.18/-0.21, min/max reward -1.00/0.76\n",
      "dist_entropy 4.72, value_loss 0.19, action_loss -0.02\n"
     ]
    },
    {
     "name": "stderr",
     "output_type": "stream",
     "text": [
      " 29%|██▉       | 36/125 [2:12:37<5:28:24, 221.40s/it]WARNING:root:Cannot call CoordClick(coords: (30, 110)) on instance 1, which is already done\n",
      " 32%|███▏      | 40/125 [2:27:13<5:13:06, 221.02s/it]WARNING:root:Cannot call CoordClick(coords: (60, 70)) on instance 6, which is already done\n",
      "WARNING:root:Cannot call CoordClick(coords: (30, 110)) on instance 2, which is already done\n"
     ]
    },
    {
     "name": "stdout",
     "output_type": "stream",
     "text": [
      "Updates 40, num timesteps 32800, FPS 3 \n",
      "Last 10 training episodes: mean/median reward -0.02/0.48, min/max reward -1.00/0.93\n",
      "dist_entropy 4.53, value_loss 0.20, action_loss -0.02\n"
     ]
    },
    {
     "name": "stderr",
     "output_type": "stream",
     "text": [
      " 33%|███▎      | 41/125 [2:31:02<5:12:26, 223.18s/it]WARNING:root:Cannot call CoordClick(coords: (30, 0)) on instance 5, which is already done\n",
      " 34%|███▍      | 43/125 [2:38:29<5:04:39, 222.92s/it]WARNING:root:Cannot call CoordClick(coords: (10, 180)) on instance 1, which is already done\n",
      " 35%|███▌      | 44/125 [2:42:17<5:03:08, 224.55s/it]"
     ]
    }
   ],
   "source": [
    "from rllr.utils.training import train_ppo\n",
    "\n",
    "train_conf = {\n",
    "    \"agent.lr\": 0.001,\n",
    "    \"agent.device\": \"cpu\",\n",
    "    \"agent.gamma\": 0.99,\n",
    "    \"agent.gae_lambda\": 0.95,\n",
    "    \"training.n_env_steps\": 100000,\n",
    "    \"training.n_steps\": 100,\n",
    "    \"training.n_processes\": n_instances,\n",
    "    \"training.verbose\": 5,\n",
    "    \"outputs.path\": \"minigrid_worker.p\"\n",
    "}\n",
    "\n",
    "\n",
    "train_ppo(envs, agent, train_conf)"
   ]
  },
  {
   "cell_type": "code",
   "execution_count": null,
   "metadata": {},
   "outputs": [],
   "source": []
  },
  {
   "cell_type": "code",
   "execution_count": null,
   "metadata": {},
   "outputs": [],
   "source": []
  }
 ],
 "metadata": {
  "kernelspec": {
   "display_name": "Python 3.7 (rllr)",
   "language": "python",
   "name": "rllr"
  },
  "language_info": {
   "codemirror_mode": {
    "name": "ipython",
    "version": 3
   },
   "file_extension": ".py",
   "mimetype": "text/x-python",
   "name": "python",
   "nbconvert_exporter": "python",
   "pygments_lexer": "ipython3",
   "version": "3.7.9"
  }
 },
 "nbformat": 4,
 "nbformat_minor": 4
}
