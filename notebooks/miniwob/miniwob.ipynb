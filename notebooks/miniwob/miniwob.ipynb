{
 "cells": [
  {
   "cell_type": "code",
   "execution_count": 1,
   "metadata": {},
   "outputs": [],
   "source": [
    "import os\n",
    "import sys\n",
    "\n",
    "# Setup: and Selenium chrome driver to PATH and set MINIWOB_BASE_URL env variable to the directory with HTML task files"
   ]
  },
  {
   "cell_type": "code",
   "execution_count": 2,
   "metadata": {},
   "outputs": [
    {
     "name": "stdout",
     "output_type": "stream",
     "text": [
      "BASE URL: file:///mnt/morlov/miniwob-plusplus/html/\n"
     ]
    }
   ],
   "source": [
    "from miniwob.environment import MiniWoBEnvironment\n",
    "from miniwob.action import  MiniWoBCoordClick\n",
    "from miniwob.screenshot import pil_to_numpy_array\n",
    "\n",
    "task_name = 'click-dialog'\n",
    "base_url = os.environ.get('MINIWOB_BASE_URL')\n",
    "env = MiniWoBEnvironment(task_name, seeds=[1, 2, 3], num_instances=3, base_url=base_url, headless=True)\n",
    "print('BASE URL:', base_url)"
   ]
  },
  {
   "cell_type": "code",
   "execution_count": 3,
   "metadata": {},
   "outputs": [],
   "source": [
    "states = env.reset(record_screenshots=True)"
   ]
  },
  {
   "cell_type": "code",
   "execution_count": 4,
   "metadata": {},
   "outputs": [
    {
     "data": {
      "text/plain": [
       "[MiniWoBState(utterance: 'Close the dialog box by clicking the \"x\".'),\n",
       " MiniWoBState(utterance: 'Close the dialog box by clicking the \"x\".'),\n",
       " MiniWoBState(utterance: 'Close the dialog box by clicking the \"x\".')]"
      ]
     },
     "execution_count": 4,
     "metadata": {},
     "output_type": "execute_result"
    }
   ],
   "source": [
    "states"
   ]
  },
  {
   "cell_type": "code",
   "execution_count": 5,
   "metadata": {},
   "outputs": [
    {
     "data": {
      "image/png": "[encoded data removed]",
      "text/plain": [
       "<PIL.Image.Image image mode=RGB size=160x210 at 0x7F2EC2C679D0>"
      ]
     },
     "execution_count": 5,
     "metadata": {},
     "output_type": "execute_result"
    }
   ],
   "source": [
    "states[0].screenshot"
   ]
  },
  {
   "cell_type": "code",
   "execution_count": 6,
   "metadata": {},
   "outputs": [
    {
     "data": {
      "text/plain": [
       "(210, 160, 3)"
      ]
     },
     "execution_count": 6,
     "metadata": {},
     "output_type": "execute_result"
    }
   ],
   "source": [
    "img = pil_to_numpy_array(states[0].screenshot)\n",
    "img.shape"
   ]
  },
  {
   "cell_type": "code",
   "execution_count": 7,
   "metadata": {},
   "outputs": [
    {
     "data": {
      "text/plain": [
       "\"- [1] body @ (0, 0) classes=[NO_CLASS] children=2\\n  |- [2] div @ (0, 0) classes=[NO_CLASS] children=1\\n  |  |- [3] div @ (0, 50) classes=[NO_CLASS]\\n  |- [4] div @ (18, 76) classes=[ui-dialog ui-corner-all ui-widget ui-widget-content ui-front ui-draggable ui-resizable] children=10\\n     |- [5] div @ (21, 79) classes=[ui-dialog-titlebar ui-corner-all ui-widget-header ui-helper-clearfix ui-draggable-handle] children=2\\n     |  |- [6] span @ (25, 83) classes=[ui-dialog-title]\\n     |  |- [7] button @ (94, 79.5) classes=[ui-button ui-corner-all ui-widget ui-button-icon-only ui-dialog-titlebar-close] children=2\\n     |     |- [8] span @ (96, 81.5) classes=[ui-button-icon ui-icon ui-icon-closethick]\\n     |     |- [None] t @ (-4909.12, 84) text='Close' classes=[TEXT_CLASS]\\n     |- [9] div @ (26, 100) classes=[ui-dialog-content ui-widget-content] children=1\\n     |  |- [10] p @ (26, 110) text='Cursus justo. Facili...' classes=[NO_CLASS]\\n     |- [11] div @ (19, 77) classes=[ui-resizable-handle ui-resizable-n]\\n     |- [12] div @ (118, 77) classes=[ui-resizable-handle ui-resizable-e]\\n     |- [13] div @ (19, 177) classes=[ui-resizable-handle ui-resizable-s]\\n     |- [14] div @ (19, 77) classes=[ui-resizable-handle ui-resizable-w]\\n     |- [15] div @ (113, 172) classes=[ui-resizable-handle ui-resizable-se ui-icon ui-icon-gripsmall-diagonal-se]\\n     |- [16] div @ (19, 172) classes=[ui-resizable-handle ui-resizable-sw]\\n     |- [17] div @ (113, 77) classes=[ui-resizable-handle ui-resizable-ne]\\n     |- [18] div @ (19, 77) classes=[ui-resizable-handle ui-resizable-nw]\""
      ]
     },
     "execution_count": 7,
     "metadata": {},
     "output_type": "execute_result"
    }
   ],
   "source": [
    "states[0].dom.visualize()"
   ]
  },
  {
   "cell_type": "code",
   "execution_count": 8,
   "metadata": {},
   "outputs": [
    {
     "data": {
      "text/plain": [
       "['Close', 'the', 'dialog', 'box', 'by', 'clicking', 'the', '\"', 'x', '\"', '.']"
      ]
     },
     "execution_count": 8,
     "metadata": {},
     "output_type": "execute_result"
    }
   ],
   "source": [
    "states[0].tokens"
   ]
  },
  {
   "cell_type": "code",
   "execution_count": 9,
   "metadata": {},
   "outputs": [
    {
     "name": "stderr",
     "output_type": "stream",
     "text": [
      "WARNING:urllib3.connectionpool:Retrying (Retry(total=2, connect=None, read=None, redirect=None, status=None)) after connection broken by 'NewConnectionError('<urllib3.connection.HTTPConnection object at 0x7f2f0d226f70>: Failed to establish a new connection: [Errno 111] Connection refused')': /session/3801c0f3af5d57e01b75312260465486\n",
      "WARNING:urllib3.connectionpool:Retrying (Retry(total=2, connect=None, read=None, redirect=None, status=None)) after connection broken by 'NewConnectionError('<urllib3.connection.HTTPConnection object at 0x7f2ec4192460>: Failed to establish a new connection: [Errno 111] Connection refused')': /session/e8a28ba664277ca928649f4fa59d7c61\n",
      "WARNING:urllib3.connectionpool:Retrying (Retry(total=2, connect=None, read=None, redirect=None, status=None)) after connection broken by 'NewConnectionError('<urllib3.connection.HTTPConnection object at 0x7f2f0d226d30>: Failed to establish a new connection: [Errno 111] Connection refused')': /session/28d4c60c5562d48ec2bc2dd6c845fd57\n",
      "WARNING:urllib3.connectionpool:Retrying (Retry(total=1, connect=None, read=None, redirect=None, status=None)) after connection broken by 'NewConnectionError('<urllib3.connection.HTTPConnection object at 0x7f2f0d226e20>: Failed to establish a new connection: [Errno 111] Connection refused')': /session/3801c0f3af5d57e01b75312260465486\n"
     ]
    }
   ],
   "source": [
    "env.close()"
   ]
  },
  {
   "cell_type": "markdown",
   "metadata": {},
   "source": [
    "# Set device"
   ]
  },
  {
   "cell_type": "code",
   "execution_count": 10,
   "metadata": {},
   "outputs": [
    {
     "name": "stderr",
     "output_type": "stream",
     "text": [
      "WARNING:urllib3.connectionpool:Retrying (Retry(total=1, connect=None, read=None, redirect=None, status=None)) after connection broken by 'NewConnectionError('<urllib3.connection.HTTPConnection object at 0x7f2f0d2269a0>: Failed to establish a new connection: [Errno 111] Connection refused')': /session/e8a28ba664277ca928649f4fa59d7c61\n",
      "WARNING:urllib3.connectionpool:Retrying (Retry(total=1, connect=None, read=None, redirect=None, status=None)) after connection broken by 'NewConnectionError('<urllib3.connection.HTTPConnection object at 0x7f2f0d1d0190>: Failed to establish a new connection: [Errno 111] Connection refused')': /session/28d4c60c5562d48ec2bc2dd6c845fd57\n",
      "WARNING:urllib3.connectionpool:Retrying (Retry(total=0, connect=None, read=None, redirect=None, status=None)) after connection broken by 'NewConnectionError('<urllib3.connection.HTTPConnection object at 0x7f2f0d1d01f0>: Failed to establish a new connection: [Errno 111] Connection refused')': /session/3801c0f3af5d57e01b75312260465486\n",
      "WARNING:urllib3.connectionpool:Retrying (Retry(total=0, connect=None, read=None, redirect=None, status=None)) after connection broken by 'NewConnectionError('<urllib3.connection.HTTPConnection object at 0x7f2f0d1d06a0>: Failed to establish a new connection: [Errno 111] Connection refused')': /session/e8a28ba664277ca928649f4fa59d7c61\n"
     ]
    }
   ],
   "source": [
    "device = 'cuda:3'"
   ]
  },
  {
   "cell_type": "markdown",
   "metadata": {},
   "source": [
    "# Gym miniwob wrapper"
   ]
  },
  {
   "cell_type": "code",
   "execution_count": 11,
   "metadata": {},
   "outputs": [
    {
     "name": "stderr",
     "output_type": "stream",
     "text": [
      "WARNING:urllib3.connectionpool:Retrying (Retry(total=0, connect=None, read=None, redirect=None, status=None)) after connection broken by 'NewConnectionError('<urllib3.connection.HTTPConnection object at 0x7f2f0d226e80>: Failed to establish a new connection: [Errno 111] Connection refused')': /session/28d4c60c5562d48ec2bc2dd6c845fd57\n"
     ]
    }
   ],
   "source": [
    "import gym\n",
    "import torch\n",
    "import numpy as np\n",
    "\n",
    "from miniwob.action import MiniWoBElementClick, MiniWoBCoordClick\n",
    "from transformers import BertTokenizer, BertModel, BertConfig\n",
    "\n",
    "\n",
    "class MiniWobWrapper(gym.Wrapper):\n",
    "    \n",
    "    def __init__(self, env):      \n",
    "        super().__init__(env)\n",
    "        self.env = env\n",
    "        bert_model = 'bert-base-cased'\n",
    "        code_bert_model = \"microsoft/codebert-base\"\n",
    "        self.tokenizer = BertTokenizer.from_pretrained(bert_model)\n",
    "        self.n_tokens_goal = 8\n",
    "        self.n_tokens_dom = 128\n",
    "        self.dom_tokenizer = RobertaTokenizer.from_pretrained(code_bert_model)\n",
    "        \n",
    "        self.observation_space = gym.spaces.Dict({\"goal_state\": gym.spaces.Box(0, \n",
    "                                                                              self.tokenizer.vocab_size, \n",
    "                                                                              (self.n_tokens_goal, ),\n",
    "                                                                              dtype=np.int64), \n",
    "#                                                   \"dom_state\": gym.spaces.Box(0,\n",
    "#                                                                         self.dom_tokenizer.vocab_size,\n",
    "#                                                                         (self.n_tokens_dom, ), \n",
    "#                                                                               dtype=np.int64),\n",
    "                                                  \"img_state\": gym.spaces.Box(0, 255, (210, 160, 3), dtype=np.uint8)})\n",
    "        \n",
    "\n",
    "        self.h, self.w = 210, 160\n",
    "        \n",
    "    \n",
    "    def to_miniwob_actions(self, actions):\n",
    "        raise NotImplemmentedError\n",
    "        \n",
    "        \n",
    "    def _ob_to_token(self, ob):\n",
    "        if ob is None:\n",
    "            return torch.zeros(1, self.n_tokens_goal)\n",
    "        else: \n",
    "            return self.tokenizer(ob.tokens,  \n",
    "                                  padding='max_length', \n",
    "                                  max_length = self.n_tokens_goal, truncation=True,          \n",
    "                                  return_tensors=\"pt\",\n",
    "                                  is_split_into_words=True)['input_ids']\n",
    "        \n",
    "    def _ob_dom_to_token(self, ob):\n",
    "        if ob is None:\n",
    "            return torch.zeros(1, self.n_tokens_dom)\n",
    "        else: \n",
    "            dom = self.dom_tokenizer.tokenize(ob.dom.visualize())[:self.n_tokens_dom]\n",
    "            dom_str = \"website DOM-tree\"\n",
    "            dom_str_tokens = self.dom_tokenizer.tokenize(dom_str)\n",
    "            dom = [self.dom_tokenizer.cls_token] + dom_str_tokens + [self.dom_tokenizer.sep_token] \\\n",
    "                  + dom + [self.dom_tokenizer.sep_token] + [self.dom_tokenizer.pad_token] * self.n_tokens_dom\n",
    "            dom = self.dom_tokenizer.convert_tokens_to_ids(dom[:self.n_tokens_dom])\n",
    "            dom = torch.tensor(dom, dtype=torch.int64).unsqueeze(0)\n",
    "            return dom\n",
    "            \n",
    "    def _ob_to_image(self, ob):\n",
    "        if ob is None:\n",
    "            return torch.zeros(1, self.h, self.w, 3)\n",
    "        else:\n",
    "            return torch.tensor(pil_to_numpy_array(ob.screenshot)).unsqueeze(0)\n",
    "        \n",
    "    \n",
    "    def _to_miniwob_actions(self, actions):\n",
    "        \n",
    "        n_x = int(self.w/self.grid_step + 1)        \n",
    "        actions = actions.squeeze()\n",
    "        miniwob_actions = []\n",
    "        \n",
    "        for i in range(self.num_instances):\n",
    "            if self.instances[i].get_metadata()['done']:\n",
    "                miniwob_actions.append(None)\n",
    "            else:\n",
    "                k = actions[i].item()\n",
    "                x, y = k%n_x * self.grid_step, int(k/n_x) * self.grid_step\n",
    "                miniwob_actions.append(MiniWoBCoordClick(x, y))\n",
    "        return miniwob_actions\n",
    "        \n",
    "    \n",
    "    def observation(self, obs):\n",
    "        goals = torch.cat([self._ob_to_token(ob) for ob in obs], dim=0).to(device)\n",
    "        #doms = torch.cat([self._ob_dom_to_token(ob) for ob in obs], dim=0).to(device)\n",
    "        imgs = torch.cat([self._ob_to_image(ob) for ob in obs], dim=0).to(device)\n",
    "        return {\"img_state\": imgs, 'dom_state': None, 'goal_state': goals}\n",
    "    \n",
    "    def reset(self):\n",
    "        return self.observation(self.env.reset(record_screenshots=True))\n",
    "    \n",
    "            \n",
    "    \n",
    "    def step(self, actions):\n",
    "        \n",
    "        miniwob_actions = self.to_miniwob_actions(actions)\n",
    "        obs, rewards, dones, infos = self.env.step(miniwob_actions)        \n",
    "        obs = self.observation(obs)\n",
    "        \n",
    "        for instance in self.env.instances:\n",
    "            if instance.get_metadata()['done']:\n",
    "                instance.begin_task()\n",
    "        \n",
    "        return obs, torch.tensor([rewards]).T, torch.tensor([dones]).T, infos['n']\n",
    "    \n",
    "    \n",
    "class MiniWobClickButtonWrapper(MiniWobWrapper):\n",
    "    \n",
    "    def __init__(self, env):\n",
    "        super().__init__(env)\n",
    "        self.grid_step = 10\n",
    "        n_actions = int(self.h/self.grid_step+1) * int(self.w/self.grid_step+1)\n",
    "        self.action_space = gym.spaces.Discrete(n_actions)\n",
    "    \n",
    "    def to_miniwob_actions(self, actions):\n",
    "        \n",
    "        n_x = int(self.w/self.grid_step + 1)        \n",
    "        actions = actions.squeeze()\n",
    "        miniwob_actions = []\n",
    "        \n",
    "        for i in range(self.num_instances):\n",
    "            if self.instances[i].get_metadata()['done']:\n",
    "                miniwob_actions.append(None)\n",
    "            else:\n",
    "                k = actions[i].item()\n",
    "                x, y = k%n_x * self.grid_step, int(k/n_x) * self.grid_step\n",
    "                miniwob_actions.append(MiniWoBCoordClick(x, y))\n",
    "        return miniwob_actions\n",
    "    \n",
    "        \n",
    "class EpisodeInfoWrapper(gym.Wrapper):\n",
    "    \n",
    "    def __init__(self, env, n):\n",
    "        super(EpisodeInfoWrapper, self).__init__(env)\n",
    "        self.episode_reward = np.zeros(n)\n",
    "        self.episode_steps = np.zeros(n)\n",
    "        self.n = n\n",
    "\n",
    "    def reset(self):\n",
    "        self.episode_reward = np.zeros(self.n)\n",
    "        self.episode_steps = np.zeros(self.n)\n",
    "        return self.env.reset()\n",
    "\n",
    "    def step(self, actions):\n",
    "        states, rewards, dones, infos = self.env.step(actions)\n",
    "        \n",
    "        for i, done in enumerate(dones):\n",
    "            if done:\n",
    "                self.episode_reward[i] = rewards[i]\n",
    "                self.episode_steps[i] += 1\n",
    "                infos[i]['episode'] = {'r': self.episode_reward[i], 'steps': self.episode_steps[i]}\n",
    "                \n",
    "        return states, rewards, dones, infos\n",
    "    "
   ]
  },
  {
   "cell_type": "code",
   "execution_count": 12,
   "metadata": {},
   "outputs": [
    {
     "data": {
      "text/plain": [
       "'click-dialog'"
      ]
     },
     "execution_count": 12,
     "metadata": {},
     "output_type": "execute_result"
    }
   ],
   "source": [
    "task_name"
   ]
  },
  {
   "cell_type": "code",
   "execution_count": 13,
   "metadata": {},
   "outputs": [],
   "source": [
    "def get_envs(n, **kwargs):\n",
    "    env = MiniWoBEnvironment(task_name, seeds=range(n), num_instances=n, base_url=base_url, **kwargs)\n",
    "    env = MiniWobClickButtonWrapper(env)\n",
    "    return EpisodeInfoWrapper(env, n)"
   ]
  },
  {
   "cell_type": "markdown",
   "metadata": {},
   "source": [
    "# Bert encoder"
   ]
  },
  {
   "cell_type": "code",
   "execution_count": 14,
   "metadata": {},
   "outputs": [],
   "source": [
    "from transformers import BertTokenizer, BertModel, BertConfig\n",
    "from torch import nn\n",
    "import torch\n",
    "\n",
    "class BertEncoder(nn.Module):\n",
    "    \n",
    "    def __init__(self):\n",
    "        \n",
    "        super().__init__()\n",
    "        bert_model = 'bert-base-cased'\n",
    "        self.bert_encoder = BertModel.from_pretrained(bert_model).to(device)\n",
    "        self.embed_dim = 768\n",
    "        output_size = 100\n",
    "        self.lstm = nn.LSTM(input_size=self.embed_dim, \n",
    "                            hidden_size=output_size, \n",
    "                            num_layers=2)\n",
    "        self.hidden_size = 128\n",
    "        in_size = output_size\n",
    "        out_size = self.hidden_size\n",
    "        self.fc = nn.Sequential(nn.Linear(in_size, out_size), nn.ReLU())\n",
    "        self.output_size = out_size\n",
    "   \n",
    "    def forward(self, input_ids):\n",
    "        \"\"\"\n",
    "        Encode batch of tokens\n",
    "        \n",
    "        \"\"\"\n",
    "        with torch.no_grad():\n",
    "            embeds = self.bert_encoder(input_ids.long()).last_hidden_state\n",
    "        embeds = embeds.permute([1, 0, 2])\n",
    "            \n",
    "        output, _ = self.lstm(embeds)\n",
    "        return self.fc(output[-1])"
   ]
  },
  {
   "cell_type": "markdown",
   "metadata": {},
   "source": [
    "# Resnet Encoder"
   ]
  },
  {
   "cell_type": "code",
   "execution_count": 15,
   "metadata": {},
   "outputs": [],
   "source": [
    "import torchvision.models as zoo_models\n",
    "\n",
    "class ResNetEncoder(nn.Module):\n",
    "    def __init__(self):\n",
    "        super().__init__()\n",
    "        resnet = zoo_models.resnet34(pretrained=True)\n",
    "        self.output_size = 32\n",
    "        self.resnet = nn.Sequential(*list(resnet.children())[:-1])\n",
    "        in_size, out_size = 512, self.output_size\n",
    "        self.fc = nn.Sequential(nn.Linear(in_size, out_size), nn.ReLU())\n",
    "\n",
    "    def forward(self, x):\n",
    "        x = x.permute(0, 3, 1, 2)\n",
    "        with torch.no_grad():\n",
    "            encoded = self.resnet(x).reshape(x.shape[0], -1)\n",
    "        return self.fc(encoded)"
   ]
  },
  {
   "cell_type": "markdown",
   "metadata": {},
   "source": [
    "# CNN encoder"
   ]
  },
  {
   "cell_type": "code",
   "execution_count": 16,
   "metadata": {},
   "outputs": [],
   "source": [
    "class Permute(nn.Module):\n",
    "    def __init__(self, *args):\n",
    "        super().__init__()\n",
    "        self.dims = args\n",
    "\n",
    "    def forward(self, x):\n",
    "        return x.permute(self.dims)\n",
    "\n",
    "class SimpleCNN(nn.Module):\n",
    "    def __init__(self, h, w, conf):\n",
    "        super().__init__()\n",
    "        conv_layers = [Permute(0, 3, 1, 2)]\n",
    "        cnn_output_h, cnn_output_w = h, w\n",
    "        cur_channels = 3\n",
    "        conv_params = zip(\n",
    "            conf['n_channels'],\n",
    "            conf['kernel_sizes'],\n",
    "            conf['max_pools'] if conf.get('max_pools', False) else [1] * len(conf['n_channels']),\n",
    "            conf['strides'] if conf.get('strides', False) else [1] * len(conf['n_channels'])\n",
    "        )\n",
    "        for n_channels, kernel_size, max_pool, stride in conv_params:\n",
    "            conv_layers.append(nn.Conv2d(cur_channels, n_channels, kernel_size, stride))\n",
    "            conv_layers.append(nn.ReLU(inplace=True))\n",
    "            cnn_output_h += -1 * kernel_size + stride\n",
    "            cnn_output_w += -1 * kernel_size + stride\n",
    "            cnn_output_h //= stride\n",
    "            cnn_output_w //= stride\n",
    "            cur_channels = n_channels\n",
    "            if max_pool > 1:\n",
    "                conv_layers.append(nn.MaxPool2d(max_pool, max_pool))\n",
    "                cnn_output_h //= max_pool\n",
    "                cnn_output_w //= max_pool\n",
    "        self.conv_net = nn.Sequential(*conv_layers)\n",
    "        output_size = cur_channels * cnn_output_h * cnn_output_w\n",
    "\n",
    "        hidden_layers_sizes = list(conf.get('hidden_layers_sizes', []))\n",
    "        if hidden_layers_sizes:\n",
    "            fc_layers = []\n",
    "            layers_size = [output_size] + hidden_layers_sizes\n",
    "            for size_in, size_out in zip(layers_size[:-1], layers_size[1:]):\n",
    "                fc_layers.append(nn.Linear(size_in, size_out))\n",
    "                fc_layers.append(nn.ReLU())\n",
    "            self.fc = nn.Sequential(*fc_layers)\n",
    "            output_size = layers_size[-1]\n",
    "        else:\n",
    "            self.fc = None\n",
    "\n",
    "        self.output_size = output_size\n",
    "\n",
    "    def forward(self, x):\n",
    "        res = self.conv_net(x.float() / 255.).reshape(x.shape[0], -1)\n",
    "        if self.fc is not None:\n",
    "            res = self.fc(res)\n",
    "        return res"
   ]
  },
  {
   "cell_type": "markdown",
   "metadata": {},
   "source": [
    "# Dom encoder"
   ]
  },
  {
   "cell_type": "code",
   "execution_count": 17,
   "metadata": {},
   "outputs": [],
   "source": [
    "from transformers import RobertaTokenizer, RobertaConfig, RobertaModel\n",
    "\n",
    "class DomEncoder(nn.Module):\n",
    "    \n",
    "    def __init__(self):\n",
    "        super().__init__()\n",
    "        \n",
    "        self.bert_encoder = RobertaModel.from_pretrained(\"microsoft/codebert-base\")\n",
    "        self.embed_dim = 768\n",
    "        self.output_size = 100\n",
    "        self.lstm = nn.LSTM(input_size=self.embed_dim,\n",
    "                            hidden_size=self.output_size, \n",
    "                            num_layers=2)\n",
    "        self.hidden_size = 128\n",
    "        in_size = self.output_size\n",
    "        out_size = self.hidden_size\n",
    "        self.fc = nn.Sequential(nn.Linear(in_size, out_size), nn.ReLU())\n",
    "        self.output_size = out_size\n",
    "        \n",
    "   \n",
    "    def forward(self, input_ids):\n",
    "        \"\"\"\n",
    "        Encode batch of tokens\n",
    "        \n",
    "        \"\"\"\n",
    "        with torch.no_grad():\n",
    "            embeds = self.bert_encoder(input_ids.long()).last_hidden_state\n",
    "        embeds = embeds.permute([1, 0, 2])\n",
    "            \n",
    "        output, _ = self.lstm(embeds)\n",
    "        return self.fc(output[-1])"
   ]
  },
  {
   "cell_type": "code",
   "execution_count": 18,
   "metadata": {},
   "outputs": [],
   "source": [
    "class GoalStateEncoder(nn.Module):\n",
    "\n",
    "    def __init__(self, img_state_encoder, dom_state_encoder, goal_state_encoder):\n",
    "        super().__init__()\n",
    "        self.img_state_encoder = img_state_encoder\n",
    "        self.dom_state_encoder = dom_state_encoder\n",
    "        self.goal_state_encoder = goal_state_encoder\n",
    "        self.output_size = img_state_encoder.output_size + \\\n",
    "                           goal_state_encoder.output_size\n",
    "                           # dom_state_encoder.output_size + \\\n",
    "\n",
    "    def forward(self, states_and_goals):\n",
    "        goal_encoding = self.goal_state_encoder.forward(states_and_goals['goal_state'])\n",
    "        img_state_encoding = self.img_state_encoder.forward(states_and_goals['img_state'])\n",
    "        # dom_state_encoding = self.dom_state_encoder.forward(states_and_goals['dom_state'])\n",
    "        return torch.cat([img_state_encoding, goal_encoding], dim=1)"
   ]
  },
  {
   "cell_type": "markdown",
   "metadata": {},
   "source": [
    "# Init encoders"
   ]
  },
  {
   "cell_type": "code",
   "execution_count": 19,
   "metadata": {},
   "outputs": [
    {
     "name": "stderr",
     "output_type": "stream",
     "text": [
      "Some weights of the model checkpoint at bert-base-cased were not used when initializing BertModel: ['cls.predictions.transform.dense.weight', 'cls.predictions.transform.LayerNorm.bias', 'cls.predictions.bias', 'cls.predictions.decoder.weight', 'cls.predictions.transform.dense.bias', 'cls.predictions.transform.LayerNorm.weight', 'cls.seq_relationship.weight', 'cls.seq_relationship.bias']\n",
      "- This IS expected if you are initializing BertModel from the checkpoint of a model trained on another task or with another architecture (e.g. initializing a BertForSequenceClassification model from a BertForPreTraining model).\n",
      "- This IS NOT expected if you are initializing BertModel from the checkpoint of a model that you expect to be exactly identical (initializing a BertForSequenceClassification model from a BertForSequenceClassification model).\n"
     ]
    }
   ],
   "source": [
    "conf = {\n",
    "    \"n_channels\": [32, 32, 32, 32, 32, 32],\n",
    "    \"kernel_sizes\": [4, 4, 4, 4, 4, 4],\n",
    "    \"strides\": [4, 2, 1, 1, 1, 1],\n",
    "    \"hidden_layers_sizes\": [128]\n",
    "}\n",
    "\n",
    "img_encoder = SimpleCNN(h=210, w=160, conf=conf).to(device)\n",
    "dom_encoder = None # DomEncoder().to(device)\n",
    "goal_encoder = BertEncoder().to(device)\n",
    "encoder = GoalStateEncoder(img_encoder, dom_encoder, goal_encoder).to(device)"
   ]
  },
  {
   "cell_type": "markdown",
   "metadata": {},
   "source": [
    "# Train agent"
   ]
  },
  {
   "cell_type": "code",
   "execution_count": 20,
   "metadata": {},
   "outputs": [],
   "source": [
    "n_instances = 16\n",
    "envs = get_envs(n_instances, headless=True)"
   ]
  },
  {
   "cell_type": "code",
   "execution_count": 21,
   "metadata": {},
   "outputs": [],
   "source": [
    "from rllr.algo import PPO\n",
    "from rllr.models.ppo import ActorCriticNetwork\n",
    "\n",
    "hidden_size = 32\n",
    "policy = ActorCriticNetwork(envs.action_space, encoder, encoder, hidden_size, hidden_size).to(device)\n",
    "\n",
    "agent_conf = {\n",
    "        \"clip_param\": 0.2,\n",
    "        \"ppo_epoch\": 4,\n",
    "        \"num_mini_batch\": 4,\n",
    "        \"value_loss_coef\": 0.5,\n",
    "        \"entropy_coef\": 0.01,\n",
    "        \"lr\": 0.001,\n",
    "        \"eps\": 1e-5,\n",
    "        \"max_grad_norm\": 0.5,\n",
    "}\n",
    "\n",
    "\n",
    "agent = PPO(policy, **agent_conf)"
   ]
  },
  {
   "cell_type": "code",
   "execution_count": 22,
   "metadata": {},
   "outputs": [],
   "source": [
    "# agent = torch.load(\"miniwob_click_button.p\")"
   ]
  },
  {
   "cell_type": "code",
   "execution_count": null,
   "metadata": {
    "scrolled": false
   },
   "outputs": [
    {
     "name": "stderr",
     "output_type": "stream",
     "text": [
      "  0%|          | 0/62 [00:00<?, ?it/s]WARNING:root:Cannot call CoordClick(coords: (90, 20)) on instance 3, which is already done\n",
      "WARNING:root:Cannot call CoordClick(coords: (60, 30)) on instance 14, which is already done\n"
     ]
    },
    {
     "name": "stdout",
     "output_type": "stream",
     "text": [
      "Updates 0, num timesteps 1600, FPS 22 \n",
      "Last 10 training episodes: mean/median reward -0.20/-0.40, min/max reward -1.00/0.96\n",
      "dist_entropy 5.91, value_loss 0.05, action_loss -0.01\n"
     ]
    },
    {
     "name": "stderr",
     "output_type": "stream",
     "text": [
      "  2%|▏         | 1/62 [01:10<1:11:54, 70.73s/it]WARNING:root:Cannot call CoordClick(coords: (100, 90)) on instance 9, which is already done\n",
      "WARNING:root:Cannot call CoordClick(coords: (0, 160)) on instance 10, which is already done\n",
      "  3%|▎         | 2/62 [02:20<1:10:15, 70.25s/it]WARNING:root:Cannot call CoordClick(coords: (130, 70)) on instance 0, which is already done\n",
      "WARNING:root:Cannot call CoordClick(coords: (100, 210)) on instance 10, which is already done\n",
      "WARNING:root:Cannot call CoordClick(coords: (100, 70)) on instance 7, which is already done\n",
      "WARNING:root:Cannot call CoordClick(coords: (70, 0)) on instance 14, which is already done\n",
      "WARNING:root:Cannot call CoordClick(coords: (120, 130)) on instance 6, which is already done\n",
      "WARNING:root:Cannot call CoordClick(coords: (110, 170)) on instance 11, which is already done\n",
      "  5%|▍         | 3/62 [03:29<1:08:39, 69.82s/it]WARNING:root:Cannot call CoordClick(coords: (160, 200)) on instance 3, which is already done\n",
      "WARNING:root:Cannot call CoordClick(coords: (40, 30)) on instance 8, which is already done\n",
      "WARNING:root:Cannot call CoordClick(coords: (30, 60)) on instance 2, which is already done\n",
      "WARNING:root:Cannot call CoordClick(coords: (90, 110)) on instance 1, which is already done\n",
      "WARNING:root:Cannot call CoordClick(coords: (60, 190)) on instance 0, which is already done\n",
      "WARNING:root:Cannot call CoordClick(coords: (0, 90)) on instance 4, which is already done\n",
      "WARNING:root:Cannot call CoordClick(coords: (60, 10)) on instance 14, which is already done\n",
      "WARNING:root:Cannot call CoordClick(coords: (130, 20)) on instance 8, which is already done\n",
      "WARNING:root:Cannot call CoordClick(coords: (20, 150)) on instance 1, which is already done\n",
      "WARNING:root:Cannot call CoordClick(coords: (10, 40)) on instance 0, which is already done\n",
      "WARNING:root:Cannot call CoordClick(coords: (150, 90)) on instance 4, which is already done\n",
      "WARNING:root:Cannot call CoordClick(coords: (80, 120)) on instance 7, which is already done\n",
      "WARNING:root:Cannot call CoordClick(coords: (20, 120)) on instance 15, which is already done\n",
      "WARNING:root:Cannot call CoordClick(coords: (150, 10)) on instance 8, which is already done\n",
      "WARNING:root:Cannot call CoordClick(coords: (130, 210)) on instance 1, which is already done\n",
      "  6%|▋         | 4/62 [04:39<1:07:13, 69.54s/it]WARNING:root:Cannot call CoordClick(coords: (20, 50)) on instance 7, which is already done\n",
      "WARNING:root:Cannot call CoordClick(coords: (110, 160)) on instance 8, which is already done\n",
      "  8%|▊         | 5/62 [05:48<1:05:54, 69.38s/it]"
     ]
    },
    {
     "name": "stdout",
     "output_type": "stream",
     "text": [
      "Updates 5, num timesteps 9600, FPS 22 \n",
      "Last 10 training episodes: mean/median reward 0.16/0.53, min/max reward -1.00/0.89\n",
      "dist_entropy 5.81, value_loss 0.06, action_loss -0.01\n"
     ]
    },
    {
     "name": "stderr",
     "output_type": "stream",
     "text": [
      " 10%|▉         | 6/62 [06:58<1:05:02, 69.68s/it]WARNING:root:Cannot call CoordClick(coords: (90, 110)) on instance 14, which is already done\n",
      "WARNING:root:Cannot call CoordClick(coords: (90, 130)) on instance 12, which is already done\n",
      "WARNING:root:Cannot call CoordClick(coords: (20, 140)) on instance 0, which is already done\n",
      "WARNING:root:Cannot call CoordClick(coords: (50, 0)) on instance 14, which is already done\n",
      "WARNING:root:Cannot call CoordClick(coords: (0, 20)) on instance 9, which is already done\n",
      "WARNING:root:Cannot call CoordClick(coords: (80, 140)) on instance 15, which is already done\n",
      "WARNING:root:Cannot call CoordClick(coords: (100, 50)) on instance 0, which is already done\n",
      " 11%|█▏        | 7/62 [08:07<1:03:33, 69.34s/it]WARNING:root:Cannot call CoordClick(coords: (60, 130)) on instance 3, which is already done\n",
      "WARNING:root:Cannot call CoordClick(coords: (30, 200)) on instance 1, which is already done\n",
      "WARNING:root:Cannot call CoordClick(coords: (40, 90)) on instance 8, which is already done\n",
      " 13%|█▎        | 8/62 [09:15<1:02:16, 69.20s/it]WARNING:root:Cannot call CoordClick(coords: (10, 120)) on instance 4, which is already done\n",
      "WARNING:root:Cannot call CoordClick(coords: (10, 150)) on instance 10, which is already done\n",
      "WARNING:root:Cannot call CoordClick(coords: (90, 180)) on instance 2, which is already done\n",
      " 15%|█▍        | 9/62 [10:24<1:01:03, 69.12s/it]WARNING:root:Cannot call CoordClick(coords: (70, 60)) on instance 2, which is already done\n",
      "WARNING:root:Cannot call CoordClick(coords: (40, 150)) on instance 7, which is already done\n",
      "WARNING:root:Cannot call CoordClick(coords: (30, 30)) on instance 15, which is already done\n",
      " 16%|█▌        | 10/62 [11:33<59:46, 68.96s/it] WARNING:root:Cannot call CoordClick(coords: (10, 80)) on instance 9, which is already done\n",
      "WARNING:root:Cannot call CoordClick(coords: (60, 80)) on instance 4, which is already done\n",
      "WARNING:root:Cannot call CoordClick(coords: (110, 130)) on instance 1, which is already done\n",
      "WARNING:root:Cannot call CoordClick(coords: (100, 160)) on instance 4, which is already done\n"
     ]
    },
    {
     "name": "stdout",
     "output_type": "stream",
     "text": [
      "Updates 10, num timesteps 17600, FPS 23 \n",
      "Last 10 training episodes: mean/median reward -0.06/0.07, min/max reward -1.00/0.96\n",
      "dist_entropy 5.69, value_loss 0.06, action_loss -0.01\n"
     ]
    },
    {
     "name": "stderr",
     "output_type": "stream",
     "text": [
      " 18%|█▊        | 11/62 [12:43<58:48, 69.18s/it]WARNING:root:Cannot call CoordClick(coords: (120, 90)) on instance 1, which is already done\n",
      "WARNING:root:Cannot call CoordClick(coords: (110, 100)) on instance 7, which is already done\n",
      "WARNING:root:Cannot call CoordClick(coords: (60, 0)) on instance 11, which is already done\n",
      "WARNING:root:Cannot call CoordClick(coords: (100, 10)) on instance 6, which is already done\n",
      "WARNING:root:Cannot call CoordClick(coords: (50, 190)) on instance 9, which is already done\n",
      " 19%|█▉        | 12/62 [13:52<57:37, 69.15s/it]WARNING:root:Cannot call CoordClick(coords: (90, 30)) on instance 9, which is already done\n",
      "WARNING:root:Cannot call CoordClick(coords: (150, 160)) on instance 10, which is already done\n",
      "WARNING:root:Cannot call CoordClick(coords: (120, 90)) on instance 4, which is already done\n",
      "WARNING:root:Cannot call CoordClick(coords: (140, 200)) on instance 1, which is already done\n",
      "WARNING:root:Cannot call CoordClick(coords: (90, 70)) on instance 7, which is already done\n",
      "WARNING:root:Cannot call CoordClick(coords: (90, 80)) on instance 6, which is already done\n",
      "WARNING:root:Cannot call CoordClick(coords: (120, 90)) on instance 13, which is already done\n",
      "WARNING:root:Cannot call CoordClick(coords: (100, 0)) on instance 15, which is already done\n",
      "WARNING:root:Cannot call CoordClick(coords: (10, 180)) on instance 3, which is already done\n",
      "WARNING:root:Cannot call CoordClick(coords: (120, 40)) on instance 13, which is already done\n",
      " 21%|██        | 13/62 [15:01<56:36, 69.32s/it]WARNING:root:Cannot call CoordClick(coords: (10, 30)) on instance 14, which is already done\n",
      "WARNING:root:Cannot call CoordClick(coords: (110, 100)) on instance 4, which is already done\n",
      "WARNING:root:Cannot call CoordClick(coords: (60, 90)) on instance 0, which is already done\n",
      "WARNING:root:Cannot call CoordClick(coords: (80, 20)) on instance 8, which is already done\n",
      "WARNING:root:Cannot call CoordClick(coords: (40, 40)) on instance 12, which is already done\n",
      "WARNING:root:Cannot call CoordClick(coords: (160, 80)) on instance 7, which is already done\n",
      "WARNING:root:Cannot call CoordClick(coords: (140, 190)) on instance 6, which is already done\n",
      " 23%|██▎       | 14/62 [16:11<55:31, 69.41s/it]WARNING:root:Cannot call CoordClick(coords: (140, 200)) on instance 1, which is already done\n",
      "WARNING:root:Cannot call CoordClick(coords: (10, 210)) on instance 3, which is already done\n",
      "WARNING:root:Cannot call CoordClick(coords: (80, 10)) on instance 1, which is already done\n",
      "WARNING:root:Cannot call CoordClick(coords: (70, 0)) on instance 7, which is already done\n",
      "WARNING:root:Cannot call CoordClick(coords: (110, 50)) on instance 4, which is already done\n",
      "WARNING:root:Cannot call CoordClick(coords: (30, 60)) on instance 0, which is already done\n",
      "WARNING:root:Cannot call CoordClick(coords: (30, 30)) on instance 8, which is already done\n",
      " 24%|██▍       | 15/62 [17:21<54:29, 69.56s/it]WARNING:root:Cannot call CoordClick(coords: (30, 90)) on instance 11, which is already done\n",
      "WARNING:root:Cannot call CoordClick(coords: (110, 80)) on instance 6, which is already done\n",
      "WARNING:root:Cannot call CoordClick(coords: (100, 140)) on instance 10, which is already done\n",
      "WARNING:root:Cannot call CoordClick(coords: (110, 160)) on instance 9, which is already done\n"
     ]
    },
    {
     "name": "stdout",
     "output_type": "stream",
     "text": [
      "Updates 15, num timesteps 25600, FPS 23 \n",
      "Last 10 training episodes: mean/median reward -0.11/0.09, min/max reward -1.00/0.71\n",
      "dist_entropy 5.42, value_loss 0.09, action_loss -0.02\n"
     ]
    },
    {
     "name": "stderr",
     "output_type": "stream",
     "text": [
      " 26%|██▌       | 16/62 [18:32<53:46, 70.14s/it]WARNING:root:Cannot call CoordClick(coords: (100, 90)) on instance 0, which is already done\n",
      "WARNING:root:Cannot call CoordClick(coords: (80, 70)) on instance 1, which is already done\n",
      "WARNING:root:Cannot call CoordClick(coords: (70, 190)) on instance 14, which is already done\n",
      "WARNING:root:Cannot call CoordClick(coords: (30, 50)) on instance 0, which is already done\n",
      "WARNING:root:Cannot call CoordClick(coords: (40, 100)) on instance 7, which is already done\n",
      " 27%|██▋       | 17/62 [19:42<52:28, 69.96s/it]WARNING:root:Cannot call CoordClick(coords: (20, 160)) on instance 15, which is already done\n",
      "WARNING:root:Cannot call CoordClick(coords: (0, 20)) on instance 4, which is already done\n",
      "WARNING:root:Cannot call CoordClick(coords: (40, 140)) on instance 0, which is already done\n",
      "WARNING:root:Cannot call CoordClick(coords: (150, 90)) on instance 2, which is already done\n",
      "WARNING:root:Cannot call CoordClick(coords: (70, 180)) on instance 7, which is already done\n",
      "WARNING:root:Cannot call CoordClick(coords: (40, 170)) on instance 1, which is already done\n",
      " 31%|███       | 19/62 [22:02<50:07, 69.94s/it]WARNING:root:Cannot call CoordClick(coords: (100, 90)) on instance 1, which is already done\n",
      "WARNING:root:Cannot call CoordClick(coords: (70, 210)) on instance 2, which is already done\n",
      "WARNING:root:Cannot call CoordClick(coords: (130, 90)) on instance 1, which is already done\n",
      "WARNING:root:Cannot call CoordClick(coords: (110, 40)) on instance 8, which is already done\n",
      " 32%|███▏      | 20/62 [23:12<49:02, 70.07s/it]WARNING:root:Cannot call CoordClick(coords: (120, 90)) on instance 5, which is already done\n",
      "WARNING:root:Cannot call CoordClick(coords: (90, 0)) on instance 0, which is already done\n"
     ]
    },
    {
     "name": "stdout",
     "output_type": "stream",
     "text": [
      "Updates 20, num timesteps 33600, FPS 22 \n",
      "Last 10 training episodes: mean/median reward 0.47/0.47, min/max reward 0.09/0.89\n",
      "dist_entropy 5.11, value_loss 0.09, action_loss -0.02\n"
     ]
    },
    {
     "name": "stderr",
     "output_type": "stream",
     "text": [
      " 34%|███▍      | 21/62 [24:24<48:10, 70.49s/it]WARNING:root:Cannot call CoordClick(coords: (150, 190)) on instance 7, which is already done\n",
      "WARNING:root:Cannot call CoordClick(coords: (160, 80)) on instance 6, which is already done\n",
      "WARNING:root:Cannot call CoordClick(coords: (0, 120)) on instance 2, which is already done\n",
      "WARNING:root:Cannot call CoordClick(coords: (30, 30)) on instance 1, which is already done\n",
      "WARNING:root:Cannot call CoordClick(coords: (90, 30)) on instance 4, which is already done\n",
      "WARNING:root:Cannot call CoordClick(coords: (90, 100)) on instance 0, which is already done\n",
      " 35%|███▌      | 22/62 [25:34<47:00, 70.51s/it]WARNING:root:Cannot call CoordClick(coords: (110, 80)) on instance 1, which is already done\n",
      "WARNING:root:Cannot call CoordClick(coords: (120, 90)) on instance 2, which is already done\n",
      " 37%|███▋      | 23/62 [26:45<45:47, 70.44s/it]WARNING:root:Cannot call CoordClick(coords: (50, 200)) on instance 10, which is already done\n",
      "WARNING:root:Cannot call CoordClick(coords: (100, 70)) on instance 4, which is already done\n",
      "WARNING:root:Cannot call CoordClick(coords: (0, 20)) on instance 12, which is already done\n",
      " 39%|███▊      | 24/62 [27:55<44:39, 70.52s/it]WARNING:root:Cannot call CoordClick(coords: (110, 20)) on instance 4, which is already done\n",
      " 40%|████      | 25/62 [29:06<43:25, 70.41s/it]WARNING:root:Cannot call CoordClick(coords: (130, 120)) on instance 8, which is already done\n",
      "WARNING:root:Cannot call CoordClick(coords: (100, 110)) on instance 2, which is already done\n"
     ]
    },
    {
     "name": "stdout",
     "output_type": "stream",
     "text": [
      "Updates 25, num timesteps 41600, FPS 22 \n",
      "Last 10 training episodes: mean/median reward 0.29/0.50, min/max reward -1.00/0.95\n",
      "dist_entropy 4.80, value_loss 0.05, action_loss -0.01\n"
     ]
    },
    {
     "name": "stderr",
     "output_type": "stream",
     "text": [
      " 42%|████▏     | 26/62 [30:16<42:17, 70.48s/it]WARNING:root:Cannot call CoordClick(coords: (20, 90)) on instance 10, which is already done\n",
      " 44%|████▎     | 27/62 [31:29<41:27, 71.07s/it]WARNING:root:Cannot call CoordClick(coords: (150, 20)) on instance 2, which is already done\n",
      "WARNING:root:Cannot call CoordClick(coords: (160, 40)) on instance 4, which is already done\n",
      " 45%|████▌     | 28/62 [32:40<40:17, 71.11s/it]WARNING:root:Cannot call CoordClick(coords: (50, 140)) on instance 3, which is already done\n",
      " 48%|████▊     | 30/62 [35:02<37:55, 71.11s/it]"
     ]
    },
    {
     "name": "stdout",
     "output_type": "stream",
     "text": [
      "Updates 30, num timesteps 49600, FPS 22 \n",
      "Last 10 training episodes: mean/median reward 0.50/0.69, min/max reward -1.00/0.96\n",
      "dist_entropy 4.10, value_loss 0.06, action_loss -0.01\n"
     ]
    },
    {
     "name": "stderr",
     "output_type": "stream",
     "text": [
      " 50%|█████     | 31/62 [36:15<37:05, 71.79s/it]WARNING:root:Cannot call CoordClick(coords: (50, 210)) on instance 13, which is already done\n",
      " 53%|█████▎    | 33/62 [38:39<34:39, 71.70s/it]WARNING:root:Cannot call CoordClick(coords: (30, 120)) on instance 12, which is already done\n",
      "WARNING:root:Cannot call CoordClick(coords: (100, 60)) on instance 11, which is already done\n",
      "WARNING:root:Cannot call CoordClick(coords: (70, 200)) on instance 4, which is already done\n",
      " 56%|█████▋    | 35/62 [42:12<39:10, 87.07s/it]WARNING:root:Cannot call CoordClick(coords: (100, 100)) on instance 9, which is already done\n",
      "WARNING:root:Cannot call CoordClick(coords: (100, 90)) on instance 14, which is already done\n",
      "WARNING:root:Cannot call CoordClick(coords: (100, 90)) on instance 0, which is already done\n"
     ]
    },
    {
     "name": "stdout",
     "output_type": "stream",
     "text": [
      "Updates 35, num timesteps 57600, FPS 22 \n",
      "Last 10 training episodes: mean/median reward 0.81/0.84, min/max reward 0.40/0.96\n",
      "dist_entropy 3.39, value_loss 0.05, action_loss -0.01\n"
     ]
    },
    {
     "name": "stderr",
     "output_type": "stream",
     "text": [
      " 58%|█████▊    | 36/62 [43:26<35:59, 83.06s/it]WARNING:root:Cannot call CoordClick(coords: (100, 100)) on instance 2, which is already done\n",
      "WARNING:root:Cannot call CoordClick(coords: (100, 90)) on instance 8, which is already done\n",
      "WARNING:root:Cannot call CoordClick(coords: (120, 80)) on instance 11, which is already done\n",
      "WARNING:root:Cannot call CoordClick(coords: (140, 10)) on instance 5, which is already done\n",
      "WARNING:root:Cannot call CoordClick(coords: (110, 80)) on instance 12, which is already done\n",
      "WARNING:root:Cannot call CoordClick(coords: (100, 90)) on instance 14, which is already done\n",
      "WARNING:root:Cannot call CoordClick(coords: (100, 90)) on instance 10, which is already done\n",
      " 60%|█████▉    | 37/62 [45:49<42:06, 101.07s/it]WARNING:root:Cannot call CoordClick(coords: (120, 90)) on instance 3, which is already done\n",
      "WARNING:root:Cannot call CoordClick(coords: (110, 90)) on instance 2, which is already done\n",
      " 61%|██████▏   | 38/62 [50:34<1:02:30, 156.25s/it]WARNING:root:Cannot call CoordClick(coords: (120, 170)) on instance 1, which is already done\n",
      "WARNING:root:Cannot call CoordClick(coords: (100, 90)) on instance 1, which is already done\n",
      "WARNING:root:Cannot call CoordClick(coords: (110, 80)) on instance 4, which is already done\n",
      "WARNING:root:Cannot call CoordClick(coords: (50, 140)) on instance 6, which is already done\n",
      "WARNING:root:Cannot call CoordClick(coords: (100, 90)) on instance 6, which is already done\n",
      "WARNING:root:Cannot call CoordClick(coords: (110, 90)) on instance 2, which is already done\n",
      "WARNING:root:Cannot call CoordClick(coords: (110, 80)) on instance 5, which is already done\n",
      "WARNING:root:Cannot call CoordClick(coords: (100, 110)) on instance 2, which is already done\n",
      "WARNING:root:Cannot call CoordClick(coords: (100, 90)) on instance 1, which is already done\n",
      " 63%|██████▎   | 39/62 [55:40<1:17:04, 201.08s/it]WARNING:root:Cannot call CoordClick(coords: (110, 90)) on instance 5, which is already done\n",
      "WARNING:root:Cannot call CoordClick(coords: (90, 90)) on instance 0, which is already done\n",
      "WARNING:root:Cannot call CoordClick(coords: (110, 100)) on instance 8, which is already done\n",
      "WARNING:root:Cannot call CoordClick(coords: (100, 110)) on instance 0, which is already done\n",
      " 65%|██████▍   | 40/62 [1:00:09<1:21:12, 221.49s/it]WARNING:root:Cannot call CoordClick(coords: (50, 60)) on instance 12, which is already done\n",
      "WARNING:root:Cannot call CoordClick(coords: (120, 40)) on instance 1, which is already done\n",
      "WARNING:root:Cannot call CoordClick(coords: (120, 90)) on instance 2, which is already done\n",
      "WARNING:root:Cannot call CoordClick(coords: (110, 90)) on instance 4, which is already done\n",
      "WARNING:root:Cannot call CoordClick(coords: (110, 80)) on instance 9, which is already done\n",
      "WARNING:root:Cannot call CoordClick(coords: (120, 90)) on instance 6, which is already done\n"
     ]
    },
    {
     "name": "stdout",
     "output_type": "stream",
     "text": [
      "Updates 40, num timesteps 65600, FPS 17 \n",
      "Last 10 training episodes: mean/median reward 0.58/0.56, min/max reward 0.03/0.94\n",
      "dist_entropy 3.06, value_loss 0.10, action_loss -0.01\n"
     ]
    },
    {
     "name": "stderr",
     "output_type": "stream",
     "text": [
      " 66%|██████▌   | 41/62 [1:03:04<1:12:40, 207.63s/it]WARNING:root:Cannot call CoordClick(coords: (30, 200)) on instance 13, which is already done\n",
      "WARNING:root:Cannot call CoordClick(coords: (110, 80)) on instance 12, which is already done\n",
      "WARNING:root:Cannot call CoordClick(coords: (110, 100)) on instance 2, which is already done\n",
      " 69%|██████▉   | 43/62 [1:05:47<45:11, 142.73s/it]  WARNING:root:Cannot call CoordClick(coords: (10, 120)) on instance 9, which is already done\n",
      "WARNING:root:Cannot call CoordClick(coords: (110, 90)) on instance 2, which is already done\n",
      "WARNING:root:Cannot call CoordClick(coords: (40, 150)) on instance 4, which is already done\n",
      " 71%|███████   | 44/62 [1:07:03<36:52, 122.93s/it]WARNING:root:Cannot call CoordClick(coords: (110, 90)) on instance 0, which is already done\n",
      "WARNING:root:Cannot call CoordClick(coords: (110, 80)) on instance 6, which is already done\n",
      "WARNING:root:Cannot call CoordClick(coords: (110, 100)) on instance 12, which is already done\n",
      "WARNING:root:Cannot call CoordClick(coords: (110, 100)) on instance 13, which is already done\n",
      " 73%|███████▎  | 45/62 [1:08:19<30:46, 108.64s/it]WARNING:root:Cannot call CoordClick(coords: (110, 210)) on instance 8, which is already done\n",
      "WARNING:root:Cannot call CoordClick(coords: (100, 90)) on instance 6, which is already done\n",
      "WARNING:root:Cannot call CoordClick(coords: (110, 100)) on instance 3, which is already done\n",
      "WARNING:root:Cannot call CoordClick(coords: (110, 80)) on instance 11, which is already done\n",
      "WARNING:root:Cannot call CoordClick(coords: (120, 90)) on instance 3, which is already done\n",
      "WARNING:root:Cannot call CoordClick(coords: (110, 90)) on instance 2, which is already done\n",
      "WARNING:root:Cannot call CoordClick(coords: (110, 80)) on instance 10, which is already done\n"
     ]
    },
    {
     "name": "stdout",
     "output_type": "stream",
     "text": [
      "Updates 45, num timesteps 73600, FPS 17 \n",
      "Last 10 training episodes: mean/median reward 0.73/0.70, min/max reward 0.43/0.93\n",
      "dist_entropy 2.83, value_loss 0.07, action_loss -0.00\n"
     ]
    },
    {
     "name": "stderr",
     "output_type": "stream",
     "text": [
      " 74%|███████▍  | 46/62 [1:10:23<30:13, 113.34s/it]WARNING:root:Cannot call CoordClick(coords: (110, 90)) on instance 0, which is already done\n",
      "WARNING:root:Cannot call CoordClick(coords: (110, 90)) on instance 0, which is already done\n",
      "WARNING:root:Cannot call CoordClick(coords: (110, 100)) on instance 4, which is already done\n",
      "WARNING:root:Cannot call CoordClick(coords: (120, 180)) on instance 1, which is already done\n",
      "WARNING:root:Cannot call CoordClick(coords: (120, 90)) on instance 2, which is already done\n",
      "WARNING:root:Cannot call CoordClick(coords: (110, 100)) on instance 3, which is already done\n",
      "WARNING:root:Cannot call CoordClick(coords: (110, 100)) on instance 9, which is already done\n",
      "WARNING:root:Cannot call CoordClick(coords: (120, 100)) on instance 2, which is already done\n",
      "WARNING:root:Cannot call CoordClick(coords: (110, 100)) on instance 4, which is already done\n",
      "WARNING:root:Cannot call CoordClick(coords: (100, 140)) on instance 15, which is already done\n",
      "WARNING:root:Cannot call CoordClick(coords: (110, 80)) on instance 3, which is already done\n",
      "WARNING:root:Cannot call CoordClick(coords: (60, 130)) on instance 2, which is already done\n",
      " 76%|███████▌  | 47/62 [1:15:14<41:39, 166.61s/it]WARNING:root:Cannot call CoordClick(coords: (100, 90)) on instance 6, which is already done\n",
      "WARNING:root:Cannot call CoordClick(coords: (100, 90)) on instance 1, which is already done\n",
      "WARNING:root:Cannot call CoordClick(coords: (110, 90)) on instance 0, which is already done\n",
      "WARNING:root:Cannot call CoordClick(coords: (100, 90)) on instance 13, which is already done\n",
      "WARNING:root:Cannot call CoordClick(coords: (120, 170)) on instance 5, which is already done\n",
      "WARNING:root:Cannot call CoordClick(coords: (110, 90)) on instance 2, which is already done\n",
      "WARNING:root:Cannot call CoordClick(coords: (70, 210)) on instance 4, which is already done\n",
      "WARNING:root:Cannot call CoordClick(coords: (110, 90)) on instance 11, which is already done\n",
      "WARNING:root:Cannot call CoordClick(coords: (130, 130)) on instance 10, which is already done\n",
      "WARNING:root:Cannot call CoordClick(coords: (110, 90)) on instance 10, which is already done\n",
      "WARNING:root:Cannot call CoordClick(coords: (110, 100)) on instance 6, which is already done\n",
      "WARNING:root:Cannot call CoordClick(coords: (100, 0)) on instance 4, which is already done\n",
      "WARNING:root:Cannot call CoordClick(coords: (110, 90)) on instance 0, which is already done\n",
      "WARNING:root:Cannot call CoordClick(coords: (110, 90)) on instance 2, which is already done\n",
      "WARNING:root:Cannot call CoordClick(coords: (110, 90)) on instance 0, which is already done\n",
      "WARNING:root:Cannot call CoordClick(coords: (100, 90)) on instance 1, which is already done\n",
      "WARNING:root:Cannot call CoordClick(coords: (110, 90)) on instance 2, which is already done\n",
      "WARNING:root:Cannot call CoordClick(coords: (30, 120)) on instance 14, which is already done\n",
      "WARNING:root:Cannot call CoordClick(coords: (120, 90)) on instance 12, which is already done\n",
      " 77%|███████▋  | 48/62 [1:20:29<49:16, 211.21s/it]WARNING:root:Cannot call CoordClick(coords: (110, 80)) on instance 4, which is already done\n",
      "WARNING:root:Cannot call CoordClick(coords: (0, 10)) on instance 0, which is already done\n",
      "WARNING:root:Cannot call CoordClick(coords: (110, 100)) on instance 6, which is already done\n",
      "WARNING:root:Cannot call CoordClick(coords: (110, 80)) on instance 7, which is already done\n",
      "WARNING:root:Cannot call CoordClick(coords: (120, 30)) on instance 2, which is already done\n",
      "WARNING:root:Cannot call CoordClick(coords: (120, 80)) on instance 3, which is already done\n",
      " 79%|███████▉  | 49/62 [1:25:33<51:46, 238.93s/it]WARNING:root:Cannot call CoordClick(coords: (110, 80)) on instance 4, which is already done\n",
      "WARNING:root:Cannot call CoordClick(coords: (110, 90)) on instance 2, which is already done\n",
      "WARNING:root:Cannot call CoordClick(coords: (110, 90)) on instance 11, which is already done\n",
      "WARNING:root:Cannot call CoordClick(coords: (110, 100)) on instance 1, which is already done\n",
      " 81%|████████  | 50/62 [1:30:37<51:42, 258.57s/it]WARNING:root:Cannot call CoordClick(coords: (110, 90)) on instance 1, which is already done\n",
      "WARNING:root:Cannot call CoordClick(coords: (110, 100)) on instance 2, which is already done\n",
      "WARNING:root:Cannot call CoordClick(coords: (110, 100)) on instance 5, which is already done\n",
      "WARNING:root:Cannot call CoordClick(coords: (110, 90)) on instance 1, which is already done\n",
      "WARNING:root:Cannot call CoordClick(coords: (90, 90)) on instance 1, which is already done\n",
      " 84%|████████▍ | 52/62 [1:40:43<46:46, 280.70s/it]WARNING:root:Cannot call CoordClick(coords: (110, 90)) on instance 9, which is already done\n",
      "WARNING:root:Cannot call CoordClick(coords: (110, 90)) on instance 11, which is already done\n",
      "WARNING:root:Cannot call CoordClick(coords: (110, 90)) on instance 0, which is already done\n",
      "WARNING:root:Cannot call CoordClick(coords: (110, 10)) on instance 2, which is already done\n",
      " 85%|████████▌ | 53/62 [1:45:47<43:10, 287.86s/it]WARNING:root:Cannot call CoordClick(coords: (110, 90)) on instance 10, which is already done\n",
      "WARNING:root:Cannot call CoordClick(coords: (100, 90)) on instance 5, which is already done\n",
      "WARNING:root:Cannot call CoordClick(coords: (110, 90)) on instance 8, which is already done\n",
      "WARNING:root:Cannot call CoordClick(coords: (100, 90)) on instance 0, which is already done\n",
      "WARNING:root:Cannot call CoordClick(coords: (40, 50)) on instance 2, which is already done\n",
      " 89%|████████▊ | 55/62 [1:55:52<34:24, 294.99s/it]WARNING:root:Cannot call CoordClick(coords: (110, 90)) on instance 8, which is already done\n",
      "WARNING:root:Cannot call CoordClick(coords: (110, 90)) on instance 13, which is already done\n",
      "WARNING:root:Cannot call CoordClick(coords: (110, 100)) on instance 5, which is already done\n"
     ]
    },
    {
     "name": "stdout",
     "output_type": "stream",
     "text": [
      "Updates 55, num timesteps 89600, FPS 12 \n",
      "Last 10 training episodes: mean/median reward 0.55/0.48, min/max reward 0.00/0.95\n",
      "dist_entropy 1.96, value_loss 0.08, action_loss -0.00\n"
     ]
    },
    {
     "name": "stderr",
     "output_type": "stream",
     "text": [
      " 90%|█████████ | 56/62 [2:00:57<29:49, 298.28s/it]WARNING:root:Cannot call CoordClick(coords: (100, 90)) on instance 7, which is already done\n",
      "WARNING:root:Cannot call CoordClick(coords: (110, 80)) on instance 6, which is already done\n",
      "WARNING:root:Cannot call CoordClick(coords: (110, 90)) on instance 9, which is already done\n",
      " 92%|█████████▏| 57/62 [2:06:00<24:58, 299.63s/it]"
     ]
    }
   ],
   "source": [
    "from rllr.utils.training import train_ppo\n",
    "\n",
    "train_conf = {\n",
    "    \"agent.lr\": 0.001,\n",
    "    \"agent.device\": device,\n",
    "    \"agent.gamma\": 0.99,\n",
    "    \"agent.gae_lambda\": 0.95,\n",
    "    \"training.n_env_steps\": 100000,\n",
    "    \"training.n_steps\": 100,\n",
    "    \"training.n_processes\": n_instances,\n",
    "    \"training.verbose\": 5,\n",
    "    \"outputs.path\": \"miniwob_click_button.p\"\n",
    "}\n",
    "\n",
    "\n",
    "train_ppo(envs, agent, train_conf)"
   ]
  }
 ],
 "metadata": {
  "kernelspec": {
   "display_name": "Python 3.8 (rllr)",
   "language": "python",
   "name": "rllr"
  },
  "language_info": {
   "codemirror_mode": {
    "name": "ipython",
    "version": 3
   },
   "file_extension": ".py",
   "mimetype": "text/x-python",
   "name": "python",
   "nbconvert_exporter": "python",
   "pygments_lexer": "ipython3",
   "version": "3.8.0"
  }
 },
 "nbformat": 4,
 "nbformat_minor": 4
}
