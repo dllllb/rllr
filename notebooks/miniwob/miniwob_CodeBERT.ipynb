{
 "cells": [
  {
   "cell_type": "code",
   "execution_count": 1,
   "metadata": {},
   "outputs": [],
   "source": [
    "import os\n",
    "import sys\n",
    "\n",
    "chrome_driver_path = os.path.join(\"C:\", 'prjs', 'utils', 'chromedriver', 'chromedriver.exe')\n",
    "#app_path = os.path.join(\"/\", 'usr', 'local', 'bin', 'chromedriver')\n",
    "#os.environ[\"PATH\"] += os.pathsep + app_path\n",
    "os.environ[\"MINIWOB_BASE_URL\"] = \"file://C:/prjs/miniwob-plusplus/html/\""
   ]
  },
  {
   "cell_type": "code",
   "execution_count": 2,
   "metadata": {},
   "outputs": [
    {
     "name": "stdout",
     "output_type": "stream",
     "text": [
      "BASE URL: file://C:/prjs/miniwob-plusplus/html/\n"
     ]
    }
   ],
   "source": [
    "from miniwob.environment import MiniWoBEnvironment\n",
    "from miniwob.action import  MiniWoBCoordClick\n",
    "from miniwob.screenshot import pil_to_numpy_array\n",
    "\n",
    "task_name = 'click-button'\n",
    "base_url = os.environ.get('MINIWOB_BASE_URL')\n",
    "env = MiniWoBEnvironment(task_name, seeds=[1], base_url=base_url)\n",
    "print('BASE URL:', base_url)"
   ]
  },
  {
   "cell_type": "code",
   "execution_count": 3,
   "metadata": {},
   "outputs": [],
   "source": [
    "states = env.reset(record_screenshots=True)"
   ]
  },
  {
   "cell_type": "code",
   "execution_count": 4,
   "metadata": {},
   "outputs": [
    {
     "data": {
      "text/plain": [
       "[MiniWoBState(utterance: 'Click on the \"Ok\" button.')]"
      ]
     },
     "execution_count": 4,
     "metadata": {},
     "output_type": "execute_result"
    }
   ],
   "source": [
    "states"
   ]
  },
  {
   "cell_type": "code",
   "execution_count": 5,
   "metadata": {},
   "outputs": [
    {
     "data": {
      "image/png": "[encoded data removed]",
      "text/plain": [
       "<PIL.Image.Image image mode=RGB size=150x150 at 0x272627EA610>"
      ]
     },
     "execution_count": 5,
     "metadata": {},
     "output_type": "execute_result"
    }
   ],
   "source": [
    "states[0].screenshot.resize([150, 150])"
   ]
  },
  {
   "cell_type": "code",
   "execution_count": 6,
   "metadata": {},
   "outputs": [
    {
     "data": {
      "text/plain": [
       "(210, 160, 3)"
      ]
     },
     "execution_count": 6,
     "metadata": {},
     "output_type": "execute_result"
    }
   ],
   "source": [
    "img = pil_to_numpy_array(states[0].screenshot)\n",
    "img.shape"
   ]
  },
  {
   "cell_type": "code",
   "execution_count": 7,
   "metadata": {},
   "outputs": [
    {
     "data": {
      "text/plain": [
       "\"- [1] body @ (0, 0) classes=[NO_CLASS] children=1\\n  |- [2] div @ (0, 0) classes=[NO_CLASS] children=1\\n     |- [3] div @ (0, 50) classes=[NO_CLASS] children=6\\n        |- [4] div @ (2, 52) text='cursus dis justo' classes=[NO_CLASS]\\n        |- [5] div @ (2, 63.2) text='facilisis proin aliq...' classes=[NO_CLASS]\\n        |- [6] button @ (2, 74.4) text='Ok' classes=[NO_CLASS]\\n        |- [7] div @ (2, 96.4) text='pharetra turpis scel...' classes=[NO_CLASS]\\n        |- [8] div @ (2, 107.6) text='rutrum lectus adipis...' classes=[NO_CLASS]\\n        |- [9] div @ (2, 118.8) text='pretium, aliquet ege...' classes=[NO_CLASS]\""
      ]
     },
     "execution_count": 7,
     "metadata": {},
     "output_type": "execute_result"
    }
   ],
   "source": [
    "states[0].dom.visualize()"
   ]
  },
  {
   "cell_type": "code",
   "execution_count": 8,
   "metadata": {},
   "outputs": [
    {
     "data": {
      "text/plain": [
       "False"
      ]
     },
     "execution_count": 8,
     "metadata": {},
     "output_type": "execute_result"
    }
   ],
   "source": [
    "states[0].dom.is_leaf"
   ]
  },
  {
   "cell_type": "code",
   "execution_count": 9,
   "metadata": {},
   "outputs": [
    {
     "data": {
      "text/plain": [
       "[1] body @ (0, 0) classes=[NO_CLASS] children=1"
      ]
     },
     "execution_count": 9,
     "metadata": {},
     "output_type": "execute_result"
    }
   ],
   "source": [
    "states[0].dom"
   ]
  },
  {
   "cell_type": "code",
   "execution_count": 10,
   "metadata": {},
   "outputs": [
    {
     "data": {
      "text/plain": [
       "['Click', 'on', 'the', '\"', 'Ok', '\"', 'button', '.']"
      ]
     },
     "execution_count": 10,
     "metadata": {},
     "output_type": "execute_result"
    }
   ],
   "source": [
    "states[0].tokens"
   ]
  },
  {
   "cell_type": "code",
   "execution_count": 11,
   "metadata": {},
   "outputs": [
    {
     "data": {
      "text/plain": [
       "([MiniWoBState(utterance: 'Click on the \"Ok\" button.')],\n",
       " [0.0],\n",
       " [False],\n",
       " {'n': [{'done': False,\n",
       "    'env_reward': 0,\n",
       "    'raw_reward': 0,\n",
       "    'reason': None,\n",
       "    'elapsed': 4.146000623703003}]})"
      ]
     },
     "execution_count": 11,
     "metadata": {},
     "output_type": "execute_result"
    }
   ],
   "source": [
    "env.step([MiniWoBCoordClick(10, 57)])"
   ]
  },
  {
   "cell_type": "code",
   "execution_count": 12,
   "metadata": {},
   "outputs": [],
   "source": [
    "env.close()"
   ]
  },
  {
   "cell_type": "markdown",
   "metadata": {},
   "source": [
    "# Gym miniwob wrapper"
   ]
  },
  {
   "cell_type": "code",
   "execution_count": 13,
   "metadata": {},
   "outputs": [],
   "source": [
    "import gym\n",
    "import torch\n",
    "\n",
    "from miniwob.action import MiniWoBElementClick, MiniWoBCoordClick\n",
    "from transformers import BertTokenizer, BertModel, BertConfig\n",
    "from transformers import RobertaTokenizer, RobertaConfig, RobertaModel\n",
    "\n",
    "class MiniWobClickButtonWrapper(gym.Wrapper):\n",
    "    \n",
    "    def __init__(self, env):\n",
    "        super().__init__(env)\n",
    "        self.env = env\n",
    "        bert_model = 'bert-base-cased'\n",
    "        \n",
    "        self.tokenizer = BertTokenizer.from_pretrained(bert_model)\n",
    "        self.dom_tokenizer = RobertaTokenizer.from_pretrained(\"microsoft/codebert-base\")\n",
    "        \n",
    "        self.observation_space = gym.spaces.Dict({\"goal_state\": gym.spaces.Box(0, \n",
    "                                                                              self.tokenizer.vocab_size, (8, ),\n",
    "                                                                              dtype=np.int64),\n",
    "                                                  \"img_state\": gym.spaces.Box(0,\n",
    "                                                                        255,\n",
    "                                                                        (150, 150, 3),\n",
    "                                                                        dtype=np.uint8),\n",
    "                                                  \"dom_state\": gym.spaces.Box(0,\n",
    "                                                                        self.dom_tokenizer.vocab_size,\n",
    "                                                                        (16, ), dtype=np.int64)})\n",
    "        \n",
    "        self.action_space = gym.spaces.Box(low=0, high=200, shape=(2, ), dtype=np.int32)\n",
    "\n",
    "    def observation(self, obs):\n",
    "        goal = self.tokenizer(obs.tokens,  padding='max_length', \n",
    "                       max_length = 8, truncation=True,          \n",
    "                       return_tensors=\"pt\",\n",
    "                       is_split_into_words=True)['input_ids']\n",
    "        img = torch.tensor(pil_to_numpy_array(obs.screenshot.resize([150, 150]))).unsqueeze(0)\n",
    "        \n",
    "        #dom = self.dom_tokenizer(obs.dom.visualize(),  padding='max_length', \n",
    "        #               max_length = 8, truncation=True,          \n",
    "        #               return_tensors=\"pt\")['input_ids']\n",
    "        \n",
    "        dom = self.dom_tokenizer.tokenize(obs.dom.visualize())[:16]\n",
    "        dom_str = \"website DOM-tree\"\n",
    "        dom_str_tokens = self.dom_tokenizer.tokenize(dom_str)\n",
    "        dom = [self.dom_tokenizer.cls_token] + dom_str_tokens + [self.dom_tokenizer.sep_token] \\\n",
    "              + dom + [self.dom_tokenizer.sep_token] + [self.dom_tokenizer.pad_token] * 16\n",
    "        dom = self.dom_tokenizer.convert_tokens_to_ids(dom[:16])\n",
    "        dom = torch.tensor(dom, dtype=torch.int64).unsqueeze(0)\n",
    "        \n",
    "        #state = {\"img\": img,\n",
    "        #         \"dom\": dom}\n",
    "\n",
    "        return {'img_state': img, 'dom_state': dom, 'goal_state': goal}\n",
    "    \n",
    "    def reset(self):\n",
    "        return self.observation(self.env.reset(record_screenshots=True)[0])\n",
    "    \n",
    "    def step(self, action):\n",
    "        action = action.abs() * 210.\n",
    "        action[:, 0] = torch.clamp(action[:, 0], min=0, max=210)\n",
    "        action[:, 1] = torch.clamp(action[:, 1], min=0, max=160)\n",
    "        action = action.int()\n",
    "        miniwob_action = [MiniWoBCoordClick(*tuple(action.numpy()[0, :]))]\n",
    "        obs, reward, done, info = self.env.step(miniwob_action)\n",
    "        if done[0]:\n",
    "            return None, reward[0], done[0], info\n",
    "        else:\n",
    "            return self.observation(obs[0]), reward[0], done[0], info\n",
    "        \n",
    "class EpisodeInfoWrapper(gym.Wrapper):\n",
    "    \n",
    "    def __init__(self, env):\n",
    "        super(EpisodeInfoWrapper, self).__init__(env)\n",
    "        self.episode_reward = 0\n",
    "        self.episode_steps = 0\n",
    "\n",
    "    def reset(self):\n",
    "        self.episode_reward = 0\n",
    "        self.episode_steps = 0\n",
    "        return self.env.reset()\n",
    "\n",
    "    def step(self, action):\n",
    "        state, reward, done, info = self.env.step(action)\n",
    "        self.episode_reward += reward\n",
    "        self.episode_steps += 1\n",
    "        if done:   \n",
    "            info['episode'] = {'r': self.episode_reward, 'steps': self.episode_steps}\n",
    "        return state, reward, done, info"
   ]
  },
  {
   "cell_type": "markdown",
   "metadata": {},
   "source": [
    "# Bert encoder"
   ]
  },
  {
   "cell_type": "code",
   "execution_count": 14,
   "metadata": {},
   "outputs": [],
   "source": [
    "from transformers import BertTokenizer, BertModel, BertConfig\n",
    "from torch import nn\n",
    "import torch\n",
    "\n",
    "class BertEncoder(nn.Module):\n",
    "    \n",
    "    def __init__(self):\n",
    "        \n",
    "        super().__init__()\n",
    "        bert_model = 'bert-base-cased'\n",
    "        \n",
    "        self.bert_encoder = BertModel.from_pretrained(bert_model)\n",
    "        self.embed_dim = 768\n",
    "        self.output_size = 100\n",
    "        self.lstm = nn.LSTM(input_size=self.embed_dim, \n",
    "                            hidden_size=self.output_size, \n",
    "                            num_layers=2)\n",
    "        \n",
    "   \n",
    "    def forward(self, input_ids):\n",
    "        \"\"\"\n",
    "        Encode batch of tokens\n",
    "        \n",
    "        \"\"\"\n",
    "        with torch.no_grad():\n",
    "            embeds = self.bert_encoder(input_ids.long()).last_hidden_state\n",
    "        embeds = embeds.permute([1, 0, 2])\n",
    "        \n",
    "        output, _ = self.lstm(embeds)\n",
    "        return output[-1]"
   ]
  },
  {
   "cell_type": "markdown",
   "metadata": {},
   "source": [
    "# DOM Encoder"
   ]
  },
  {
   "cell_type": "code",
   "execution_count": 16,
   "metadata": {},
   "outputs": [],
   "source": [
    "class DomEncoder(nn.Module):\n",
    "    \n",
    "    def __init__(self):\n",
    "        super().__init__()\n",
    "        \n",
    "        self.bert_encoder = RobertaModel.from_pretrained(\"microsoft/codebert-base\")\n",
    "        self.embed_dim = 768\n",
    "        self.output_size = 100\n",
    "        self.lstm = nn.LSTM(input_size=self.embed_dim,\n",
    "                            hidden_size=self.output_size, \n",
    "                            num_layers=2)\n",
    "        \n",
    "   \n",
    "    def forward(self, input_ids):\n",
    "        \"\"\"\n",
    "        Encode batch of tokens\n",
    "        \n",
    "        \"\"\"\n",
    "        with torch.no_grad():\n",
    "            embeds = self.bert_encoder(input_ids.long()).last_hidden_state\n",
    "        embeds = embeds.permute([1, 0, 2])\n",
    "            \n",
    "        output, _ = self.lstm(embeds)\n",
    "        return output[-1]\n",
    "\n",
    "\n",
    "class Encoder(nn.Module):\n",
    "    def __init__(self, img, dom):\n",
    "        super(Encoder, self).__init__()\n",
    "        self.img_encoder = img\n",
    "        self.dom_encoder = dom\n",
    "        self.output_size = self.dom_encoder.output_size + self.img_encoder.output_size\n",
    "    \n",
    "    def forward(self, img_state, dom_state):\n",
    "        img_out = self.img_encoder(img_state)\n",
    "        dom_out = self.dom_encoder(dom_state)\n",
    "        out = torch.cat([img_out, dom_out], dim=-1)\n",
    "        return out"
   ]
  },
  {
   "cell_type": "markdown",
   "metadata": {},
   "source": [
    "# Train agent"
   ]
  },
  {
   "cell_type": "code",
   "execution_count": 17,
   "metadata": {},
   "outputs": [],
   "source": [
    "import numpy as np\n",
    "from rllr.env.vec_wrappers import make_vec_envs\n",
    "from stable_baselines3.common.vec_env import DummyVecEnv\n",
    "\n",
    "\n",
    "def gen_env(env_id):\n",
    "    env = MiniWoBEnvironment(task_name, seeds=[env_id], base_url=base_url)\n",
    "    env = MiniWobClickButtonWrapper(env)\n",
    "    return EpisodeInfoWrapper(env)"
   ]
  },
  {
   "cell_type": "code",
   "execution_count": 18,
   "metadata": {},
   "outputs": [
    {
     "name": "stderr",
     "output_type": "stream",
     "text": [
      "WARNING:urllib3.connectionpool:Retrying (Retry(total=2, connect=None, read=None, redirect=None, status=None)) after connection broken by 'NewConnectionError('<urllib3.connection.HTTPConnection object at 0x0000027262A060A0>: Failed to establish a new connection: [WinError 10061] No connection could be made because the target machine actively refused it')': /session/14c448946c57b75dc1c2e87d1e2d3c40\n",
      "WARNING:urllib3.connectionpool:Retrying (Retry(total=1, connect=None, read=None, redirect=None, status=None)) after connection broken by 'NewConnectionError('<urllib3.connection.HTTPConnection object at 0x00000272786D9100>: Failed to establish a new connection: [WinError 10061] No connection could be made because the target machine actively refused it')': /session/14c448946c57b75dc1c2e87d1e2d3c40\n"
     ]
    }
   ],
   "source": [
    "env = gen_env(1)"
   ]
  },
  {
   "cell_type": "code",
   "execution_count": 19,
   "metadata": {},
   "outputs": [
    {
     "name": "stderr",
     "output_type": "stream",
     "text": [
      "WARNING:urllib3.connectionpool:Retrying (Retry(total=0, connect=None, read=None, redirect=None, status=None)) after connection broken by 'NewConnectionError('<urllib3.connection.HTTPConnection object at 0x0000027278845190>: Failed to establish a new connection: [WinError 10061] No connection could be made because the target machine actively refused it')': /session/14c448946c57b75dc1c2e87d1e2d3c40\n",
      "Some weights of the model checkpoint at bert-base-cased were not used when initializing BertModel: ['cls.predictions.transform.dense.weight', 'cls.predictions.decoder.weight', 'cls.seq_relationship.weight', 'cls.predictions.transform.dense.bias', 'cls.predictions.transform.LayerNorm.weight', 'cls.seq_relationship.bias', 'cls.predictions.bias', 'cls.predictions.transform.LayerNorm.bias']\n",
      "- This IS expected if you are initializing BertModel from the checkpoint of a model trained on another task or with another architecture (e.g. initializing a BertForSequenceClassification model from a BertForPreTraining model).\n",
      "- This IS NOT expected if you are initializing BertModel from the checkpoint of a model that you expect to be exactly identical (initializing a BertForSequenceClassification model from a BertForSequenceClassification model).\n"
     ]
    }
   ],
   "source": [
    "from rllr.models.encoders import GoalStateEncoder, SimpleCNN\n",
    "\n",
    "conf = {\n",
    "    \"n_channels\": [32, 64, 64],\n",
    "    \"kernel_sizes\": [4, 4, 3],\n",
    "    \"strides\": [4, 2, 1],\n",
    "    \"hidden_layers_sizes\": [128]\n",
    "}\n",
    "\n",
    "img_encoder = SimpleCNN(grid_size=150, conf=conf)\n",
    "dom_encoder = DomEncoder()\n",
    "state_encoder = Encoder(img_encoder, dom_encoder)\n",
    "goal_encoder = BertEncoder()\n",
    "encoder = GoalStateEncoder(state_encoder, goal_encoder)"
   ]
  },
  {
   "cell_type": "code",
   "execution_count": 20,
   "metadata": {},
   "outputs": [],
   "source": [
    "from rllr.algo import PPO\n",
    "from rllr.models.ppo import ActorCriticNetwork\n",
    "\n",
    "hidden_size = 32\n",
    "policy = ActorCriticNetwork(env.action_space, encoder, encoder, hidden_size, hidden_size)\n",
    "\n",
    "agent_conf = {\n",
    "        \"clip_param\": 0.2,\n",
    "        \"ppo_epoch\": 4,\n",
    "        \"num_mini_batch\": 4,\n",
    "        \"value_loss_coef\": 0.5,\n",
    "        \"entropy_coef\": 0.01,\n",
    "        \"lr\": 0.001,\n",
    "        \"eps\": 1e-5,\n",
    "        \"max_grad_norm\": 0.5,\n",
    "}\n",
    "\n",
    "\n",
    "agent = PPO(policy, **agent_conf)"
   ]
  },
  {
   "cell_type": "code",
   "execution_count": 21,
   "metadata": {},
   "outputs": [],
   "source": [
    "from rllr.buffer.rollout import RolloutStorage\n",
    "from tqdm import trange\n",
    "import time\n",
    "from collections import deque\n",
    "\n",
    "def update_linear_schedule(optimizer, epoch, total_num_epochs, initial_lr):\n",
    "    \"\"\"Decreases the learning rate linearly\"\"\"\n",
    "    lr = initial_lr - (initial_lr * (epoch / float(total_num_epochs)))\n",
    "    for param_group in optimizer.param_groups:\n",
    "        param_group['lr'] = lr\n",
    "\n",
    "def train_agent(agent, env, conf):\n",
    "\n",
    "    rollouts = RolloutStorage(\n",
    "            conf['training.n_steps'], conf['training.n_processes'], env.observation_space, env.action_space\n",
    "        )\n",
    "    \n",
    "    obs = env.reset()\n",
    "    rollouts.set_first_obs(obs)\n",
    "    rollouts.to(conf['agent.device'])\n",
    "\n",
    "    start = time.time()\n",
    "    num_updates = int(conf['training.n_env_steps'] // conf['training.n_steps'] // conf['training.n_processes'])\n",
    "\n",
    "    episode_rewards = deque(maxlen=10)\n",
    "\n",
    "    for j in trange(num_updates):\n",
    "        update_linear_schedule(agent.optimizer, j, num_updates, conf['agent.lr'])\n",
    "\n",
    "        for step in range(conf['training.n_steps']):\n",
    "            # Sample actions\n",
    "            value, action, action_log_prob = agent.act(obs)\n",
    "            obs, reward, done, info = env.step(action)\n",
    "            \n",
    "            if 'episode' in info.keys():\n",
    "                episode_rewards.append(info['episode']['r'])\n",
    "                \n",
    "            if done:\n",
    "                obs = env.reset()\n",
    "                continue\n",
    "\n",
    "            # If done then clean the history of observations.\n",
    "            masks = torch.FloatTensor([[0.0] if done_ else [1.0] for done_ in [done]])\n",
    "            reward = torch.FloatTensor([reward])\n",
    "            \n",
    "            rollouts.insert(obs, action, action_log_prob, value, reward, masks)\n",
    "            \n",
    "    \n",
    "        next_value = agent.get_value(rollouts.get_last_obs())\n",
    "        rollouts.compute_returns(next_value, conf['agent.gamma'], conf['agent.gae_lambda'])\n",
    "\n",
    "        value_loss, action_loss, dist_entropy = agent.update(rollouts)\n",
    "        \n",
    "        if j % conf['training.verbose'] == 0 and len(episode_rewards) > 1:\n",
    "            total_num_steps = (j + 1) * conf['training.n_processes'] * conf['training.n_steps']\n",
    "            end = time.time()\n",
    "            print(f'Updates {j}, '\n",
    "                  f'num timesteps {total_num_steps}, '\n",
    "                  f'FPS {int(total_num_steps / (end - start))} \\n'\n",
    "                  f'Last {len(episode_rewards)} training episodes: '\n",
    "                  f'mean/median reward {np.mean(episode_rewards):.2f}/{np.median(episode_rewards):.2f}, '\n",
    "                  f'min/max reward {np.min(episode_rewards):.2f}/{np.max(episode_rewards):.2f}\\n'\n",
    "                  f'dist_entropy {dist_entropy:.2f}, '\n",
    "                  f'value_loss {value_loss:.2f}, '\n",
    "                          f'action_loss {action_loss:.2f}')"
   ]
  },
  {
   "cell_type": "code",
   "execution_count": 22,
   "metadata": {},
   "outputs": [
    {
     "name": "stderr",
     "output_type": "stream",
     "text": [
      " 10%|████████▎                                                                          | 1/10 [00:13<02:04, 13.78s/it]WARNING:root:Cannot call CoordClick(coords: (57, 160)) on instance 0, which is already done\n",
      " 20%|████████████████▌                                                                  | 2/10 [00:27<01:51, 13.90s/it]WARNING:root:Cannot call CoordClick(coords: (114, 141)) on instance 0, which is already done\n",
      " 30%|████████████████████████▉                                                          | 3/10 [00:42<01:40, 14.38s/it]"
     ]
    },
    {
     "name": "stdout",
     "output_type": "stream",
     "text": [
      "Updates 2, num timesteps 30, FPS 0 \n",
      "Last 3 training episodes: mean/median reward -1.00/-1.00, min/max reward -1.00/-1.00\n",
      "dist_entropy 3.58, value_loss 0.00, action_loss -0.09\n"
     ]
    },
    {
     "name": "stderr",
     "output_type": "stream",
     "text": [
      "WARNING:root:Cannot call CoordClick(coords: (210, 160)) on instance 0, which is already done\n",
      " 40%|█████████████████████████████████▏                                                 | 4/10 [00:59<01:33, 15.51s/it]WARNING:root:Cannot call CoordClick(coords: (52, 117)) on instance 0, which is already done\n",
      " 50%|█████████████████████████████████████████▌                                         | 5/10 [01:16<01:19, 15.92s/it]"
     ]
    },
    {
     "name": "stdout",
     "output_type": "stream",
     "text": [
      "Updates 4, num timesteps 50, FPS 0 \n",
      "Last 5 training episodes: mean/median reward -1.00/-1.00, min/max reward -1.00/-1.00\n",
      "dist_entropy 3.60, value_loss 0.00, action_loss -0.01\n"
     ]
    },
    {
     "name": "stderr",
     "output_type": "stream",
     "text": [
      "WARNING:root:Cannot call CoordClick(coords: (210, 91)) on instance 0, which is already done\n",
      " 60%|█████████████████████████████████████████████████▊                                 | 6/10 [01:34<01:05, 16.44s/it]WARNING:root:Cannot call CoordClick(coords: (210, 160)) on instance 0, which is already done\n",
      " 70%|██████████████████████████████████████████████████████████                         | 7/10 [01:50<00:49, 16.54s/it]"
     ]
    },
    {
     "name": "stdout",
     "output_type": "stream",
     "text": [
      "Updates 6, num timesteps 70, FPS 0 \n",
      "Last 7 training episodes: mean/median reward -1.00/-1.00, min/max reward -1.00/-1.00\n",
      "dist_entropy 3.61, value_loss 0.00, action_loss -0.03\n"
     ]
    },
    {
     "name": "stderr",
     "output_type": "stream",
     "text": [
      "WARNING:root:Cannot call CoordClick(coords: (101, 160)) on instance 0, which is already done\n",
      " 80%|██████████████████████████████████████████████████████████████████▍                | 8/10 [02:09<00:34, 17.15s/it]WARNING:root:Cannot call CoordClick(coords: (210, 160)) on instance 0, which is already done\n",
      " 90%|██████████████████████████████████████████████████████████████████████████▋        | 9/10 [02:28<00:17, 17.80s/it]"
     ]
    },
    {
     "name": "stdout",
     "output_type": "stream",
     "text": [
      "Updates 8, num timesteps 90, FPS 0 \n",
      "Last 9 training episodes: mean/median reward -1.00/-1.00, min/max reward -1.00/-1.00\n",
      "dist_entropy 3.61, value_loss 0.00, action_loss -0.01\n"
     ]
    },
    {
     "name": "stderr",
     "output_type": "stream",
     "text": [
      "WARNING:root:Cannot call CoordClick(coords: (80, 160)) on instance 0, which is already done\n",
      "100%|██████████████████████████████████████████████████████████████████████████████████| 10/10 [02:47<00:00, 16.73s/it]\n"
     ]
    }
   ],
   "source": [
    "train_conf = {\n",
    "    \"agent.lr\": 0.001,\n",
    "    \"agent.device\": \"cpu\",\n",
    "    \"agent.gamma\": 0.99,\n",
    "    \"agent.gae_lambda\": 0.95,\n",
    "    \"training.n_env_steps\": 100,\n",
    "    \"training.n_steps\": 10,\n",
    "    \"training.n_processes\": 1,\n",
    "    \"training.verbose\": 2,\n",
    "}\n",
    "\n",
    "\n",
    "train_agent(agent, env, train_conf)"
   ]
  },
  {
   "cell_type": "code",
   "execution_count": 23,
   "metadata": {},
   "outputs": [
    {
     "name": "stderr",
     "output_type": "stream",
     "text": [
      "WARNING:urllib3.connectionpool:Retrying (Retry(total=2, connect=None, read=None, redirect=None, status=None)) after connection broken by 'NewConnectionError('<urllib3.connection.HTTPConnection object at 0x00000272786D94F0>: Failed to establish a new connection: [WinError 10061] No connection could be made because the target machine actively refused it')': /session/4772192af221698f2f1c0886536ec184\n",
      "WARNING:urllib3.connectionpool:Retrying (Retry(total=1, connect=None, read=None, redirect=None, status=None)) after connection broken by 'NewConnectionError('<urllib3.connection.HTTPConnection object at 0x000002726808FD00>: Failed to establish a new connection: [WinError 10061] No connection could be made because the target machine actively refused it')': /session/4772192af221698f2f1c0886536ec184\n",
      "WARNING:urllib3.connectionpool:Retrying (Retry(total=0, connect=None, read=None, redirect=None, status=None)) after connection broken by 'NewConnectionError('<urllib3.connection.HTTPConnection object at 0x000002726808FD90>: Failed to establish a new connection: [WinError 10061] No connection could be made because the target machine actively refused it')': /session/4772192af221698f2f1c0886536ec184\n"
     ]
    }
   ],
   "source": [
    "env.close()"
   ]
  },
  {
   "cell_type": "code",
   "execution_count": null,
   "metadata": {},
   "outputs": [],
   "source": []
  }
 ],
 "metadata": {
  "kernelspec": {
   "display_name": "Python 3 (ipykernel)",
   "language": "python",
   "name": "python3"
  },
  "language_info": {
   "codemirror_mode": {
    "name": "ipython",
    "version": 3
   },
   "file_extension": ".py",
   "mimetype": "text/x-python",
   "name": "python",
   "nbconvert_exporter": "python",
   "pygments_lexer": "ipython3",
   "version": "3.9.8"
  }
 },
 "nbformat": 4,
 "nbformat_minor": 4
}
