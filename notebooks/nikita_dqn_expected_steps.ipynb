{
 "cells": [
  {
   "cell_type": "code",
   "execution_count": 1,
   "metadata": {},
   "outputs": [
    {
     "data": {
      "text/html": [
       "<style>.container { width:90% !important; }</style>"
      ],
      "text/plain": [
       "<IPython.core.display.HTML object>"
      ]
     },
     "metadata": {},
     "output_type": "display_data"
    }
   ],
   "source": [
    "from IPython.core.display import display, HTML\n",
    "display(HTML(\"<style>.container { width:90% !important; }</style>\"))"
   ]
  },
  {
   "cell_type": "code",
   "execution_count": 2,
   "metadata": {},
   "outputs": [],
   "source": [
    "import matplotlib.pyplot as plt\n",
    "from pprint import pprint\n",
    "\n",
    "%matplotlib inline\n",
    "plt.rcParams['figure.figsize'] = (10.0, 8.0) # set default size of plots\n",
    "plt.rcParams['image.interpolation'] = 'nearest'\n",
    "plt.rcParams['image.cmap'] = 'gray'\n",
    "\n",
    "plt.style.use('ggplot')\n",
    "\n",
    "%load_ext autoreload\n",
    "%autoreload 2"
   ]
  },
  {
   "cell_type": "code",
   "execution_count": 3,
   "metadata": {},
   "outputs": [],
   "source": [
    "import sys\n",
    "sys.path.append('..')\n",
    "\n",
    "import random\n",
    "import torch\n",
    "import numpy as np\n",
    "\n",
    "from gym_minigrid_navigation.utils import show_video\n",
    "from navigation_policy import gen_env, get_agent, run_episode, run_episodes\n",
    "from rewards import get_reward_function\n",
    "from utils import init_logger, switch_reproducibility_on, display_stats\n",
    "from expected_steps import ExpectedStepsAmountLeaner\n",
    "from rewards import ExpectedStepsAmountReward\n",
    "\n",
    "import logging\n",
    "logger = logging.getLogger(__name__)\n",
    "\n",
    "init_logger('__main__')\n",
    "\n",
    "init_logger('dqn')\n",
    "init_logger('expected_steps')\n",
    "init_logger('navigation_policy')\n",
    "init_logger('gym_minigrid_navigation.environments')"
   ]
  },
  {
   "cell_type": "markdown",
   "metadata": {},
   "source": [
    "### config "
   ]
  },
  {
   "cell_type": "code",
   "execution_count": 4,
   "metadata": {},
   "outputs": [],
   "source": [
    "from pyhocon import ConfigFactory\n",
    "\n",
    "config = ConfigFactory.parse_file('../conf/minigrid_dqn_navigation_draft.hocon')\n",
    "config['env']['video_path'] = '../outputs/video/'\n",
    "\n",
    "switch_reproducibility_on(config['seed'])"
   ]
  },
  {
   "cell_type": "markdown",
   "metadata": {},
   "source": [
    "### agent and steps amount model "
   ]
  },
  {
   "cell_type": "code",
   "execution_count": 5,
   "metadata": {},
   "outputs": [
    {
     "name": "stderr",
     "output_type": "stream",
     "text": [
      "2021-02-15 18:14:46,927 INFO    dqn                    : Running on device: cuda:0\n"
     ]
    }
   ],
   "source": [
    "expected_steps_learner = ExpectedStepsAmountLeaner(config['expected_steps_params'])\n",
    "agent = get_agent(config)"
   ]
  },
  {
   "cell_type": "markdown",
   "metadata": {},
   "source": [
    "### steps amount model trainings "
   ]
  },
  {
   "cell_type": "code",
   "execution_count": 6,
   "metadata": {},
   "outputs": [
    {
     "name": "stderr",
     "output_type": "stream",
     "text": [
      "2021-02-15 18:51:33,712 INFO    expected_steps         : Expected steps L1Loss:  8.341548559979023\n"
     ]
    }
   ],
   "source": [
    "env = gen_env(config['env'], reward_function=lambda *args: 0)\n",
    "expected_steps_learner.model.fc[-1].bias.data.fill_(20.)\n",
    "\n",
    "expected_steps_learner.reset_buffer()\n",
    "expected_steps_learner.collect_episodes(env, agent)\n",
    "expected_steps_learner.learn(verbose=True)"
   ]
  },
  {
   "cell_type": "markdown",
   "metadata": {},
   "source": [
    "### agent training"
   ]
  },
  {
   "cell_type": "code",
   "execution_count": 7,
   "metadata": {},
   "outputs": [
    {
     "name": "stderr",
     "output_type": "stream",
     "text": [
      "2021-02-15 18:53:13,230 INFO    navigation_policy      : Episode: 100. Average score: 15.88916485786438. Average steps: 123.77\n",
      "2021-02-15 18:54:22,128 INFO    navigation_policy      : Episode: 200. Average score: 18.5242711353302. Average steps: 83.65\n",
      "2021-02-15 18:55:09,234 INFO    navigation_policy      : Episode: 300. Average score: 18.094962930679323. Average steps: 56.47\n",
      "2021-02-15 18:55:45,063 INFO    navigation_policy      : Episode: 400. Average score: 18.609642791748048. Average steps: 42.33\n",
      "2021-02-15 18:56:18,961 INFO    navigation_policy      : Episode: 500. Average score: 19.514019021987917. Average steps: 39.52\n",
      "2021-02-15 18:56:48,246 INFO    navigation_policy      : Episode: 600. Average score: 19.65490288734436. Average steps: 33.83\n",
      "2021-02-15 18:57:14,212 INFO    navigation_policy      : Episode: 700. Average score: 20.21767728805542. Average steps: 30.16\n",
      "2021-02-15 18:57:34,435 INFO    navigation_policy      : Episode: 800. Average score: 18.857579832077025. Average steps: 23.28\n",
      "2021-02-15 18:57:54,723 INFO    navigation_policy      : Episode: 900. Average score: 19.04060772895813. Average steps: 23.14\n",
      "2021-02-15 18:58:09,071 INFO    navigation_policy      : Episode: 1000. Average score: 19.545851078033447. Average steps: 16.2\n",
      "2021-02-15 18:58:24,706 INFO    navigation_policy      : Episode: 1100. Average score: 20.017715520858765. Average steps: 17.53\n",
      "2021-02-15 18:58:43,586 INFO    navigation_policy      : Episode: 1200. Average score: 19.974838485717772. Average steps: 21.18\n",
      "2021-02-15 18:59:01,319 INFO    navigation_policy      : Episode: 1300. Average score: 19.325656871795655. Average steps: 19.35\n",
      "2021-02-15 18:59:14,723 INFO    navigation_policy      : Episode: 1400. Average score: 19.40379165649414. Average steps: 14.68\n",
      "2021-02-15 18:59:29,791 INFO    navigation_policy      : Episode: 1500. Average score: 19.830836925506592. Average steps: 16.46\n",
      "2021-02-15 18:59:41,988 INFO    navigation_policy      : Episode: 1600. Average score: 20.183583116531373. Average steps: 13.17\n",
      "2021-02-15 18:59:52,233 INFO    navigation_policy      : Episode: 1700. Average score: 19.952425994873046. Average steps: 11.13\n",
      "2021-02-15 19:00:03,420 INFO    navigation_policy      : Episode: 1800. Average score: 20.25353470802307. Average steps: 11.99\n",
      "2021-02-15 19:00:12,699 INFO    navigation_policy      : Episode: 1900. Average score: 18.804949951171874. Average steps: 10.02\n",
      "2021-02-15 19:00:21,119 INFO    navigation_policy      : Episode: 2000. Average score: 19.280890150070192. Average steps: 8.99\n",
      "2021-02-15 19:00:32,774 INFO    navigation_policy      : Episode: 2100. Average score: 20.355478515625. Average steps: 12.53\n",
      "2021-02-15 19:00:41,438 INFO    navigation_policy      : Episode: 2200. Average score: 20.19881513595581. Average steps: 9.26\n",
      "2021-02-15 19:00:50,523 INFO    navigation_policy      : Episode: 2300. Average score: 18.696214752197264. Average steps: 9.7\n",
      "2021-02-15 19:00:59,240 INFO    navigation_policy      : Episode: 2400. Average score: 19.94160779953003. Average steps: 9.21\n",
      "2021-02-15 19:01:06,648 INFO    navigation_policy      : Episode: 2500. Average score: 18.92443208694458. Average steps: 7.33\n",
      "2021-02-15 19:01:15,370 INFO    navigation_policy      : Episode: 2600. Average score: 19.26940341949463. Average steps: 9.01\n",
      "2021-02-15 19:01:22,258 INFO    navigation_policy      : Episode: 2700. Average score: 18.761880588531493. Average steps: 6.9\n",
      "2021-02-15 19:01:30,539 INFO    navigation_policy      : Episode: 2800. Average score: 19.348669567108153. Average steps: 8.47\n",
      "2021-02-15 19:01:38,970 INFO    navigation_policy      : Episode: 2900. Average score: 20.15757887840271. Average steps: 8.53\n",
      "2021-02-15 19:01:47,888 INFO    navigation_policy      : Episode: 3000. Average score: 20.37688632965088. Average steps: 9.01\n"
     ]
    }
   ],
   "source": [
    "reward_function = ExpectedStepsAmountReward(expected_steps_learner.model)\n",
    "env = gen_env(config['env'], reward_function=reward_function)\n",
    "\n",
    "scores, steps = run_episodes(env, agent, n_episodes=config['training.n_episodes'], verbose=config['training.verbose'])"
   ]
  },
  {
   "cell_type": "code",
   "execution_count": 15,
   "metadata": {},
   "outputs": [
    {
     "name": "stderr",
     "output_type": "stream",
     "text": [
      "2021-02-15 19:08:01,126 INFO    gym_minigrid_navigation.environments   : From [2 3] to [1 3]\n"
     ]
    },
    {
     "name": "stdout",
     "output_type": "stream",
     "text": [
      "(16.416171073913574, 18)\n"
     ]
    },
    {
     "data": {
      "text/html": [
       "<video alt=\"test\" autoplay \n",
       "                loop controls style=\"height: 400px;\">\n",
       "                <source src=\"data:video/mp4;base64,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\" type=\"video/mp4\" />\n",
       "             </video>"
      ],
      "text/plain": [
       "<IPython.core.display.HTML object>"
      ]
     },
     "metadata": {},
     "output_type": "display_data"
    }
   ],
   "source": [
    "env = gen_env(config['env'], reward_function, verbose=True)\n",
    "print(run_episode(env, agent, train_mode=True))\n",
    "\n",
    "show_video(config['env.video_path'])"
   ]
  },
  {
   "cell_type": "code",
   "execution_count": null,
   "metadata": {},
   "outputs": [],
   "source": []
  }
 ],
 "metadata": {
  "kernelspec": {
   "display_name": "Python 3",
   "language": "python",
   "name": "python3"
  },
  "language_info": {
   "codemirror_mode": {
    "name": "ipython",
    "version": 3
   },
   "file_extension": ".py",
   "mimetype": "text/x-python",
   "name": "python",
   "nbconvert_exporter": "python",
   "pygments_lexer": "ipython3",
   "version": "3.8.0"
  }
 },
 "nbformat": 4,
 "nbformat_minor": 4
}
