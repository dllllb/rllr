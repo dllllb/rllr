{
 "cells": [
  {
   "cell_type": "code",
   "execution_count": 1,
   "metadata": {},
   "outputs": [],
   "source": [
    "import matplotlib.pyplot as plt\n",
    "from pprint import pprint\n",
    "\n",
    "%matplotlib inline\n",
    "plt.rcParams['figure.figsize'] = (10.0, 8.0) # set default size of plots\n",
    "plt.rcParams['image.interpolation'] = 'nearest'\n",
    "plt.rcParams['image.cmap'] = 'gray'\n",
    "\n",
    "plt.style.use('ggplot')\n",
    "\n",
    "%load_ext autoreload\n",
    "%autoreload 2"
   ]
  },
  {
   "cell_type": "code",
   "execution_count": 2,
   "metadata": {},
   "outputs": [],
   "source": [
    "import sys\n",
    "sys.path.append('..')\n",
    "\n",
    "from gym_minigrid_navigation.utils import show_video\n",
    "from navigation_policy import gen_env, get_agent, run_episode, run_episodes, get_goal_achieving_criterion\n",
    "\n",
    "from rewards import get_reward_function\n",
    "from utils import init_logger, switch_reproducibility_on, display_stats\n",
    "\n",
    "init_logger('master_worker')\n",
    "init_logger('navigation_policy')"
   ]
  },
  {
   "cell_type": "code",
   "execution_count": 3,
   "metadata": {},
   "outputs": [],
   "source": [
    "from pyhocon import ConfigFactory\n",
    "\n",
    "config = ConfigFactory.parse_file('../conf/minigrid_master_worker.hocon')\n",
    "config['env']['video_path'] = './video/'"
   ]
  },
  {
   "cell_type": "code",
   "execution_count": 4,
   "metadata": {},
   "outputs": [],
   "source": [
    "switch_reproducibility_on(config['seed'])"
   ]
  },
  {
   "cell_type": "markdown",
   "metadata": {},
   "source": [
    "# Train worker"
   ]
  },
  {
   "cell_type": "code",
   "execution_count": 5,
   "metadata": {},
   "outputs": [],
   "source": [
    "reward_functions = get_reward_function(config)\n",
    "goal_achieving_criterion = get_goal_achieving_criterion(config)\n",
    "env = gen_env(config['env'], goal_achieving_criterion, reward_functions)"
   ]
  },
  {
   "cell_type": "code",
   "execution_count": 6,
   "metadata": {},
   "outputs": [],
   "source": [
    "worker_agent = get_agent(config)"
   ]
  },
  {
   "cell_type": "code",
   "execution_count": 7,
   "metadata": {},
   "outputs": [
    {
     "name": "stderr",
     "output_type": "stream",
     "text": [
      "2021-03-23 16:22:42,273 INFO    navigation_policy      : Episode: 100. scores: -24.44, steps: 92.12, achieved: 0.90\n",
      "2021-03-23 16:22:55,924 INFO    navigation_policy      : Episode: 200. scores: -3.00, steps: 23.49, achieved: 1.00\n",
      "2021-03-23 16:23:06,736 INFO    navigation_policy      : Episode: 300. scores: -1.53, steps: 17.85, achieved: 1.00\n",
      "2021-03-23 16:23:12,889 INFO    navigation_policy      : Episode: 400. scores: 0.53, steps: 10.33, achieved: 1.00\n",
      "2021-03-23 16:23:19,370 INFO    navigation_policy      : Episode: 500. scores: 0.52, steps: 10.85, achieved: 1.00\n",
      "2021-03-23 16:23:24,830 INFO    navigation_policy      : Episode: 600. scores: 0.96, steps: 8.61, achieved: 1.00\n",
      "2021-03-23 16:23:29,622 INFO    navigation_policy      : Episode: 700. scores: 1.37, steps: 6.97, achieved: 1.00\n",
      "2021-03-23 16:23:36,868 INFO    navigation_policy      : Episode: 800. scores: 0.05, steps: 11.39, achieved: 1.00\n",
      "2021-03-23 16:23:41,862 INFO    navigation_policy      : Episode: 900. scores: 1.34, steps: 7.75, achieved: 1.00\n",
      "2021-03-23 16:23:47,190 INFO    navigation_policy      : Episode: 1000. scores: 1.15, steps: 8.40, achieved: 1.00\n"
     ]
    }
   ],
   "source": [
    "scores, steps = run_episodes(env, worker_agent, None, n_episodes=1000, verbose=config['training.verbose'])"
   ]
  },
  {
   "cell_type": "markdown",
   "metadata": {},
   "source": [
    "# Train master"
   ]
  },
  {
   "cell_type": "code",
   "execution_count": 8,
   "metadata": {},
   "outputs": [
    {
     "data": {
      "text/plain": [
       "Flattener(\n",
       "  (model): MLP(\n",
       "    (model): Sequential(\n",
       "      (0): Linear(in_features=108, out_features=64, bias=True)\n",
       "      (1): ReLU()\n",
       "      (2): Linear(in_features=64, out_features=64, bias=True)\n",
       "      (3): ReLU()\n",
       "      (4): Tanh()\n",
       "    )\n",
       "  )\n",
       ")"
      ]
     },
     "execution_count": 8,
     "metadata": {},
     "output_type": "execute_result"
    }
   ],
   "source": [
    "worker_agent.qnetwork_local.master"
   ]
  },
  {
   "cell_type": "code",
   "execution_count": 9,
   "metadata": {},
   "outputs": [
    {
     "name": "stdout",
     "output_type": "stream",
     "text": [
      "108 64\n"
     ]
    }
   ],
   "source": [
    "state_size = worker_agent.qnetwork_local.master.model.model[0].in_features\n",
    "emb_size = worker_agent.qnetwork_local.master.model.model[2].out_features\n",
    "print(state_size, emb_size)"
   ]
  },
  {
   "cell_type": "code",
   "execution_count": 10,
   "metadata": {},
   "outputs": [],
   "source": [
    "from gym_minigrid_navigation.encoders import get_encoders\n",
    "state_encoder, _ = get_encoders(config)"
   ]
  },
  {
   "cell_type": "code",
   "execution_count": 11,
   "metadata": {},
   "outputs": [],
   "source": [
    "from ddpg import DDPGAgentMaster, MasterNetwork\n",
    "\n",
    "master_network = MasterNetwork(emb_size, state_encoder)\n",
    "master_agent = DDPGAgentMaster(master_network, config)"
   ]
  },
  {
   "cell_type": "code",
   "execution_count": 12,
   "metadata": {},
   "outputs": [],
   "source": [
    "import gym\n",
    "from gym.wrappers import Monitor\n",
    "from gym_minigrid_navigation.environments import FullyObsWrapper, FullyRenderWrapper, PosObsWrapper\n",
    "\n",
    "env = gym.make('MiniGrid-Empty-8x8-v0')\n",
    "env = FullyObsWrapper(env)\n",
    "env = FullyRenderWrapper(env)\n",
    "env = Monitor(env, config.env.video_path, force=True)"
   ]
  },
  {
   "cell_type": "code",
   "execution_count": 13,
   "metadata": {},
   "outputs": [
    {
     "name": "stderr",
     "output_type": "stream",
     "text": [
      "2021-03-23 16:26:16,871 INFO    navigation_policy      : Episode: 100. scores: 0.00, steps: 256.00, achieved: 0.00\n",
      "2021-03-23 16:29:08,464 INFO    navigation_policy      : Episode: 200. scores: 0.00, steps: 256.00, achieved: 0.00\n",
      "2021-03-23 16:32:00,957 INFO    navigation_policy      : Episode: 300. scores: 0.00, steps: 256.00, achieved: 0.00\n",
      "2021-03-23 16:34:55,129 INFO    navigation_policy      : Episode: 400. scores: 0.00, steps: 256.00, achieved: 0.00\n",
      "2021-03-23 16:37:54,089 INFO    navigation_policy      : Episode: 500. scores: 0.00, steps: 256.00, achieved: 0.00\n",
      "2021-03-23 16:40:56,633 INFO    navigation_policy      : Episode: 600. scores: 0.00, steps: 256.00, achieved: 0.00\n",
      "2021-03-23 16:44:06,437 INFO    navigation_policy      : Episode: 700. scores: 0.00, steps: 256.00, achieved: 0.00\n",
      "2021-03-23 16:47:33,073 INFO    navigation_policy      : Episode: 800. scores: 0.00, steps: 256.00, achieved: 0.00\n",
      "2021-03-23 16:51:13,137 INFO    navigation_policy      : Episode: 900. scores: 0.00, steps: 256.00, achieved: 0.00\n",
      "2021-03-23 16:55:16,535 INFO    navigation_policy      : Episode: 1000. scores: 0.00, steps: 256.00, achieved: 0.00\n"
     ]
    }
   ],
   "source": [
    "scores, steps = run_episodes(env, worker_agent, master_agent, n_episodes=1000, verbose=config['training.verbose'])"
   ]
  },
  {
   "cell_type": "code",
   "execution_count": null,
   "metadata": {},
   "outputs": [],
   "source": []
  },
  {
   "cell_type": "code",
   "execution_count": null,
   "metadata": {},
   "outputs": [],
   "source": []
  },
  {
   "cell_type": "code",
   "execution_count": null,
   "metadata": {},
   "outputs": [],
   "source": []
  },
  {
   "cell_type": "code",
   "execution_count": null,
   "metadata": {},
   "outputs": [],
   "source": []
  },
  {
   "cell_type": "code",
   "execution_count": null,
   "metadata": {},
   "outputs": [],
   "source": []
  }
 ],
 "metadata": {
  "kernelspec": {
   "display_name": "Python 3",
   "language": "python",
   "name": "python3"
  },
  "language_info": {
   "codemirror_mode": {
    "name": "ipython",
    "version": 3
   },
   "file_extension": ".py",
   "mimetype": "text/x-python",
   "name": "python",
   "nbconvert_exporter": "python",
   "pygments_lexer": "ipython3",
   "version": "3.8.0"
  }
 },
 "nbformat": 4,
 "nbformat_minor": 4
}
