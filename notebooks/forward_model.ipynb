{
 "cells": [
  {
   "cell_type": "code",
   "execution_count": 1,
   "metadata": {},
   "outputs": [],
   "source": [
    "import gym\n",
    "import gym_minigrid\n",
    "import matplotlib.pyplot as plt\n",
    "import torch.nn.functional as F\n",
    "plt.style.use('ggplot')\n",
    "\n",
    "%load_ext autoreload\n",
    "%autoreload 2"
   ]
  },
  {
   "cell_type": "code",
   "execution_count": 2,
   "metadata": {},
   "outputs": [],
   "source": [
    "from gym.wrappers import Monitor\n",
    "from gym_minigrid.wrappers import FullyObsWrapper, RGBImgObsWrapper\n",
    "\n",
    "\n",
    "env = gym.make(\"MiniGrid-Dynamic-Obstacles-8x8-v0\")\n",
    "\n",
    "env = FullyObsWrapper(env)\n",
    "env = RGBImgObsWrapper(env)\n",
    "env = Monitor(env, '../experiments/artifacts/video/', force=True)"
   ]
  },
  {
   "cell_type": "code",
   "execution_count": 3,
   "metadata": {},
   "outputs": [],
   "source": [
    "import sys\n",
    "\n",
    "sys.path.append('..')\n",
    "\n",
    "from rllr.utils.plotting.video import show_video"
   ]
  },
  {
   "cell_type": "code",
   "execution_count": 4,
   "metadata": {},
   "outputs": [],
   "source": [
    "done = False\n",
    "\n",
    "env = gym.make(\"MiniGrid-Dynamic-Obstacles-8x8-v0\")\n",
    "env = FullyObsWrapper(env)\n",
    "env = RGBImgObsWrapper(env)\n",
    "env = Monitor(env, '../experiments/artifacts/video/', force=True)\n",
    "env.reset()\n",
    "\n",
    "while not done:\n",
    "    a = env.action_space.sample()\n",
    "    s, r, done, info = env.step(a)\n",
    "\n",
    "# show_video()"
   ]
  },
  {
   "cell_type": "code",
   "execution_count": 5,
   "metadata": {},
   "outputs": [],
   "source": [
    "import torch\n",
    "from skimage.transform import resize\n",
    "import numpy as np\n",
    "\n",
    "device = torch.device(\"cpu\")\n",
    "\n",
    "def rollout(env, n_steps=100):\n",
    "    episode = []\n",
    "    state, done, t = env.reset(), False, n_steps\n",
    "    while not done and t > 0:\n",
    "        action = env.action_space.sample()\n",
    "        episode.append((state['image'], action))\n",
    "        state, reward, done, info = env.step(action)\n",
    "\n",
    "        t -= 1\n",
    "\n",
    "    episode.append((state['image'], None))\n",
    "    \n",
    "    states, actions = zip(*episode)\n",
    "    \n",
    "    states = torch.tensor(states, device=device).div(256).float()\n",
    "    actions = F.one_hot(torch.tensor(actions[:-1], device=device),\n",
    "                        num_classes=env.action_space.n).float()\n",
    "\n",
    "    return states[:-1], states[1:], actions"
   ]
  },
  {
   "cell_type": "code",
   "execution_count": 6,
   "metadata": {},
   "outputs": [],
   "source": [
    "from torch.utils.data import IterableDataset\n",
    "from collections import deque\n",
    "\n",
    "class RandomExploration(IterableDataset):\n",
    "    def __init__(self, env, n_capacity=100):\n",
    "        self.env = env\n",
    "    \n",
    "    def __iter__(self):\n",
    "        buf = deque()\n",
    "        while True:\n",
    "            states, next_states, actions = rollout(self.env)\n",
    "            buf.extend(zip(states, next_states, actions))    \n",
    "            while buf:\n",
    "                yield buf.popleft()\n"
   ]
  },
  {
   "cell_type": "code",
   "execution_count": 7,
   "metadata": {},
   "outputs": [
    {
     "data": {
      "image/png": "[encoded data removed]",
      "text/plain": [
       "<Figure size 640x440 with 6 Axes>"
      ]
     },
     "metadata": {},
     "output_type": "display_data"
    }
   ],
   "source": [
    "dt = RandomExploration(env)\n",
    "it = iter(dt)\n",
    "\n",
    "fig, axes = plt.subplots(2, 3, figsize=(4, 2.75), dpi=160)\n",
    "for ax, (st, stp1, at) in zip(axes.flat, it):\n",
    "    ax.set_axis_off()\n",
    "    ax.imshow(st)\n",
    "\n",
    "fig.tight_layout()"
   ]
  },
  {
   "cell_type": "code",
   "execution_count": 8,
   "metadata": {},
   "outputs": [],
   "source": [
    "import torch\n",
    "import copy\n",
    "from torch import nn\n",
    "from functools import reduce\n",
    "\n",
    "class Permute(nn.Module):\n",
    "    def __init__(self, *args):\n",
    "        super().__init__()\n",
    "        self.dims = args\n",
    "\n",
    "    def forward(self, x):\n",
    "        return x.permute(self.dims)\n",
    "\n",
    "class ForwardVAEModel(nn.Module):\n",
    "\n",
    "    def __init__(self, input_size, n_channels, kernel_sizes, strides, hidden_sizes, action_size):\n",
    "        super(ForwardVAEModel, self).__init__()\n",
    "\n",
    "        # Encoder convolutional layers\n",
    "        conv_layers_enc = [Permute(0, 3, 1, 2)]\n",
    "        self.input_size = input_size\n",
    "        cnn_output_size = self.input_size[:-1]\n",
    "        cur_channels = self.input_size[-1]\n",
    "        conv_params = zip(n_channels, kernel_sizes, strides)\n",
    "        for n_channel, kernel_size, stride in conv_params:\n",
    "            conv_layers_enc.append(nn.Conv2d(cur_channels, n_channel, kernel_size, stride))\n",
    "            conv_layers_enc.append(nn.ReLU(inplace=True))\n",
    "            cnn_output_size_x = (cnn_output_size[0] - kernel_size + stride) // stride\n",
    "            cnn_output_size_y = (cnn_output_size[1] - kernel_size + stride) // stride\n",
    "            cnn_output_size = [cnn_output_size_x, cnn_output_size_y]\n",
    "            cur_channels = n_channel\n",
    "        self.enc_conv_net = nn.Sequential(*conv_layers_enc)\n",
    "        self.cnn_output_sizes = [cur_channels] + cnn_output_size\n",
    "\n",
    "        # Encoder fully connected layers\n",
    "        fc_layers_enc = []\n",
    "        output_size = reduce(lambda x, y: x * y, self.cnn_output_sizes)\n",
    "        for hidden_size in hidden_sizes:\n",
    "            fc_layers_enc.append(nn.Linear(output_size, hidden_size))\n",
    "            fc_layers_enc.append(nn.ReLU(inplace=True))\n",
    "            output_size = hidden_size\n",
    "\n",
    "        fc_layers = fc_layers_enc[:-1]\n",
    "        base = nn.Sequential(*fc_layers)  # XXX!\n",
    "        self.enc_mu = copy.deepcopy(base)\n",
    "        self.enc_var = copy.deepcopy(base)\n",
    "\n",
    "        # Decoder fully connected layers\n",
    "        fc_layes_dec = []\n",
    "        input_size = hidden_sizes[-1] + action_size\n",
    "        output_size = reduce(lambda x, y: x * y, self.cnn_output_sizes)\n",
    "        for hidden_size in hidden_sizes[:-1][::-1]:\n",
    "            fc_layes_dec.append(nn.Linear(input_size, hidden_size))\n",
    "            fc_layes_dec.append(nn.ReLU(inplace=True))\n",
    "            input_size = hidden_size\n",
    "        fc_layes_dec.append(nn.Linear(input_size, output_size))\n",
    "        fc_layes_dec.append(nn.ReLU(inplace=True))\n",
    "        self.dec_fc = nn.Sequential(*fc_layes_dec)\n",
    "        conv_layers_dec = []\n",
    "\n",
    "        # Decoder deconvolution layers\n",
    "        n_channels = [3] + n_channels[:-1]\n",
    "        deconv_params = zip(n_channels[::-1], kernel_sizes[::-1], strides[::-1])\n",
    "        for n_channel, kernel_size, stride in deconv_params:\n",
    "            conv_layers_dec.append(nn.ConvTranspose2d(cur_channels, n_channel, kernel_size, stride))\n",
    "            conv_layers_dec.append(nn.ReLU(inplace=True))\n",
    "            cur_channels = n_channel\n",
    "        conv_layers_dec = conv_layers_dec[:-1]\n",
    "        conv_layers_dec.append(Permute(0, 2, 3, 1))\n",
    "        self.dec_conv_net = nn.Sequential(*conv_layers_dec)\n",
    "\n",
    "    def encoder(self, x):\n",
    "        x = self.enc_conv_net(x)\n",
    "        x = x.view(-1, reduce(lambda x, y: x * y, self.cnn_output_sizes))\n",
    "        mu = self.enc_mu(x)\n",
    "        log_var = self.enc_var(x)\n",
    "        return mu, log_var\n",
    "\n",
    "    def _reparameterize(self, mu, log_var):\n",
    "        std = torch.exp(log_var / 2)\n",
    "        eps = torch.randn_like(std)\n",
    "        return mu + std * eps\n",
    "\n",
    "    def dynamics(self, z, actions):\n",
    "        return torch.cat([z, actions], dim=1)\n",
    "\n",
    "    def decoder(self, z):\n",
    "        x = self.dec_fc(z)\n",
    "        x = x.view(-1, *self.cnn_output_sizes)\n",
    "        x = self.dec_conv_net(x)\n",
    "        return x  # XXX logits!\n",
    "\n",
    "    def forward(self, states, actions):\n",
    "        mu, log_var = self.encoder(states)\n",
    "        z = self._reparameterize(mu, log_var)\n",
    "        out = self.decoder(self.dynamics(z, actions))\n",
    "        return out, mu, log_var"
   ]
  },
  {
   "cell_type": "code",
   "execution_count": 9,
   "metadata": {},
   "outputs": [
    {
     "data": {
      "text/plain": [
       "ForwardVAEModel(\n",
       "  (enc_conv_net): Sequential(\n",
       "    (0): Permute()\n",
       "    (1): Conv2d(3, 16, kernel_size=(5, 5), stride=(1, 1))\n",
       "    (2): ReLU(inplace=True)\n",
       "    (3): Conv2d(16, 32, kernel_size=(5, 5), stride=(1, 1))\n",
       "    (4): ReLU(inplace=True)\n",
       "  )\n",
       "  (enc_mu): Sequential(\n",
       "    (0): Linear(in_features=100352, out_features=32, bias=True)\n",
       "    (1): ReLU(inplace=True)\n",
       "    (2): Linear(in_features=32, out_features=32, bias=True)\n",
       "    (3): ReLU(inplace=True)\n",
       "    (4): Linear(in_features=32, out_features=32, bias=True)\n",
       "  )\n",
       "  (enc_var): Sequential(\n",
       "    (0): Linear(in_features=100352, out_features=32, bias=True)\n",
       "    (1): ReLU(inplace=True)\n",
       "    (2): Linear(in_features=32, out_features=32, bias=True)\n",
       "    (3): ReLU(inplace=True)\n",
       "    (4): Linear(in_features=32, out_features=32, bias=True)\n",
       "  )\n",
       "  (dec_fc): Sequential(\n",
       "    (0): Linear(in_features=35, out_features=32, bias=True)\n",
       "    (1): ReLU(inplace=True)\n",
       "    (2): Linear(in_features=32, out_features=32, bias=True)\n",
       "    (3): ReLU(inplace=True)\n",
       "    (4): Linear(in_features=32, out_features=100352, bias=True)\n",
       "    (5): ReLU(inplace=True)\n",
       "  )\n",
       "  (dec_conv_net): Sequential(\n",
       "    (0): ConvTranspose2d(32, 16, kernel_size=(5, 5), stride=(1, 1))\n",
       "    (1): ReLU(inplace=True)\n",
       "    (2): ConvTranspose2d(16, 3, kernel_size=(5, 5), stride=(1, 1))\n",
       "    (3): Permute()\n",
       "  )\n",
       ")"
      ]
     },
     "execution_count": 9,
     "metadata": {},
     "output_type": "execute_result"
    }
   ],
   "source": [
    "net = ForwardVAEModel(\n",
    "    st.size(),\n",
    "    n_channels=[16, 32],\n",
    "    kernel_sizes=[5, 5],\n",
    "    strides=[1, 1],\n",
    "    hidden_sizes=[32, 32, 32],\n",
    "    action_size=env.action_space.n,\n",
    ").to(device)\n",
    "net"
   ]
  },
  {
   "cell_type": "code",
   "execution_count": 10,
   "metadata": {},
   "outputs": [
    {
     "data": {
      "image/png": "[encoded data removed]",
      "text/plain": [
       "<Figure size 432x288 with 1 Axes>"
      ]
     },
     "metadata": {},
     "output_type": "display_data"
    },
    {
     "data": {
      "image/png": "[encoded data removed]",
      "text/plain": [
       "<Figure size 432x288 with 1 Axes>"
      ]
     },
     "metadata": {},
     "output_type": "display_data"
    }
   ],
   "source": [
    "dec = net(st.unsqueeze(0), at.unsqueeze(0))[0].detach()\n",
    "\n",
    "plt.axis('off')\n",
    "plt.imshow(st)\n",
    "plt.show()\n",
    "\n",
    "plt.axis('off')\n",
    "plt.imshow(dec[0].sigmoid())\n",
    "plt.show()"
   ]
  },
  {
   "cell_type": "markdown",
   "metadata": {},
   "source": [
    "Let $\n",
    "    q_i = \\mathcal{N}(\\mu_i, \\sigma_i^2)\n",
    "$ be two univariate Guassians. The Kullback-Leiber divergence between\n",
    "them is\n",
    "$$\n",
    "\\operatorname{KL}(q_0 \\| q_1)\n",
    "    = \\frac12 \\biggl(\n",
    "        \\frac{\\sigma_0^2}{\\sigma_1^2}\n",
    "        + \\frac{(\\mu_0 - \\mu_1)^2}{\\sigma_1^2}\n",
    "        - \\log \\frac{\\sigma_0^2}{\\sigma_1^2}\n",
    "        - 1\n",
    "     \\biggr)\n",
    "    \\,. $$\n",
    "\n",
    "Since we assume that the latent encoding $\n",
    "    z_t \\sim q_t = q(z\\mid s_t)\n",
    "$ is fully factoized Gaussian, we just sum the above divergence from a standard\n",
    "Gaussian $q_1$ across $d$ dimensions (of course, this is consistent with the kl-div\n",
    "of the multivariates with diagonal variances).\n",
    "\n",
    "Now, we also want our embeddings to have some temporal consistency, i.e. the distributions\n",
    "$q_t$ and $q_{t+h}$ to be close if the speparation $h$ between them is small.\n",
    "To encourage such behaviour in the encoder we use the symmetrized KL-divergence to\n",
    "measure the distributional proiximity\n",
    "$$\n",
    "\\operatorname{D}(q_0, q_1)\n",
    "    = \\frac12 \\operatorname{KL}(q_0 \\| q_1)\n",
    "    + \\frac12 \\operatorname{KL}(q_1 \\| q_0)\n",
    "    \\,, $$\n",
    "which in the Gaussian case is equal to:\n",
    "$$\n",
    "\\operatorname{D}(q_0, q_1)\n",
    "%     = \\frac14 \\biggl(\n",
    "%         \\frac{\\sigma_0^2}{\\sigma_1^2}\n",
    "%         + \\frac{(\\mu_0 - \\mu_1)^2}{\\sigma_1^2}\n",
    "%         - \\log \\frac{\\sigma_0^2}{\\sigma_1^2}\n",
    "%         - 1\n",
    "%     \\biggr)\n",
    "%     + \\frac14 \\biggl(\n",
    "%         \\frac{\\sigma_1^2}{\\sigma_0^2}\n",
    "%         + \\frac{(\\mu_1 - \\mu_0)^2}{\\sigma_0^2}\n",
    "%         - \\log \\frac{\\sigma_1^2}{\\sigma_0^2}\n",
    "%         - 1\n",
    "%     \\biggr)\n",
    "%     = \\frac14 \\biggl(\n",
    "%         \\frac{\\sigma_0^2}{\\sigma_1^2}\n",
    "%         + \\frac{(\\mu_0 - \\mu_1)^2}{\\sigma_1^2}\n",
    "%     \\biggr)\n",
    "%     + \\frac14 \\biggl(\n",
    "%         \\frac{\\sigma_1^2}{\\sigma_0^2}\n",
    "%         + \\frac{(\\mu_1 - \\mu_0)^2}{\\sigma_0^2}\n",
    "%     \\biggr)\n",
    "      = \\frac14 \\biggl(\n",
    "          \\frac{\\sigma_0^2}{\\sigma_1^2}\n",
    "          + \\frac{\\sigma_1^2}{\\sigma_0^2}\n",
    "          + \\frac{(\\mu_0 - \\mu_1)^2}{\\sigma_1^2}\n",
    "          + \\frac{(\\mu_1 - \\mu_0)^2}{\\sigma_0^2}\n",
    "      \\biggr)\n",
    "      = \\frac12 \\cosh(\\log \\sigma_0^2 - \\log \\sigma_1^2)\n",
    "      + \\biggl(\\frac{\\mu_0 - \\mu_1}2\\biggr)^2\n",
    "      \\biggl(\n",
    "        \\frac1{\\sigma_1^2} + \\frac1{\\sigma_0^2}\n",
    "      \\biggr)\n",
    "    \\,. $$"
   ]
  },
  {
   "cell_type": "code",
   "execution_count": 11,
   "metadata": {},
   "outputs": [],
   "source": [
    "def sym_kl(mu0, logvar0, mu1, logvar1):\n",
    "    \"\"\"Symmetrized KL-div between two univariate Normals.\"\"\"\n",
    "\n",
    "    # get T = \\frac{\\sigma_1^2}{\\sigma_0^2} + \\frac{\\sigma_0^2}{\\sigma_1^2}\n",
    "    term = torch.cosh(logvar0 - logvar1) / 2\n",
    "\n",
    "    # get M = \\frac1{\\sigma_0^2} + \\frac1{\\sigma_1^2}\n",
    "    mult = torch.logaddexp(-logvar0, -logvar1).exp()\n",
    "\n",
    "    # the SymKL is T + M * (\\mu_1 - \\mu_0)^2 / 4\n",
    "    return term + mult.mul((mu0 - mu1).div(2).square())"
   ]
  },
  {
   "cell_type": "markdown",
   "metadata": {},
   "source": [
    "We suggest usning\n",
    "Geometrically distributed separations and compute the expected divergence:\n",
    "$$\n",
    "\\mathbb{E}_{h \\sim G(\\beta)}\n",
    "    \\operatorname{D}(q_t, q_{t+1+h})\n",
    "    \\,, $$\n",
    "\n",
    "where $\n",
    "    q_\\tau = q(z \\mid s_\\tau)\n",
    "$ and $\n",
    "    G(\\beta)\n",
    "    \\colon p_\\beta(h)\n",
    "        = (1 - \\beta) \\beta^h\n",
    "$ with $\n",
    "    0 \\leq \\beta \\leq \\frac12\n",
    "$."
   ]
  },
  {
   "cell_type": "code",
   "execution_count": 12,
   "metadata": {},
   "outputs": [],
   "source": [
    "from torch.nn import functional as F\n",
    "\n",
    "num_epochs = 5000\n",
    "learning_rate = 1e-3\n",
    "\n",
    "\"\"\"\n",
    "Initialize the network and the Adam optimizer\n",
    "\"\"\"\n",
    "\n",
    "base = RandomExploration(env)\n",
    "st, stp1, at = next(iter(base))\n",
    "\n",
    "net = ForwardVAEModel(\n",
    "    st.size(),\n",
    "    n_channels=[16, 32],\n",
    "    kernel_sizes=[5, 5],\n",
    "    strides=[1, 1],\n",
    "    hidden_sizes=[32],\n",
    "    action_size=env.action_space.n,\n",
    ").to(device)\n",
    "optimizer = torch.optim.Adam(net.parameters(), lr=learning_rate)"
   ]
  },
  {
   "cell_type": "code",
   "execution_count": 13,
   "metadata": {},
   "outputs": [
    {
     "data": {
      "text/plain": [
       "ForwardVAEModel(\n",
       "  (enc_conv_net): Sequential(\n",
       "    (0): Permute()\n",
       "    (1): Conv2d(3, 16, kernel_size=(5, 5), stride=(1, 1))\n",
       "    (2): ReLU(inplace=True)\n",
       "    (3): Conv2d(16, 32, kernel_size=(5, 5), stride=(1, 1))\n",
       "    (4): ReLU(inplace=True)\n",
       "  )\n",
       "  (enc_mu): Sequential(\n",
       "    (0): Linear(in_features=100352, out_features=32, bias=True)\n",
       "  )\n",
       "  (enc_var): Sequential(\n",
       "    (0): Linear(in_features=100352, out_features=32, bias=True)\n",
       "  )\n",
       "  (dec_fc): Sequential(\n",
       "    (0): Linear(in_features=35, out_features=100352, bias=True)\n",
       "    (1): ReLU(inplace=True)\n",
       "  )\n",
       "  (dec_conv_net): Sequential(\n",
       "    (0): ConvTranspose2d(32, 16, kernel_size=(5, 5), stride=(1, 1))\n",
       "    (1): ReLU(inplace=True)\n",
       "    (2): ConvTranspose2d(16, 3, kernel_size=(5, 5), stride=(1, 1))\n",
       "    (3): Permute()\n",
       "  )\n",
       ")"
      ]
     },
     "execution_count": 13,
     "metadata": {},
     "output_type": "execute_result"
    }
   ],
   "source": [
    "net"
   ]
  },
  {
   "cell_type": "code",
   "execution_count": 14,
   "metadata": {},
   "outputs": [],
   "source": [
    "from torch.utils.data import DataLoader, BufferedShuffleDataset\n",
    "\n",
    "feed = DataLoader(\n",
    "    BufferedShuffleDataset(\n",
    "        base,\n",
    "        buffer_size=512,\n",
    "    ),\n",
    "    batch_size=8,\n",
    ")"
   ]
  },
  {
   "cell_type": "code",
   "execution_count": 15,
   "metadata": {
    "scrolled": true
   },
   "outputs": [
    {
     "name": "stderr",
     "output_type": "stream",
     "text": [
      "100%|██████████| 5000/5000 [32:55<00:00,  2.53it/s, 3.60e+04 1.07e+02]\n"
     ]
    }
   ],
   "source": [
    "\"\"\"\n",
    "Training the network for a given number of epochs\n",
    "The loss after every epoch is printed\n",
    "\"\"\"\n",
    "import tqdm\n",
    "\n",
    "losses, C = [], 0.5\n",
    "with tqdm.tqdm(range(num_epochs)) as pb:\n",
    "    for epoch, batch in zip(pb, feed):\n",
    "        states, next_states, actions = batch  # rollout(env)\n",
    "        states = states.to(device)\n",
    "        next_states = next_states.to(device)\n",
    "        actions = actions.to(device)\n",
    "\n",
    "        # Feeding a batch of images into the network to obtain the output image, mu, and logVar\n",
    "        out, mu, logVar = net(states, actions)\n",
    "        \n",
    "        mu_next, logVar_next = net.encoder(next_states)\n",
    "        penalty = sym_kl(mu, logVar, mu_next, logVar_next)\n",
    "\n",
    "        # The loss is the BCE loss combined with the KL divergence to ensure the distribution is learnt\n",
    "        kl_div = 0.5 * torch.sum(-1 - logVar + mu.pow(2) + logVar.exp())\n",
    "        loss = F.binary_cross_entropy_with_logits(\n",
    "            out, next_states, reduction='sum'\n",
    "        ) + kl_div + C * penalty.sum()\n",
    "\n",
    "        # Backpropagation based on the loss\n",
    "        optimizer.zero_grad()\n",
    "        loss.backward()\n",
    "        optimizer.step()\n",
    "        \n",
    "        pb.set_postfix_str(f'{loss:.2e} {kl_div:.2e}')\n",
    "        losses.append((\n",
    "            float(loss),\n",
    "            float(kl_div),\n",
    "        ))\n"
   ]
  },
  {
   "cell_type": "code",
   "execution_count": 16,
   "metadata": {},
   "outputs": [],
   "source": [
    "env = gym.make(\"MiniGrid-Dynamic-Obstacles-8x8-v0\")\n",
    "env = FullyObsWrapper(env)\n",
    "env = RGBImgObsWrapper(env)"
   ]
  },
  {
   "cell_type": "code",
   "execution_count": 17,
   "metadata": {},
   "outputs": [
    {
     "name": "stdout",
     "output_type": "stream",
     "text": [
      "Distance 2.7071731090545654\n"
     ]
    }
   ],
   "source": [
    "state2 = env.reset()\n",
    "for _ in range(5):\n",
    "    action, state1 = env.action_space.sample(), state2\n",
    "    state2, reward, done, info = env.step(action)\n",
    "    \n",
    "\n",
    "actions = F.one_hot(\n",
    "    torch.tensor([action]),\n",
    "    num_classes=env.action_space.n,\n",
    ").to(device)\n",
    "\n",
    "embed1, _ = net.encoder(torch.tensor([state1['image']]).div(256))\n",
    "embed2, _ = net.encoder(torch.tensor([state2['image']]).div(256))\n",
    "print('Distance', torch.dist(embed1, embed2, 2).detach().item())"
   ]
  },
  {
   "cell_type": "code",
   "execution_count": 18,
   "metadata": {},
   "outputs": [
    {
     "data": {
      "image/png": "[encoded data removed]",
      "text/plain": [
       "<Figure size 960x960 with 4 Axes>"
      ]
     },
     "metadata": {},
     "output_type": "display_data"
    }
   ],
   "source": [
    "fig, ax = plt.subplots(2, 2, figsize=(6, 6), dpi=160)\n",
    "ax[0, 0].set_axis_off()\n",
    "ax[0, 0].imshow(state1['image'])\n",
    "ax[0, 0].set_title('$s_t$')\n",
    "ax[1, 1].set_axis_off()\n",
    "ax[1, 1].imshow(state2['image'])\n",
    "ax[1, 1].set_title('$s_{t+1}$')\n",
    "\n",
    "with torch.no_grad():\n",
    "    states = torch.tensor([state1['image']]).div(256)\n",
    "\n",
    "    z = net._reparameterize(*net.encoder(states))\n",
    "\n",
    "    zs = net.dynamics(z, torch.zeros_like(actions))\n",
    "    out_self = net.decoder(zs).sigmoid()\n",
    "\n",
    "    zn = net.dynamics(z, actions)\n",
    "    out_next = net.decoder(zn).sigmoid()\n",
    "\n",
    "ax[0, 1].set_axis_off()\n",
    "ax[0, 1].imshow(out_self[0])\n",
    "ax[0, 1].set_title('$\\hat{s}_t$')\n",
    "ax[1, 0].set_axis_off()\n",
    "ax[1, 0].imshow(out_next[0])\n",
    "ax[1, 0].set_title('$\\hat{s}_{t+1}$')\n",
    "fig.tight_layout()"
   ]
  },
  {
   "cell_type": "code",
   "execution_count": 19,
   "metadata": {},
   "outputs": [
    {
     "ename": "AssertionError",
     "evalue": "",
     "output_type": "error",
     "traceback": [
      "\u001b[0;31m---------------------------------------------------------------------------\u001b[0m",
      "\u001b[0;31mAssertionError\u001b[0m                            Traceback (most recent call last)",
      "\u001b[0;32m<ipython-input-19-a871fdc9ebee>\u001b[0m in \u001b[0;36m<module>\u001b[0;34m\u001b[0m\n\u001b[0;32m----> 1\u001b[0;31m \u001b[0;32massert\u001b[0m \u001b[0;32mFalse\u001b[0m\u001b[0;34m\u001b[0m\u001b[0;34m\u001b[0m\u001b[0m\n\u001b[0m",
      "\u001b[0;31mAssertionError\u001b[0m: "
     ]
    }
   ],
   "source": [
    "assert False"
   ]
  },
  {
   "cell_type": "markdown",
   "metadata": {},
   "source": []
  },
  {
   "cell_type": "code",
   "execution_count": null,
   "metadata": {},
   "outputs": [],
   "source": [
    "env = gym.make(\"MiniGrid-Dynamic-Obstacles-8x8-v0\")\n",
    "env = FullyObsWrapper(env)\n",
    "env = RGBImgObsWrapper(env)\n",
    "# env = Monitor(env, '../experiments/artifacts/video/', force=True)\n",
    "env.reset()\n",
    "\n",
    "action = 2\n",
    "state1, reward, done, info = env.step(action)"
   ]
  },
  {
   "cell_type": "code",
   "execution_count": null,
   "metadata": {},
   "outputs": [],
   "source": [
    "state2, reward, done, info = env.step(2)"
   ]
  },
  {
   "cell_type": "code",
   "execution_count": null,
   "metadata": {},
   "outputs": [],
   "source": [
    "state2 = env.reset()\n",
    "for _ in range(15):\n",
    "    action, state1 = env.action_space.sample(), state2\n",
    "    state2, reward, done, info = env.step(action)\n",
    "    \n",
    "\n",
    "actions = F.one_hot(\n",
    "    torch.tensor([action]),\n",
    "    num_classes=env.action_space.n,\n",
    ").to(device)\n",
    "\n",
    "plt.axis(False)\n",
    "plt.imshow(state1['image'])\n",
    "plt.show()\n",
    "plt.axis(False)\n",
    "plt.imshow(state2['image'])\n",
    "plt.show()\n",
    "\n",
    "embed1, _ = net.encoder(torch.from_numpy(np.array([state1['image']/256])).to(device, dtype=torch.float32))\n",
    "embed2, _ = net.encoder(torch.from_numpy(np.array([state2['image']/256])).to(device, dtype=torch.float32))\n",
    "print('Distance', torch.dist(embed1, embed2, 2).detach().item())"
   ]
  },
  {
   "cell_type": "code",
   "execution_count": null,
   "metadata": {},
   "outputs": [],
   "source": [
    "states = torch.from_numpy(np.array([state1['image']/256])).to(device, dtype=torch.float32)\n",
    "actions = torch.from_numpy(np.array([1])).to(device)\n",
    "actions = F.one_hot(actions, num_classes=env.action_space.n)\n",
    "\n",
    "dec = net(states, actions)[0].detach()\n",
    "\n",
    "\n",
    "plt.axis('off')\n",
    "plt.imshow(state1['image'])\n",
    "plt.show()\n",
    "\n",
    "plt.axis('off')\n",
    "plt.imshow(dec[0])\n",
    "plt.show()"
   ]
  },
  {
   "cell_type": "code",
   "execution_count": null,
   "metadata": {},
   "outputs": [],
   "source": []
  },
  {
   "cell_type": "code",
   "execution_count": null,
   "metadata": {},
   "outputs": [],
   "source": []
  }
 ],
 "metadata": {
  "kernelspec": {
   "display_name": "Python 3",
   "language": "python",
   "name": "python3"
  },
  "language_info": {
   "codemirror_mode": {
    "name": "ipython",
    "version": 3
   },
   "file_extension": ".py",
   "mimetype": "text/x-python",
   "name": "python",
   "nbconvert_exporter": "python",
   "pygments_lexer": "ipython3",
   "version": "3.9.5"
  }
 },
 "nbformat": 4,
 "nbformat_minor": 4
}
