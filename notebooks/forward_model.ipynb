{
 "cells": [
  {
   "cell_type": "code",
   "execution_count": 1,
   "metadata": {},
   "outputs": [],
   "source": [
    "import gym\n",
    "import gym_minigrid\n",
    "import matplotlib.pyplot as plt\n",
    "import torch.nn.functional as F\n",
    "plt.style.use('ggplot')\n",
    "\n",
    "%load_ext autoreload\n",
    "%autoreload 2"
   ]
  },
  {
   "cell_type": "code",
   "execution_count": 2,
   "metadata": {},
   "outputs": [],
   "source": [
    "from gym.wrappers import Monitor\n",
    "from gym_minigrid.wrappers import FullyObsWrapper, RGBImgObsWrapper\n",
    "\n",
    "\n",
    "env = gym.make(\"MiniGrid-Dynamic-Obstacles-8x8-v0\")\n",
    "\n",
    "env = FullyObsWrapper(env)\n",
    "env = RGBImgObsWrapper(env)\n",
    "env = Monitor(env, '../experiments/artifacts/video/', force=True)"
   ]
  },
  {
   "cell_type": "code",
   "execution_count": 3,
   "metadata": {},
   "outputs": [],
   "source": [
    "import sys\n",
    "\n",
    "sys.path.append('..')\n",
    "\n",
    "from rllr.utils.plotting.video import show_video"
   ]
  },
  {
   "cell_type": "code",
   "execution_count": 4,
   "metadata": {},
   "outputs": [
    {
     "data": {
      "text/html": [
       "<video alt=\"test\" autoplay \n",
       "                loop controls style=\"height: 400px;\">\n",
       "                <source src=\"data:video/mp4;base64,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\" type=\"video/mp4\" />\n",
       "             </video>"
      ],
      "text/plain": [
       "<IPython.core.display.HTML object>"
      ]
     },
     "metadata": {},
     "output_type": "display_data"
    }
   ],
   "source": [
    "done = False\n",
    "\n",
    "env = gym.make(\"MiniGrid-Dynamic-Obstacles-8x8-v0\")\n",
    "env = FullyObsWrapper(env)\n",
    "env = RGBImgObsWrapper(env)\n",
    "env = Monitor(env, '../experiments/artifacts/video/', force=True)\n",
    "env.reset()\n",
    "\n",
    "while not done:\n",
    "    a = env.action_space.sample()\n",
    "    s, r, done, info = env.step(a)\n",
    "\n",
    "show_video()"
   ]
  },
  {
   "cell_type": "code",
   "execution_count": 5,
   "metadata": {},
   "outputs": [],
   "source": [
    "import torch\n",
    "from skimage.transform import resize\n",
    "import numpy as np\n",
    "\n",
    "device = \"cpu\"\n",
    "\n",
    "\n",
    "\n",
    "def rollout(env):\n",
    "    \n",
    "    states, next_states, actions = [],  [], []\n",
    "    done = False\n",
    "    \n",
    "    state = env.reset()\n",
    "    i = 0\n",
    "    \n",
    "    while not done:\n",
    "        action = env.action_space.sample()\n",
    "        next_state, reward, done, info = env.step(action)\n",
    "        states.append(state['image']/256) \n",
    "        next_states.append(next_state['image']/256)\n",
    "        actions.append(action)\n",
    "        state = next_state\n",
    "        i+=1\n",
    "    \n",
    "    states = torch.from_numpy(np.array(states)).to(device, dtype=torch.float32)\n",
    "    next_states = torch.from_numpy(np.array(next_states)).to(device, dtype=torch.float32)\n",
    "    actions = torch.from_numpy(np.array(actions)).to(device)\n",
    "    return states, next_states, F.one_hot(actions, num_classes=env.action_space.n)"
   ]
  },
  {
   "cell_type": "code",
   "execution_count": 6,
   "metadata": {},
   "outputs": [],
   "source": [
    "states, next_states, actions = rollout(env)"
   ]
  },
  {
   "cell_type": "code",
   "execution_count": 7,
   "metadata": {},
   "outputs": [
    {
     "data": {
      "text/plain": [
       "torch.Size([11, 64, 64, 3])"
      ]
     },
     "execution_count": 7,
     "metadata": {},
     "output_type": "execute_result"
    }
   ],
   "source": [
    "states.size()"
   ]
  },
  {
   "cell_type": "code",
   "execution_count": 8,
   "metadata": {},
   "outputs": [
    {
     "data": {
      "text/plain": [
       "torch.Size([11, 3])"
      ]
     },
     "execution_count": 8,
     "metadata": {},
     "output_type": "execute_result"
    }
   ],
   "source": [
    "actions.size()"
   ]
  },
  {
   "cell_type": "code",
   "execution_count": 9,
   "metadata": {},
   "outputs": [
    {
     "data": {
      "image/png": "[encoded data removed]",
      "text/plain": [
       "<Figure size 432x288 with 1 Axes>"
      ]
     },
     "metadata": {},
     "output_type": "display_data"
    }
   ],
   "source": [
    "plt.axis('off')\n",
    "plt.imshow(states[1])\n",
    "plt.show()"
   ]
  },
  {
   "cell_type": "code",
   "execution_count": 10,
   "metadata": {},
   "outputs": [],
   "source": [
    "import torch\n",
    "from torch import nn\n",
    "from functools import reduce\n",
    "\n",
    "class Permute(nn.Module):\n",
    "    def __init__(self, *args):\n",
    "        super().__init__()\n",
    "        self.dims = args\n",
    "\n",
    "    def forward(self, x):\n",
    "        return x.permute(self.dims)\n",
    "\n",
    "class ForwardVAEModel(nn.Module):\n",
    "\n",
    "    def __init__(self, input_size, n_channels, kernel_sizes, strides, hidden_sizes, action_size):\n",
    "        super(ForwardVAEModel, self).__init__()\n",
    "\n",
    "        # Encoder convolutional layers\n",
    "        conv_layers_enc = [Permute(0, 3, 1, 2)]\n",
    "        self.input_size = input_size\n",
    "        cnn_output_size = self.input_size[:-1]\n",
    "        cur_channels = self.input_size[-1]\n",
    "        conv_params = zip(n_channels, kernel_sizes, strides)\n",
    "        for n_channel, kernel_size, stride in conv_params:\n",
    "            conv_layers_enc.append(nn.Conv2d(cur_channels, n_channel, kernel_size, stride))\n",
    "            conv_layers_enc.append(nn.ReLU(inplace=True))\n",
    "            cnn_output_size_x = (cnn_output_size[0] - kernel_size + stride) // stride\n",
    "            cnn_output_size_y = (cnn_output_size[1] - kernel_size + stride) // stride\n",
    "            cnn_output_size = [cnn_output_size_x, cnn_output_size_y]\n",
    "            cur_channels = n_channel\n",
    "        self.enc_conv_net = nn.Sequential(*conv_layers_enc)\n",
    "        self.cnn_output_sizes = [cur_channels] + cnn_output_size\n",
    "\n",
    "        # Encoder fully connected layers\n",
    "        fc_layers_enc = []\n",
    "        output_size = reduce(lambda x, y: x * y, self.cnn_output_sizes)\n",
    "        for hidden_size in hidden_sizes:\n",
    "            fc_layers_enc.append(nn.Linear(output_size, hidden_size))\n",
    "            fc_layers_enc.append(nn.ReLU(inplace=True))\n",
    "            output_size = hidden_size\n",
    "\n",
    "        fc_layers = fc_layers_enc[:-1]\n",
    "        self.enc_mu = nn.Sequential(*fc_layers)\n",
    "        self.enc_var = nn.Sequential(*fc_layers)\n",
    "\n",
    "        # Decoder fully connected layers\n",
    "        fc_layes_dec = []\n",
    "        input_size = hidden_sizes[-1] + action_size\n",
    "        output_size = reduce(lambda x, y: x * y, self.cnn_output_sizes)\n",
    "        for hidden_size in hidden_sizes[:-1][::-1]:\n",
    "            fc_layes_dec.append(nn.Linear(input_size, hidden_size))\n",
    "            fc_layes_dec.append(nn.ReLU(inplace=True))\n",
    "            input_size = hidden_size\n",
    "        fc_layes_dec.append(nn.Linear(input_size, output_size))\n",
    "        fc_layes_dec.append(nn.ReLU(inplace=True))\n",
    "        self.dec_fc = nn.Sequential(*fc_layes_dec)\n",
    "        conv_layers_dec = []\n",
    "\n",
    "        # Decoder deconvolution layers\n",
    "        n_channels = [3] + n_channels[:-1]\n",
    "        deconv_params = zip(n_channels[::-1], kernel_sizes[::-1], strides[::-1])\n",
    "        for n_channel, kernel_size, stride in deconv_params:\n",
    "            conv_layers_dec.append(nn.ConvTranspose2d(cur_channels, n_channel, kernel_size, stride))\n",
    "            conv_layers_dec.append(nn.ReLU(inplace=True))\n",
    "            cur_channels = n_channel\n",
    "        conv_layers_dec = conv_layers_dec[:-1]\n",
    "        conv_layers_dec.append(Permute(0, 2, 3, 1))\n",
    "        self.dec_conv_net = nn.Sequential(*conv_layers_dec)\n",
    "\n",
    "    def encoder(self, x):\n",
    "        x = self.enc_conv_net(x)\n",
    "        x = x.view(-1, reduce(lambda x, y: x * y, self.cnn_output_sizes))\n",
    "        mu = self.enc_mu(x)\n",
    "        log_var = self.enc_var(x)\n",
    "        return mu, log_var\n",
    "\n",
    "    def _reparameterize(self, mu, log_var):\n",
    "        std = torch.exp(log_var / 2)\n",
    "        eps = torch.randn_like(std)\n",
    "        return mu + std * eps\n",
    "\n",
    "    def decoder(self, z, actions):\n",
    "        z = torch.cat([z, actions], dim=1)\n",
    "        x = self.dec_fc(z)\n",
    "        x = x.view(-1, *self.cnn_output_sizes)\n",
    "        x = self.dec_conv_net(x)\n",
    "        return torch.sigmoid(x)\n",
    "\n",
    "    def forward(self, states, actions):\n",
    "        mu, log_var = self.encoder(states)\n",
    "        z = self._reparameterize(mu, log_var)\n",
    "        out = self.decoder(z, actions)\n",
    "        return out, mu, log_var"
   ]
  },
  {
   "cell_type": "code",
   "execution_count": 11,
   "metadata": {},
   "outputs": [
    {
     "data": {
      "text/plain": [
       "ForwardVAEModel(\n",
       "  (enc_conv_net): Sequential(\n",
       "    (0): Permute()\n",
       "    (1): Conv2d(3, 16, kernel_size=(5, 5), stride=(1, 1))\n",
       "    (2): ReLU(inplace=True)\n",
       "    (3): Conv2d(16, 32, kernel_size=(5, 5), stride=(1, 1))\n",
       "    (4): ReLU(inplace=True)\n",
       "  )\n",
       "  (enc_mu): Sequential(\n",
       "    (0): Linear(in_features=100352, out_features=32, bias=True)\n",
       "    (1): ReLU(inplace=True)\n",
       "    (2): Linear(in_features=32, out_features=32, bias=True)\n",
       "    (3): ReLU(inplace=True)\n",
       "    (4): Linear(in_features=32, out_features=32, bias=True)\n",
       "  )\n",
       "  (enc_var): Sequential(\n",
       "    (0): Linear(in_features=100352, out_features=32, bias=True)\n",
       "    (1): ReLU(inplace=True)\n",
       "    (2): Linear(in_features=32, out_features=32, bias=True)\n",
       "    (3): ReLU(inplace=True)\n",
       "    (4): Linear(in_features=32, out_features=32, bias=True)\n",
       "  )\n",
       "  (dec_fc): Sequential(\n",
       "    (0): Linear(in_features=35, out_features=32, bias=True)\n",
       "    (1): ReLU(inplace=True)\n",
       "    (2): Linear(in_features=32, out_features=32, bias=True)\n",
       "    (3): ReLU(inplace=True)\n",
       "    (4): Linear(in_features=32, out_features=100352, bias=True)\n",
       "    (5): ReLU(inplace=True)\n",
       "  )\n",
       "  (dec_conv_net): Sequential(\n",
       "    (0): ConvTranspose2d(32, 16, kernel_size=(5, 5), stride=(1, 1))\n",
       "    (1): ReLU(inplace=True)\n",
       "    (2): ConvTranspose2d(16, 3, kernel_size=(5, 5), stride=(1, 1))\n",
       "    (3): Permute()\n",
       "  )\n",
       ")"
      ]
     },
     "execution_count": 11,
     "metadata": {},
     "output_type": "execute_result"
    }
   ],
   "source": [
    "net = ForwardVAEModel(tuple(states.size()[1:]), n_channels=[16, 32], kernel_sizes=[5, 5], strides=[1, 1], hidden_sizes=[32, 32, 32], action_size=env.action_space.n).to(device)\n",
    "net"
   ]
  },
  {
   "cell_type": "code",
   "execution_count": 12,
   "metadata": {},
   "outputs": [
    {
     "data": {
      "image/png": "[encoded data removed]",
      "text/plain": [
       "<Figure size 432x288 with 1 Axes>"
      ]
     },
     "metadata": {},
     "output_type": "display_data"
    },
    {
     "data": {
      "image/png": "[encoded data removed]",
      "text/plain": [
       "<Figure size 432x288 with 1 Axes>"
      ]
     },
     "metadata": {},
     "output_type": "display_data"
    }
   ],
   "source": [
    "image_size = tuple(states.size()[1:])\n",
    "dec = net(states, actions)[0].detach()\n",
    "\n",
    "plt.axis('off')\n",
    "plt.imshow(states[0])\n",
    "plt.show()\n",
    "\n",
    "plt.axis('off')\n",
    "plt.imshow(dec[0])\n",
    "plt.show()"
   ]
  },
  {
   "cell_type": "code",
   "execution_count": 14,
   "metadata": {},
   "outputs": [
    {
     "name": "stderr",
     "output_type": "stream",
     "text": [
      "/opt/anaconda3/envs/rllr/lib/python3.7/site-packages/torch/nn/_reduction.py:44: UserWarning: size_average and reduce args will be deprecated, please use reduction='sum' instead.\n",
      "  warnings.warn(warning.format(ret))\n"
     ]
    },
    {
     "name": "stdout",
     "output_type": "stream",
     "text": [
      "Epoch 0: Loss 62903.12890625\n"
     ]
    },
    {
     "name": "stderr",
     "output_type": "stream",
     "text": [
      "/opt/anaconda3/envs/rllr/lib/python3.7/site-packages/torch/nn/_reduction.py:44: UserWarning: size_average and reduce args will be deprecated, please use reduction='sum' instead.\n",
      "  warnings.warn(warning.format(ret))\n",
      "/opt/anaconda3/envs/rllr/lib/python3.7/site-packages/torch/nn/_reduction.py:44: UserWarning: size_average and reduce args will be deprecated, please use reduction='sum' instead.\n",
      "  warnings.warn(warning.format(ret))\n",
      "/opt/anaconda3/envs/rllr/lib/python3.7/site-packages/torch/nn/_reduction.py:44: UserWarning: size_average and reduce args will be deprecated, please use reduction='sum' instead.\n",
      "  warnings.warn(warning.format(ret))\n"
     ]
    },
    {
     "name": "stdout",
     "output_type": "stream",
     "text": [
      "Epoch 100: Loss 65610.3359375\n"
     ]
    },
    {
     "name": "stderr",
     "output_type": "stream",
     "text": [
      "/opt/anaconda3/envs/rllr/lib/python3.7/site-packages/torch/nn/_reduction.py:44: UserWarning: size_average and reduce args will be deprecated, please use reduction='sum' instead.\n",
      "  warnings.warn(warning.format(ret))\n"
     ]
    },
    {
     "name": "stdout",
     "output_type": "stream",
     "text": [
      "Epoch 200: Loss 32333.63671875\n"
     ]
    },
    {
     "name": "stderr",
     "output_type": "stream",
     "text": [
      "/opt/anaconda3/envs/rllr/lib/python3.7/site-packages/torch/nn/_reduction.py:44: UserWarning: size_average and reduce args will be deprecated, please use reduction='sum' instead.\n",
      "  warnings.warn(warning.format(ret))\n"
     ]
    },
    {
     "name": "stdout",
     "output_type": "stream",
     "text": [
      "Epoch 300: Loss 4636.0654296875\n"
     ]
    },
    {
     "name": "stderr",
     "output_type": "stream",
     "text": [
      "/opt/anaconda3/envs/rllr/lib/python3.7/site-packages/torch/nn/_reduction.py:44: UserWarning: size_average and reduce args will be deprecated, please use reduction='sum' instead.\n",
      "  warnings.warn(warning.format(ret))\n"
     ]
    },
    {
     "name": "stdout",
     "output_type": "stream",
     "text": [
      "Epoch 400: Loss 31996.33203125\n",
      "Epoch 500: Loss 50285.80859375\n"
     ]
    },
    {
     "name": "stderr",
     "output_type": "stream",
     "text": [
      "/opt/anaconda3/envs/rllr/lib/python3.7/site-packages/torch/nn/_reduction.py:44: UserWarning: size_average and reduce args will be deprecated, please use reduction='sum' instead.\n",
      "  warnings.warn(warning.format(ret))\n"
     ]
    },
    {
     "name": "stdout",
     "output_type": "stream",
     "text": [
      "Epoch 600: Loss 27307.37890625\n",
      "Epoch 700: Loss 13681.7275390625\n"
     ]
    },
    {
     "name": "stderr",
     "output_type": "stream",
     "text": [
      "/opt/anaconda3/envs/rllr/lib/python3.7/site-packages/torch/nn/_reduction.py:44: UserWarning: size_average and reduce args will be deprecated, please use reduction='sum' instead.\n",
      "  warnings.warn(warning.format(ret))\n"
     ]
    },
    {
     "name": "stdout",
     "output_type": "stream",
     "text": [
      "Epoch 800: Loss 27378.212890625\n",
      "Epoch 900: Loss 27162.44140625\n"
     ]
    },
    {
     "name": "stderr",
     "output_type": "stream",
     "text": [
      "/opt/anaconda3/envs/rllr/lib/python3.7/site-packages/torch/nn/_reduction.py:44: UserWarning: size_average and reduce args will be deprecated, please use reduction='sum' instead.\n",
      "  warnings.warn(warning.format(ret))\n"
     ]
    },
    {
     "name": "stdout",
     "output_type": "stream",
     "text": [
      "Epoch 1000: Loss 13610.7998046875\n",
      "Epoch 1100: Loss 63882.99609375\n",
      "Epoch 1200: Loss 31901.26171875\n",
      "Epoch 1300: Loss 18229.71875\n",
      "Epoch 1400: Loss 9039.3134765625\n",
      "Epoch 1500: Loss 50094.453125\n",
      "Epoch 1600: Loss 13574.2734375\n",
      "Epoch 1700: Loss 68666.421875\n",
      "Epoch 1800: Loss 40800.33984375\n",
      "Epoch 1900: Loss 36425.0546875\n"
     ]
    },
    {
     "name": "stderr",
     "output_type": "stream",
     "text": [
      "/opt/anaconda3/envs/rllr/lib/python3.7/site-packages/torch/nn/_reduction.py:44: UserWarning: size_average and reduce args will be deprecated, please use reduction='sum' instead.\n",
      "  warnings.warn(warning.format(ret))\n"
     ]
    },
    {
     "name": "stdout",
     "output_type": "stream",
     "text": [
      "Epoch 2000: Loss 27058.181640625\n",
      "Epoch 2100: Loss 13580.1533203125\n",
      "Epoch 2200: Loss 22584.29296875\n",
      "Epoch 2300: Loss 9046.0732421875\n",
      "Epoch 2400: Loss 18312.76953125\n",
      "Epoch 2500: Loss 31895.0078125\n",
      "Epoch 2600: Loss 26938.841796875\n",
      "Epoch 2700: Loss 22618.568359375\n",
      "Epoch 2800: Loss 8979.4462890625\n",
      "Epoch 2900: Loss 72788.578125\n"
     ]
    },
    {
     "name": "stderr",
     "output_type": "stream",
     "text": [
      "/opt/anaconda3/envs/rllr/lib/python3.7/site-packages/torch/nn/_reduction.py:44: UserWarning: size_average and reduce args will be deprecated, please use reduction='sum' instead.\n",
      "  warnings.warn(warning.format(ret))\n"
     ]
    },
    {
     "name": "stdout",
     "output_type": "stream",
     "text": [
      "Epoch 3000: Loss 9021.919921875\n",
      "Epoch 3100: Loss 36146.46875\n",
      "Epoch 3200: Loss 18235.1328125\n",
      "Epoch 3300: Loss 27030.3671875\n",
      "Epoch 3400: Loss 172026.6875\n",
      "Epoch 3500: Loss 49671.1171875\n",
      "Epoch 3600: Loss 18082.91796875\n",
      "Epoch 3700: Loss 13571.4189453125\n",
      "Epoch 3800: Loss 22498.392578125\n",
      "Epoch 3900: Loss 18036.82421875\n"
     ]
    },
    {
     "name": "stderr",
     "output_type": "stream",
     "text": [
      "/opt/anaconda3/envs/rllr/lib/python3.7/site-packages/torch/nn/_reduction.py:44: UserWarning: size_average and reduce args will be deprecated, please use reduction='sum' instead.\n",
      "  warnings.warn(warning.format(ret))\n"
     ]
    },
    {
     "name": "stdout",
     "output_type": "stream",
     "text": [
      "Epoch 4000: Loss 13502.4130859375\n",
      "Epoch 4100: Loss 54372.79296875\n",
      "Epoch 4200: Loss 9076.3017578125\n",
      "Epoch 4300: Loss 13490.1591796875\n",
      "Epoch 4400: Loss 17963.23046875\n",
      "Epoch 4500: Loss 40361.66796875\n",
      "Epoch 4600: Loss 26873.865234375\n",
      "Epoch 4700: Loss 58802.64453125\n",
      "Epoch 4800: Loss 8953.341796875\n",
      "Epoch 4900: Loss 17999.662109375\n"
     ]
    },
    {
     "name": "stderr",
     "output_type": "stream",
     "text": [
      "/opt/anaconda3/envs/rllr/lib/python3.7/site-packages/torch/nn/_reduction.py:44: UserWarning: size_average and reduce args will be deprecated, please use reduction='sum' instead.\n",
      "  warnings.warn(warning.format(ret))\n"
     ]
    }
   ],
   "source": [
    "from torch.nn import functional as F\n",
    "\n",
    "num_epochs = 5000\n",
    "learning_rate = 1e-3\n",
    "\n",
    "\"\"\"\n",
    "Initialize the network and the Adam optimizer\n",
    "\"\"\"\n",
    "image_size = tuple(states.size()[1:])\n",
    "net = ForwardVAEModel(tuple(states.size()[1:]), n_channels=[16, 32], kernel_sizes=[5, 5], \n",
    "                      strides=[1, 1], hidden_sizes=[32], action_size=env.action_space.n).to(device)\n",
    "optimizer = torch.optim.Adam(net.parameters(), lr=learning_rate)\n",
    "\n",
    "\n",
    "\"\"\"\n",
    "Training the network for a given number of epochs\n",
    "The loss after every epoch is printed\n",
    "\"\"\"\n",
    "\n",
    "done = True\n",
    "\n",
    "for epoch in range(num_epochs):\n",
    "    states, next_states, actions = rollout(env)\n",
    "    states = states.to(device)\n",
    "    next_states = next_states.to(device)\n",
    "    actions = actions.to(device)\n",
    "    \n",
    "    # Feeding a batch of images into the network to obtain the output image, mu, and logVar\n",
    "    out, mu, logVar = net(states, actions)\n",
    "\n",
    "    # The loss is the BCE loss combined with the KL divergence to ensure the distribution is learnt\n",
    "    kl_divergence = 0.5 * torch.sum(-1 - logVar + mu.pow(2) + logVar.exp())\n",
    "    loss = F.binary_cross_entropy(out, next_states, size_average=False) + kl_divergence\n",
    "\n",
    "    # Backpropagation based on the loss\n",
    "    optimizer.zero_grad()\n",
    "    loss.backward()\n",
    "    optimizer.step()\n",
    "    if epoch%100==0:\n",
    "        print('Epoch {}: Loss {}'.format(epoch, loss))\n",
    "        "
   ]
  },
  {
   "cell_type": "code",
   "execution_count": 15,
   "metadata": {},
   "outputs": [],
   "source": [
    "env = gym.make(\"MiniGrid-Dynamic-Obstacles-8x8-v0\")\n",
    "env = FullyObsWrapper(env)\n",
    "env = RGBImgObsWrapper(env)\n",
    "env = Monitor(env, '../experiments/artifacts/video/', force=True)\n",
    "env.reset()\n",
    "\n",
    "action = 2\n",
    "state1, reward, done, info = env.step(action)"
   ]
  },
  {
   "cell_type": "code",
   "execution_count": 16,
   "metadata": {},
   "outputs": [
    {
     "data": {
      "image/png": "[encoded data removed]",
      "text/plain": [
       "<Figure size 432x288 with 1 Axes>"
      ]
     },
     "metadata": {},
     "output_type": "display_data"
    },
    {
     "data": {
      "image/png": "[encoded data removed]",
      "text/plain": [
       "<Figure size 432x288 with 1 Axes>"
      ]
     },
     "metadata": {},
     "output_type": "display_data"
    },
    {
     "name": "stdout",
     "output_type": "stream",
     "text": [
      "Distance 4.538557529449463\n"
     ]
    }
   ],
   "source": [
    "state2, reward, done, info = env.step(2)\n",
    "\n",
    "plt.axis(False)\n",
    "plt.imshow(state1['image'])\n",
    "plt.show()\n",
    "plt.axis(False)\n",
    "plt.imshow(state2['image'])\n",
    "plt.show()\n",
    "\n",
    "embed1, _ = net.encoder(torch.from_numpy(np.array([state1['image']/256])).to(device, dtype=torch.float32))\n",
    "embed2, _ = net.encoder(torch.from_numpy(np.array([state2['image']/256])).to(device, dtype=torch.float32))\n",
    "print('Distance', torch.dist(embed1, embed2, 2).detach().item())"
   ]
  },
  {
   "cell_type": "code",
   "execution_count": 51,
   "metadata": {},
   "outputs": [
    {
     "data": {
      "image/png": "[encoded data removed]",
      "text/plain": [
       "<Figure size 432x288 with 1 Axes>"
      ]
     },
     "metadata": {},
     "output_type": "display_data"
    },
    {
     "data": {
      "image/png": "[encoded data removed]",
      "text/plain": [
       "<Figure size 432x288 with 1 Axes>"
      ]
     },
     "metadata": {},
     "output_type": "display_data"
    }
   ],
   "source": [
    "states = torch.from_numpy(np.array([state1['image']/256])).to(device, dtype=torch.float32)\n",
    "actions = torch.from_numpy(np.array([1])).to(device)\n",
    "actions = F.one_hot(actions, num_classes=env.action_space.n)\n",
    "\n",
    "dec = net(states, actions)[0].detach()\n",
    "\n",
    "\n",
    "plt.axis('off')\n",
    "plt.imshow(state1['image'])\n",
    "plt.show()\n",
    "\n",
    "plt.axis('off')\n",
    "plt.imshow(dec[0])\n",
    "plt.show()"
   ]
  },
  {
   "cell_type": "code",
   "execution_count": null,
   "metadata": {},
   "outputs": [],
   "source": []
  },
  {
   "cell_type": "code",
   "execution_count": null,
   "metadata": {},
   "outputs": [],
   "source": []
  }
 ],
 "metadata": {
  "kernelspec": {
   "display_name": "Python 3.7 (rllr)",
   "language": "python",
   "name": "rllr"
  },
  "language_info": {
   "codemirror_mode": {
    "name": "ipython",
    "version": 3
   },
   "file_extension": ".py",
   "mimetype": "text/x-python",
   "name": "python",
   "nbconvert_exporter": "python",
   "pygments_lexer": "ipython3",
   "version": "3.7.9"
  }
 },
 "nbformat": 4,
 "nbformat_minor": 4
}
