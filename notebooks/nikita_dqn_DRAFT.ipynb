{
 "cells": [
  {
   "cell_type": "code",
   "execution_count": 1,
   "metadata": {},
   "outputs": [
    {
     "data": {
      "text/html": [
       "<style>.container { width:90% !important; }</style>"
      ],
      "text/plain": [
       "<IPython.core.display.HTML object>"
      ]
     },
     "metadata": {},
     "output_type": "display_data"
    }
   ],
   "source": [
    "from IPython.core.display import display, HTML\n",
    "display(HTML(\"<style>.container { width:90% !important; }</style>\"))"
   ]
  },
  {
   "cell_type": "code",
   "execution_count": 2,
   "metadata": {},
   "outputs": [],
   "source": [
    "import matplotlib.pyplot as plt\n",
    "from pprint import pprint\n",
    "\n",
    "%matplotlib inline\n",
    "plt.rcParams['figure.figsize'] = (10.0, 8.0) # set default size of plots\n",
    "plt.rcParams['image.interpolation'] = 'nearest'\n",
    "plt.rcParams['image.cmap'] = 'gray'\n",
    "\n",
    "plt.style.use('ggplot')\n",
    "\n",
    "%load_ext autoreload\n",
    "%autoreload 2"
   ]
  },
  {
   "cell_type": "code",
   "execution_count": 3,
   "metadata": {},
   "outputs": [],
   "source": [
    "import sys\n",
    "sys.path.append('..')\n",
    "\n",
    "from gym_minigrid_navigation.utils import show_video\n",
    "from navigation_policy import gen_env, get_agent, run_episode, run_episodes\n",
    "\n",
    "from rewards import get_reward_function\n",
    "from utils import init_logger, switch_reproducibility_on, display_stats\n",
    "\n",
    "\n",
    "import logging\n",
    "logger = logging.getLogger(__name__)\n",
    "\n",
    "init_logger('__main__')\n",
    "\n",
    "init_logger('dqn')\n",
    "init_logger('expected_steps')\n",
    "init_logger('navigation_policy')\n",
    "init_logger('gym_minigrid_navigation.environments')"
   ]
  },
  {
   "cell_type": "markdown",
   "metadata": {},
   "source": [
    "### config "
   ]
  },
  {
   "cell_type": "code",
   "execution_count": 4,
   "metadata": {},
   "outputs": [],
   "source": [
    "from pyhocon import ConfigFactory\n",
    "\n",
    "config = ConfigFactory.parse_file('../conf/minigrid_dqn_draft.hocon')\n",
    "config['env']['video_path'] = '../outputs/video/'\n",
    "\n",
    "switch_reproducibility_on(config['seed'])"
   ]
  },
  {
   "cell_type": "markdown",
   "metadata": {},
   "source": [
    "### agent and steps amount model"
   ]
  },
  {
   "cell_type": "code",
   "execution_count": 5,
   "metadata": {},
   "outputs": [
    {
     "name": "stderr",
     "output_type": "stream",
     "text": [
      "2021-03-17 14:34:38,718 INFO    dqn                    : Running on device: cuda:0\n"
     ]
    }
   ],
   "source": [
    "agent = get_agent(config)"
   ]
  },
  {
   "cell_type": "code",
   "execution_count": 6,
   "metadata": {},
   "outputs": [
    {
     "data": {
      "text/plain": [
       "ConfigTree([('env_type', 'gym_minigrid'),\n",
       "            ('env_task', 'MiniGrid-Empty'),\n",
       "            ('grid_size', 8),\n",
       "            ('action_size', 3),\n",
       "            ('rgb_image', True),\n",
       "            ('tile_size', 4),\n",
       "            ('goal_type', 'from_buffer'),\n",
       "            ('buffer_size', 1000),\n",
       "            ('task_complexity', 10),\n",
       "            ('video_path', '../outputs/video/')])"
      ]
     },
     "execution_count": 6,
     "metadata": {},
     "output_type": "execute_result"
    }
   ],
   "source": [
    "config['env']"
   ]
  },
  {
   "cell_type": "code",
   "execution_count": 7,
   "metadata": {},
   "outputs": [],
   "source": [
    "reward_function = get_reward_function(config)\n",
    "env = gen_env(config['env'], reward_function=reward_function)"
   ]
  },
  {
   "cell_type": "code",
   "execution_count": 8,
   "metadata": {},
   "outputs": [
    {
     "name": "stderr",
     "output_type": "stream",
     "text": [
      "2021-03-17 14:36:06,006 INFO    navigation_policy      : Episode: 100. scores: -8.04, steps: 89.75\n",
      "2021-03-17 14:37:13,016 INFO    navigation_policy      : Episode: 200. scores: -5.10, steps: 60.83\n",
      "2021-03-17 14:37:52,743 INFO    navigation_policy      : Episode: 300. scores: -2.99, steps: 39.71\n",
      "2021-03-17 14:38:15,043 INFO    navigation_policy      : Episode: 400. scores: -1.06, steps: 21.20\n",
      "2021-03-17 14:38:49,053 INFO    navigation_policy      : Episode: 500. scores: -1.47, steps: 24.88\n",
      "2021-03-17 14:39:15,510 INFO    navigation_policy      : Episode: 600. scores: -0.99, steps: 20.19\n",
      "2021-03-17 14:39:26,138 INFO    navigation_policy      : Episode: 700. scores: -0.07, steps: 11.38\n",
      "2021-03-17 14:39:37,411 INFO    navigation_policy      : Episode: 800. scores: -0.32, steps: 13.87\n",
      "2021-03-17 14:39:47,495 INFO    navigation_policy      : Episode: 900. scores: -0.10, steps: 11.77\n",
      "2021-03-17 14:39:55,486 INFO    navigation_policy      : Episode: 1000. scores: 0.09, steps: 9.86\n",
      "2021-03-17 14:40:06,849 INFO    navigation_policy      : Episode: 1100. scores: -0.24, steps: 13.14\n",
      "2021-03-17 14:40:14,198 INFO    navigation_policy      : Episode: 1200. scores: 0.19, steps: 8.85\n",
      "2021-03-17 14:40:20,329 INFO    navigation_policy      : Episode: 1300. scores: 0.36, steps: 7.33\n",
      "2021-03-17 14:40:26,895 INFO    navigation_policy      : Episode: 1400. scores: 0.33, steps: 7.56\n",
      "2021-03-17 14:40:36,193 INFO    navigation_policy      : Episode: 1500. scores: -0.06, steps: 11.31\n",
      "2021-03-17 14:40:43,429 INFO    navigation_policy      : Episode: 1600. scores: 0.25, steps: 8.37\n",
      "2021-03-17 14:40:47,115 INFO    navigation_policy      : Episode: 1700. scores: 0.68, steps: 4.20\n"
     ]
    }
   ],
   "source": [
    "scores, steps = run_episodes(\n",
    "    env=env,\n",
    "    agent=agent,\n",
    "    n_episodes=config['training.n_episodes'],\n",
    "    verbose=config['training.verbose'],\n",
    "    max_steps=config['training'].get('max_steps', 100_000)\n",
    ")"
   ]
  },
  {
   "cell_type": "code",
   "execution_count": null,
   "metadata": {},
   "outputs": [],
   "source": []
  },
  {
   "cell_type": "code",
   "execution_count": null,
   "metadata": {},
   "outputs": [],
   "source": []
  },
  {
   "cell_type": "code",
   "execution_count": null,
   "metadata": {},
   "outputs": [],
   "source": []
  },
  {
   "cell_type": "markdown",
   "metadata": {},
   "source": [
    "## check"
   ]
  },
  {
   "cell_type": "code",
   "execution_count": 9,
   "metadata": {},
   "outputs": [],
   "source": [
    "config['env']['goal_type'] = 'random' \n",
    "env = gen_env(config['env'], reward_function=reward_function)"
   ]
  },
  {
   "cell_type": "code",
   "execution_count": 10,
   "metadata": {},
   "outputs": [
    {
     "name": "stderr",
     "output_type": "stream",
     "text": [
      "2021-03-17 14:46:06,251 INFO    navigation_policy      : Episode: 100. scores: -7.71, steps: 85.23\n"
     ]
    }
   ],
   "source": [
    "scores, steps = run_episodes(\n",
    "    env=env,\n",
    "    agent=agent,\n",
    "    train_mode=True,\n",
    "    n_episodes=100,\n",
    "    verbose=config['training.verbose']\n",
    ")"
   ]
  },
  {
   "cell_type": "code",
   "execution_count": 31,
   "metadata": {},
   "outputs": [
    {
     "data": {
      "text/html": [
       "<video alt=\"test\" autoplay \n",
       "                loop controls style=\"height: 400px;\">\n",
       "                <source src=\"data:video/mp4;base64,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\" type=\"video/mp4\" />\n",
       "             </video>"
      ],
      "text/plain": [
       "<IPython.core.display.HTML object>"
      ]
     },
     "metadata": {},
     "output_type": "display_data"
    }
   ],
   "source": [
    "# env = gen_env(config['env'], reward_function, verbose=True)\n",
    "# print(run_episode(env, agent, train_mode=False))\n",
    "\n",
    "show_video(config['env.video_path'])"
   ]
  },
  {
   "cell_type": "code",
   "execution_count": 32,
   "metadata": {},
   "outputs": [
    {
     "ename": "ModuleNotFoundError",
     "evalue": "No module named 'luigi'",
     "output_type": "error",
     "traceback": [
      "\u001b[0;31m---------------------------------------------------------------------------\u001b[0m",
      "\u001b[0;31mModuleNotFoundError\u001b[0m                       Traceback (most recent call last)",
      "\u001b[0;32m<ipython-input-32-d08b0661d783>\u001b[0m in \u001b[0;36m<module>\u001b[0;34m\u001b[0m\n\u001b[0;32m----> 1\u001b[0;31m \u001b[0;32mimport\u001b[0m \u001b[0mluigi\u001b[0m\u001b[0;34m\u001b[0m\u001b[0;34m\u001b[0m\u001b[0m\n\u001b[0m",
      "\u001b[0;31mModuleNotFoundError\u001b[0m: No module named 'luigi'"
     ]
    }
   ],
   "source": [
    "import luigi"
   ]
  },
  {
   "cell_type": "code",
   "execution_count": null,
   "metadata": {},
   "outputs": [],
   "source": []
  },
  {
   "cell_type": "code",
   "execution_count": 24,
   "metadata": {},
   "outputs": [],
   "source": [
    "import numpy as np"
   ]
  },
  {
   "cell_type": "code",
   "execution_count": 30,
   "metadata": {},
   "outputs": [
    {
     "data": {
      "text/plain": [
       "16"
      ]
     },
     "execution_count": 30,
     "metadata": {},
     "output_type": "execute_result"
    }
   ],
   "source": [
    "a = 10, 20\n",
    "\n",
    "np.random.randint(*a)"
   ]
  },
  {
   "cell_type": "code",
   "execution_count": null,
   "metadata": {},
   "outputs": [],
   "source": []
  },
  {
   "cell_type": "code",
   "execution_count": null,
   "metadata": {},
   "outputs": [],
   "source": []
  },
  {
   "cell_type": "code",
   "execution_count": null,
   "metadata": {},
   "outputs": [],
   "source": []
  },
  {
   "cell_type": "code",
   "execution_count": 124,
   "metadata": {},
   "outputs": [
    {
     "data": {
      "text/plain": [
       "False"
      ]
     },
     "execution_count": 124,
     "metadata": {},
     "output_type": "execute_result"
    }
   ],
   "source": [
    "type(8.) == int"
   ]
  },
  {
   "cell_type": "code",
   "execution_count": 65,
   "metadata": {},
   "outputs": [],
   "source": [
    "import sys\n",
    "sys.path.append('..')"
   ]
  },
  {
   "cell_type": "code",
   "execution_count": 66,
   "metadata": {},
   "outputs": [],
   "source": [
    "from gym_minigrid_navigation.encoders import *"
   ]
  },
  {
   "cell_type": "code",
   "execution_count": 120,
   "metadata": {},
   "outputs": [],
   "source": [
    "config = ConfigFactory.parse_file('../conf/minigrid_dqn_draft.hocon')"
   ]
  },
  {
   "cell_type": "code",
   "execution_count": 121,
   "metadata": {},
   "outputs": [
    {
     "data": {
      "text/plain": [
       "400"
      ]
     },
     "execution_count": 121,
     "metadata": {},
     "output_type": "execute_result"
    }
   ],
   "source": [
    "CNNAllLayers(16, config['worker']).output_size"
   ]
  },
  {
   "cell_type": "code",
   "execution_count": 119,
   "metadata": {},
   "outputs": [
    {
     "data": {
      "text/plain": [
       "144"
      ]
     },
     "execution_count": 119,
     "metadata": {},
     "output_type": "execute_result"
    }
   ],
   "source": [
    "SimpleCNN(16, config['worker']).output_size"
   ]
  },
  {
   "cell_type": "code",
   "execution_count": 101,
   "metadata": {},
   "outputs": [],
   "source": [
    "env = gen_env(config['env'], reward_function=lambda *args: 0)"
   ]
  },
  {
   "cell_type": "code",
   "execution_count": 102,
   "metadata": {},
   "outputs": [],
   "source": [
    "a = torch.from_numpy(env.reset()['image']).unsqueeze(0).float()"
   ]
  },
  {
   "cell_type": "code",
   "execution_count": 103,
   "metadata": {},
   "outputs": [
    {
     "data": {
      "text/plain": [
       "torch.Size([1, 64, 64, 3])"
      ]
     },
     "execution_count": 103,
     "metadata": {},
     "output_type": "execute_result"
    }
   ],
   "source": [
    "a.shape"
   ]
  },
  {
   "cell_type": "code",
   "execution_count": 104,
   "metadata": {},
   "outputs": [
    {
     "data": {
      "text/plain": [
       "torch.Size([1, 1792])"
      ]
     },
     "execution_count": 104,
     "metadata": {},
     "output_type": "execute_result"
    }
   ],
   "source": [
    "net(a).shape"
   ]
  },
  {
   "cell_type": "code",
   "execution_count": null,
   "metadata": {},
   "outputs": [],
   "source": []
  },
  {
   "cell_type": "code",
   "execution_count": null,
   "metadata": {},
   "outputs": [],
   "source": []
  },
  {
   "cell_type": "markdown",
   "metadata": {},
   "source": [
    "### steps amount model trainings "
   ]
  },
  {
   "cell_type": "code",
   "execution_count": 6,
   "metadata": {},
   "outputs": [],
   "source": [
    "expected_steps_learner = ExpectedStepsAmountLeaner(config['expected_steps_params'])"
   ]
  },
  {
   "cell_type": "code",
   "execution_count": 7,
   "metadata": {},
   "outputs": [],
   "source": [
    "config['env']['goal_type'] = 'random'"
   ]
  },
  {
   "cell_type": "code",
   "execution_count": 8,
   "metadata": {},
   "outputs": [],
   "source": [
    "env = gen_env(config['env'], reward_function=lambda *args: 0)"
   ]
  },
  {
   "cell_type": "code",
   "execution_count": null,
   "metadata": {},
   "outputs": [
    {
     "name": "stderr",
     "output_type": "stream",
     "text": [
      "2021-02-18 12:04:33,962 INFO    navigation_policy      : Episode: 100. scores: 0.00, steps: 34.51, L1loss: 7.68\n",
      "2021-02-18 12:04:50,874 INFO    navigation_policy      : Episode: 200. scores: 0.00, steps: 37.01, L1loss: 7.15\n"
     ]
    }
   ],
   "source": [
    "expected_steps_learner.config['update_step'] = 10_000_000\n",
    "\n",
    "scores, steps = run_episodes(\n",
    "    env=env,\n",
    "    agent=agent,\n",
    "    steps_learner=expected_steps_learner,\n",
    "    n_episodes=config['expected_steps_params.warm_up'],\n",
    "    agent_train_mode=False,\n",
    "    verbose=config['training.verbose'],\n",
    "    max_steps=config['expected_steps_params.warm_up_max_steps']\n",
    ")"
   ]
  },
  {
   "cell_type": "code",
   "execution_count": null,
   "metadata": {},
   "outputs": [],
   "source": [
    "agent.eps"
   ]
  },
  {
   "cell_type": "markdown",
   "metadata": {},
   "source": [
    "### agent training "
   ]
  },
  {
   "cell_type": "code",
   "execution_count": null,
   "metadata": {},
   "outputs": [],
   "source": [
    "reward_function = ExpectedStepsAmountReward(expected_steps_learner.model)\n",
    "env = gen_env(config['env'], reward_function=reward_function)"
   ]
  },
  {
   "cell_type": "code",
   "execution_count": null,
   "metadata": {},
   "outputs": [],
   "source": [
    "scores, steps = run_episodes(\n",
    "    env=env,\n",
    "    agent=agent,\n",
    "    steps_learner=expected_steps_learner,\n",
    "    n_episodes=config['training.n_episodes'],\n",
    "    verbose=config['training.verbose']\n",
    ")"
   ]
  },
  {
   "cell_type": "code",
   "execution_count": null,
   "metadata": {},
   "outputs": [],
   "source": [
    "display_stats(scores, steps)"
   ]
  },
  {
   "cell_type": "code",
   "execution_count": null,
   "metadata": {},
   "outputs": [],
   "source": [
    "env = gen_env(config['env'], reward_function, verbose=True)\n",
    "print(run_episode(env, agent, train_mode=True))\n",
    "\n",
    "show_video(config['env.video_path'])"
   ]
  },
  {
   "cell_type": "code",
   "execution_count": null,
   "metadata": {},
   "outputs": [],
   "source": []
  },
  {
   "cell_type": "code",
   "execution_count": null,
   "metadata": {},
   "outputs": [],
   "source": []
  },
  {
   "cell_type": "code",
   "execution_count": null,
   "metadata": {},
   "outputs": [],
   "source": [
    "None / 3"
   ]
  },
  {
   "cell_type": "code",
   "execution_count": null,
   "metadata": {},
   "outputs": [],
   "source": [
    "import numpy as np\n",
    "np.nan / 3"
   ]
  },
  {
   "cell_type": "code",
   "execution_count": null,
   "metadata": {},
   "outputs": [],
   "source": [
    "a = 0\n",
    "a += np.nan\n",
    "a == np.nan"
   ]
  },
  {
   "cell_type": "code",
   "execution_count": null,
   "metadata": {},
   "outputs": [],
   "source": []
  },
  {
   "cell_type": "code",
   "execution_count": null,
   "metadata": {},
   "outputs": [],
   "source": []
  },
  {
   "cell_type": "code",
   "execution_count": null,
   "metadata": {},
   "outputs": [],
   "source": []
  },
  {
   "cell_type": "code",
   "execution_count": null,
   "metadata": {},
   "outputs": [],
   "source": []
  },
  {
   "cell_type": "code",
   "execution_count": null,
   "metadata": {},
   "outputs": [],
   "source": [
    "from pyhocon import ConfigFactory\n",
    "\n",
    "config = ConfigFactory.parse_file('../conf/minigrid_dqn_navigation_draft.hocon')\n",
    "config['env']['video_path'] = '../outputs/video/'\n",
    "\n",
    "switch_reproducibility_on(config['seed'])"
   ]
  },
  {
   "cell_type": "markdown",
   "metadata": {},
   "source": [
    "### trainings "
   ]
  },
  {
   "cell_type": "code",
   "execution_count": null,
   "metadata": {},
   "outputs": [],
   "source": [
    "# reward_function = get_reward_function(config)\n",
    "reward_function = get_reward_function({'training.reward': 'explicit_pos_reward'})\n",
    "\n",
    "agent = get_agent(config)\n",
    "env = gen_env(config['env'], reward_function)\n",
    "scores, steps = run_episodes(env, agent, n_episodes=config['training.n_episodes'], verbose=config['training.verbose'])\n",
    "\n",
    "display_stats(scores, steps)"
   ]
  },
  {
   "cell_type": "markdown",
   "metadata": {},
   "source": [
    "### visualisation "
   ]
  },
  {
   "cell_type": "code",
   "execution_count": null,
   "metadata": {},
   "outputs": [],
   "source": [
    "# env = gen_env(config['env'], reward_function, verbose=True)\n",
    "# print(run_episode(env, agent, train_mode=False))\n",
    "\n",
    "# show_video(config['env.video_path'])"
   ]
  },
  {
   "cell_type": "code",
   "execution_count": null,
   "metadata": {},
   "outputs": [],
   "source": []
  },
  {
   "cell_type": "code",
   "execution_count": null,
   "metadata": {},
   "outputs": [],
   "source": [
    "import random\n",
    "import torch\n",
    "import numpy as np\n",
    "\n",
    "from fast_tensor_data_loader import FastTensorDataLoader\n",
    "from expected_steps import ExpectedStepsAmountModel\n",
    "from rewards import ExpectedStepsAmount"
   ]
  },
  {
   "cell_type": "code",
   "execution_count": null,
   "metadata": {},
   "outputs": [],
   "source": [
    "grid_size = config['env.grid_size'] * config['env'].get('tile_size', 1)"
   ]
  },
  {
   "cell_type": "code",
   "execution_count": null,
   "metadata": {},
   "outputs": [],
   "source": [
    "expected_steps_learner = ExpectedStepsAmountModel(grid_size, config['training.reward_params'])\n",
    "agent = get_agent(config)"
   ]
  },
  {
   "cell_type": "code",
   "execution_count": null,
   "metadata": {},
   "outputs": [],
   "source": [
    "env = gen_env(config['env'], reward_function=lambda *args: 0)\n",
    "env.env.env.max_steps = 40  # TOBD: config\n",
    "expected_steps_learner.model.fc[-1].bias.data.fill_(20.)\n",
    "\n",
    "expected_steps_learner.reset_buffer()\n",
    "expected_steps_learner.collect_episodes(env, agent)\n",
    "expected_steps_learner.learn(verbose=True)\n",
    "\n",
    "arr = np.array([x for _, _, x in expected_steps_learner.buffer])\n",
    "logger.info(f'{np.quantile(arr, np.arange(0, 1, 0.1))}')    "
   ]
  },
  {
   "cell_type": "code",
   "execution_count": null,
   "metadata": {},
   "outputs": [],
   "source": [
    "# agent = get_agent(config)"
   ]
  },
  {
   "cell_type": "code",
   "execution_count": null,
   "metadata": {},
   "outputs": [],
   "source": [
    "expected_reward_function = ExpectedStepsAmount(expected_steps_learner.model)\n",
    "env = gen_env(config['env'], reward_function=expected_reward_function)\n",
    "# env.env.env.max_steps = 50  # TOBD: config\n",
    "\n",
    "# agent.reset_buffer()\n",
    "scores, steps = run_episodes(env, agent, n_episodes=3000, verbose=300)"
   ]
  },
  {
   "cell_type": "code",
   "execution_count": null,
   "metadata": {},
   "outputs": [],
   "source": [
    "env = gen_env(config['env'], expected_reward_function, verbose=True)\n",
    "print(run_episode(env, agent, train_mode=True))\n",
    "\n",
    "show_video(config['env.video_path'])"
   ]
  },
  {
   "cell_type": "code",
   "execution_count": null,
   "metadata": {},
   "outputs": [],
   "source": [
    "env = gen_env(config['env'], reward_function=lambda *args: 0)\n",
    "env.env.env.max_steps = 40  # TOBD: config\n",
    "expected_steps_learner.model.fc[-1].bias.data.fill_(20.)\n",
    "\n",
    "expected_steps_learner.reset_buffer()\n",
    "expected_steps_learner.collect_episodes(env, agent)\n",
    "expected_steps_learner.learn(verbose=True)\n",
    "\n",
    "arr = np.array([x for _, _, x in expected_steps_learner.buffer])\n",
    "logger.info(f'{np.quantile(arr, np.arange(0, 1, 0.1))}')  "
   ]
  },
  {
   "cell_type": "code",
   "execution_count": null,
   "metadata": {},
   "outputs": [],
   "source": [
    "expected_reward_function = ExpectedStepsAmount(expected_steps_learner.model)\n",
    "env = gen_env(config['env'], reward_function=expected_reward_function)\n",
    "# env.env.env.max_steps = 50  # TOBD: config\n",
    "\n",
    "agent.reset_buffer()\n",
    "scores, steps = run_episodes(env, agent, n_episodes=3000, verbose=300)"
   ]
  },
  {
   "cell_type": "code",
   "execution_count": null,
   "metadata": {},
   "outputs": [],
   "source": [
    "agent.eps"
   ]
  },
  {
   "cell_type": "code",
   "execution_count": null,
   "metadata": {},
   "outputs": [],
   "source": []
  },
  {
   "cell_type": "code",
   "execution_count": null,
   "metadata": {},
   "outputs": [],
   "source": [
    "config = ConfigFactory.parse_file('../conf/minigrid_dqn_draft.hocon')\n",
    "config['env']"
   ]
  },
  {
   "cell_type": "code",
   "execution_count": null,
   "metadata": {},
   "outputs": [],
   "source": []
  },
  {
   "cell_type": "code",
   "execution_count": null,
   "metadata": {},
   "outputs": [],
   "source": []
  },
  {
   "cell_type": "code",
   "execution_count": null,
   "metadata": {},
   "outputs": [],
   "source": []
  },
  {
   "cell_type": "code",
   "execution_count": null,
   "metadata": {},
   "outputs": [],
   "source": [
    "stop"
   ]
  },
  {
   "cell_type": "code",
   "execution_count": null,
   "metadata": {},
   "outputs": [],
   "source": [
    "import torch\n",
    "\n",
    "def metric(model, buffer, device=torch.device('cuda')):\n",
    "    def _vstack(arr):\n",
    "        arr = np.vstack([np.expand_dims(x, axis=0) for x in arr])\n",
    "        return torch.from_numpy(arr).float()\n",
    "\n",
    "    states, goal_states, y = map(_vstack, zip(*buffer))\n",
    "    y = y.squeeze()\n",
    "    y = torch.clamp(y, max=20)  # !!! hot fix\n",
    "    model.eval()\n",
    "    \n",
    "    loss_fn = torch.nn.L1Loss()\n",
    "    train_loader = FastTensorDataLoader(states, goal_states, y, batch_size=1000)\n",
    "\n",
    "    loss_sum = 0\n",
    "    for batch_state, batch_goal_state, batch_y in train_loader:\n",
    "        with torch.no_grad():\n",
    "            output = model(batch_state.to(device), batch_goal_state.to(device))\n",
    "            loss = loss_fn(output, batch_y.to(device))\n",
    "        loss_sum += loss.cpu().numpy().item()\n",
    "    return loss_sum / len(train_loader)"
   ]
  },
  {
   "cell_type": "code",
   "execution_count": null,
   "metadata": {},
   "outputs": [],
   "source": [
    "import random\n",
    "import torch\n",
    "import numpy as np\n",
    "\n",
    "from navigation_policy import *\n",
    "from expected_steps import ExpectedStepsAmountLearner\n",
    "from rewards import ExpectedStepsAmount\n",
    "from fast_tensor_data_loader import FastTensorDataLoader"
   ]
  },
  {
   "cell_type": "code",
   "execution_count": null,
   "metadata": {},
   "outputs": [],
   "source": [
    "config = ConfigFactory.parse_file('../conf/minigrid_dqn_navigation_draft.hocon')\n",
    "config['env']['video_path'] = '../outputs/video/'\n",
    "\n",
    "grid_size = config['env.grid_size'] * config['env'].get('tile_size', 1)"
   ]
  },
  {
   "cell_type": "code",
   "execution_count": null,
   "metadata": {},
   "outputs": [],
   "source": [
    "expected_steps_learner = ExpectedStepsAmountLearner(grid_size, config['training.reward_params'])\n",
    "\n",
    "env = gen_env(config['env'], reward_function=lambda *args: 0)\n",
    "env.env.env.max_steps = 20  # TOBD: config\n",
    "# expected_steps_learner.model.fc[-1].bias.data.fill_(10.)\n",
    "    \n",
    "expected_steps_learner.collect_episodes(env, agent)\n",
    "valid_buffer = expected_steps_learner.buffer\n",
    "\n",
    "print(len(valid_buffer))"
   ]
  },
  {
   "cell_type": "code",
   "execution_count": null,
   "metadata": {},
   "outputs": [],
   "source": [
    "for i in range(20):\n",
    "    expected_steps_learner.reset_buffer()\n",
    "    expected_steps_learner.collect_episodes(env, agent)\n",
    "\n",
    "    expected_steps_learner.learn()\n",
    "\n",
    "    metric_valid = metric(expected_steps_learner.model, valid_buffer)\n",
    "    metric_train = metric(expected_steps_learner.model, expected_steps_learner.buffer)\n",
    "    mean_steps = sum([x for _, _, x in expected_steps_learner.buffer]) / len(expected_steps_learner.buffer)\n",
    "    print(f\"epochs {i}: metric_train = {metric_train :.2f}, metric_valid = {metric_valid :.2f}, mean_steps: {mean_steps}\")"
   ]
  },
  {
   "cell_type": "code",
   "execution_count": null,
   "metadata": {},
   "outputs": [],
   "source": []
  },
  {
   "cell_type": "code",
   "execution_count": null,
   "metadata": {},
   "outputs": [],
   "source": []
  },
  {
   "cell_type": "code",
   "execution_count": null,
   "metadata": {},
   "outputs": [],
   "source": [
    "config['training']['n_episodes'] = 3000\n",
    "\n",
    "expected_reward_function = ExpectedStepsAmount(expected_steps_learner.model)\n",
    "env = gen_env(config['env'], reward_function=expected_reward_function)\n",
    "\n",
    "new_agent = get_agent(config)\n",
    "scores, steps = run_episodes(env, new_agent, n_episodes=config['training.n_episodes'], verbose=config['training.verbose'])\n",
    "\n",
    "display_stats(scores, steps)"
   ]
  },
  {
   "cell_type": "code",
   "execution_count": null,
   "metadata": {},
   "outputs": [],
   "source": [
    "#"
   ]
  },
  {
   "cell_type": "code",
   "execution_count": null,
   "metadata": {},
   "outputs": [],
   "source": [
    "env = gen_env(config['env'], reward_function, verbose=True)\n",
    "print(run_episode(env, new_agent, train_mode=False))\n",
    "\n",
    "show_video(config['env.video_path'])"
   ]
  },
  {
   "cell_type": "code",
   "execution_count": null,
   "metadata": {},
   "outputs": [],
   "source": []
  },
  {
   "cell_type": "code",
   "execution_count": null,
   "metadata": {},
   "outputs": [],
   "source": [
    "arr = np.array(steps[-300:])\n",
    "logger.info(f'{np.quantile(arr, np.arange(0, 1, 0.1))}')"
   ]
  },
  {
   "cell_type": "code",
   "execution_count": null,
   "metadata": {},
   "outputs": [],
   "source": []
  },
  {
   "cell_type": "code",
   "execution_count": null,
   "metadata": {},
   "outputs": [],
   "source": []
  },
  {
   "cell_type": "code",
   "execution_count": null,
   "metadata": {},
   "outputs": [],
   "source": []
  },
  {
   "cell_type": "code",
   "execution_count": null,
   "metadata": {},
   "outputs": [],
   "source": []
  },
  {
   "cell_type": "code",
   "execution_count": null,
   "metadata": {},
   "outputs": [],
   "source": [
    "config['training.reward_params']['buffer_size'] = 5_000"
   ]
  },
  {
   "cell_type": "code",
   "execution_count": null,
   "metadata": {},
   "outputs": [],
   "source": [
    "expected_steps_learner = ExpectedStepsAmountLearner(grid_size, config['training.reward_params'])\n",
    "agent = get_agent(config)"
   ]
  },
  {
   "cell_type": "code",
   "execution_count": null,
   "metadata": {},
   "outputs": [],
   "source": [
    "env = gen_env(config['env'], reward_function=lambda *args: 0, verbose=False)\n",
    "env.env.env.max_steps = 4  # TOBD: config\n",
    "expected_steps_learner.model.fc[-1].bias.data.fill_(2.)\n",
    "\n",
    "expected_steps_learner.reset_buffer()\n",
    "expected_steps_learner.collect_episodes(env, agent)\n",
    "expected_steps_learner.learn(verbose=True)\n",
    "\n",
    "arr = np.array([x for _, _, x in expected_steps_learner.buffer])\n",
    "logger.info(f'{np.quantile(arr, np.arange(0, 1, 0.1))}')\n",
    "\n",
    "expected_reward_function = ExpectedStepsAmount(expected_steps_learner.model, 2.5)"
   ]
  },
  {
   "cell_type": "code",
   "execution_count": null,
   "metadata": {},
   "outputs": [],
   "source": [
    "env = gen_env(config['env'], reward_function=lambda *args: 0, verbose=True)\n",
    "state = env.reset()\n",
    "goal_state = env.env.env.goal_state\n",
    "\n",
    "import numpy as np\n",
    "\n",
    "start_pos = (5, 3)\n",
    "ens_pos = (2, 3)\n",
    "state_ = np.copy(state)"
   ]
  },
  {
   "cell_type": "code",
   "execution_count": null,
   "metadata": {},
   "outputs": [],
   "source": [
    "next_state = np.copy(state_)\n",
    "state = np.copy(state_)\n",
    "expected_reward_function(state, next_state, goal_state), to_coords(state), to_coords(next_state), to_coords(goal_state)"
   ]
  },
  {
   "cell_type": "code",
   "execution_count": null,
   "metadata": {},
   "outputs": [],
   "source": [
    "state = np.copy(next_state)\n",
    "next_state[4, 2] = next_state[5, 2]\n",
    "next_state[5, 2] = [1, 0, 0]\n",
    "\n",
    "expected_reward_function(state, next_state, goal_state), to_coords(state), to_coords(next_state), to_coords(goal_state)"
   ]
  },
  {
   "cell_type": "code",
   "execution_count": null,
   "metadata": {},
   "outputs": [],
   "source": [
    "state = np.copy(next_state)\n",
    "next_state[3, 2] = next_state[4, 2]\n",
    "next_state[4, 2] = [1, 0, 0]\n",
    "\n",
    "expected_reward_function(state, next_state, goal_state), to_coords(state), to_coords(next_state), to_coords(goal_state)"
   ]
  },
  {
   "cell_type": "code",
   "execution_count": null,
   "metadata": {},
   "outputs": [],
   "source": [
    "state = np.copy(next_state)\n",
    "next_state[3, 3] = next_state[3, 2]\n",
    "next_state[3, 2] = [1, 0, 0]\n",
    "\n",
    "expected_reward_function(state, next_state, goal_state), to_coords(state), to_coords(next_state), to_coords(goal_state)"
   ]
  },
  {
   "cell_type": "code",
   "execution_count": null,
   "metadata": {},
   "outputs": [],
   "source": [
    "state = np.copy(next_state)\n",
    "next_state[3, 4] = next_state[3, 3]\n",
    "next_state[3, 3] = [1, 0, 0]\n",
    "\n",
    "expected_reward_function(state, next_state, goal_state), to_coords(state), to_coords(next_state), to_coords(goal_state)"
   ]
  },
  {
   "cell_type": "code",
   "execution_count": null,
   "metadata": {},
   "outputs": [],
   "source": [
    "expected_reward_function = ExpectedStepsAmount(expected_steps_learner.model, 2.5)\n",
    "env = gen_env(config['env'], reward_function=expected_reward_function)\n",
    "# env.env.env.max_steps = 50  # TOBD: config\n",
    "\n",
    "agent = get_agent(config)\n",
    "agent.reset_buffer()\n",
    "\n",
    "for x in range(40):\n",
    "    scores, steps = run_episodes(env, agent, n_episodes=25, verbose=25)\n",
    "    arr = np.array(steps)\n",
    "    logger.info(f'{np.quantile(arr, np.arange(0, 1, 0.1))}')"
   ]
  },
  {
   "cell_type": "code",
   "execution_count": null,
   "metadata": {},
   "outputs": [],
   "source": []
  },
  {
   "cell_type": "code",
   "execution_count": null,
   "metadata": {},
   "outputs": [],
   "source": [
    "def to_coords(state):\n",
    "    obj_pos = (state == 10).nonzero()\n",
    "    return obj_pos[0].item(), obj_pos[1].item()"
   ]
  },
  {
   "cell_type": "code",
   "execution_count": null,
   "metadata": {},
   "outputs": [],
   "source": [
    "model = expected_reward_function.model\n",
    "dist = model(expected_reward_function._to_torch(state), expected_reward_function._to_torch(goal_state))\n",
    "\n",
    "to_coords(state), to_coords(goal_state), dist"
   ]
  },
  {
   "cell_type": "code",
   "execution_count": null,
   "metadata": {},
   "outputs": [],
   "source": []
  },
  {
   "cell_type": "code",
   "execution_count": null,
   "metadata": {},
   "outputs": [],
   "source": []
  },
  {
   "cell_type": "code",
   "execution_count": null,
   "metadata": {},
   "outputs": [],
   "source": []
  },
  {
   "cell_type": "code",
   "execution_count": null,
   "metadata": {},
   "outputs": [],
   "source": []
  },
  {
   "cell_type": "code",
   "execution_count": null,
   "metadata": {},
   "outputs": [],
   "source": []
  },
  {
   "cell_type": "code",
   "execution_count": null,
   "metadata": {},
   "outputs": [],
   "source": [
    "expected_reward_function = ExpectedStepsAmount(expected_steps_learner.model)"
   ]
  },
  {
   "cell_type": "code",
   "execution_count": null,
   "metadata": {},
   "outputs": [],
   "source": [
    "state[:,:,0], next_state[:,:,0]"
   ]
  },
  {
   "cell_type": "code",
   "execution_count": null,
   "metadata": {},
   "outputs": [],
   "source": [
    "state.shape"
   ]
  },
  {
   "cell_type": "code",
   "execution_count": null,
   "metadata": {},
   "outputs": [],
   "source": []
  },
  {
   "cell_type": "code",
   "execution_count": null,
   "metadata": {},
   "outputs": [],
   "source": []
  },
  {
   "cell_type": "code",
   "execution_count": null,
   "metadata": {},
   "outputs": [],
   "source": [
    "next_state = np.copy(state)\n",
    "\n",
    "next_state[1, 3] = 0\n",
    "next_state[5, 3] = np.array([10, 0, 0])\n",
    "expected_reward_function(state, next_state, goal_state)"
   ]
  },
  {
   "cell_type": "code",
   "execution_count": null,
   "metadata": {},
   "outputs": [],
   "source": [
    "next_state = np.copy(state)\n",
    "expected_reward_function(state, next_state, goal_state)"
   ]
  },
  {
   "cell_type": "code",
   "execution_count": null,
   "metadata": {},
   "outputs": [],
   "source": []
  },
  {
   "cell_type": "code",
   "execution_count": null,
   "metadata": {},
   "outputs": [],
   "source": [
    "goal_state[12:16, 12:16, 0]"
   ]
  },
  {
   "cell_type": "code",
   "execution_count": null,
   "metadata": {},
   "outputs": [],
   "source": [
    "[:, :, 0]"
   ]
  },
  {
   "cell_type": "code",
   "execution_count": null,
   "metadata": {},
   "outputs": [],
   "source": []
  },
  {
   "cell_type": "code",
   "execution_count": null,
   "metadata": {},
   "outputs": [],
   "source": [
    "agent.qnetwork_target.master"
   ]
  },
  {
   "cell_type": "code",
   "execution_count": null,
   "metadata": {},
   "outputs": [],
   "source": [
    "model = agent.qnetwork_target.master\n",
    "model.output_size"
   ]
  },
  {
   "cell_type": "code",
   "execution_count": null,
   "metadata": {},
   "outputs": [],
   "source": []
  },
  {
   "cell_type": "code",
   "execution_count": null,
   "metadata": {},
   "outputs": [],
   "source": [
    "model(states).shape"
   ]
  },
  {
   "cell_type": "code",
   "execution_count": null,
   "metadata": {},
   "outputs": [],
   "source": []
  },
  {
   "cell_type": "code",
   "execution_count": null,
   "metadata": {},
   "outputs": [],
   "source": [
    "np.linalg.norm(state - goal_state) / 255"
   ]
  },
  {
   "cell_type": "code",
   "execution_count": null,
   "metadata": {},
   "outputs": [],
   "source": [
    "state / np.linalg.norm(state)"
   ]
  },
  {
   "cell_type": "code",
   "execution_count": null,
   "metadata": {},
   "outputs": [],
   "source": [
    "np.linalg.norm(state)"
   ]
  },
  {
   "cell_type": "code",
   "execution_count": null,
   "metadata": {},
   "outputs": [],
   "source": [
    "state / "
   ]
  }
 ],
 "metadata": {
  "kernelspec": {
   "display_name": "Python 3",
   "language": "python",
   "name": "python3"
  },
  "language_info": {
   "codemirror_mode": {
    "name": "ipython",
    "version": 3
   },
   "file_extension": ".py",
   "mimetype": "text/x-python",
   "name": "python",
   "nbconvert_exporter": "python",
   "pygments_lexer": "ipython3",
   "version": "3.8.5"
  }
 },
 "nbformat": 4,
 "nbformat_minor": 4
}
