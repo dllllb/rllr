{
 "cells": [
  {
   "cell_type": "code",
   "execution_count": 1,
   "id": "e6efb1ed",
   "metadata": {},
   "outputs": [],
   "source": [
    "import numpy as np\n",
    "import gym\n",
    "from rllr.env import minigrid_envs"
   ]
  },
  {
   "cell_type": "code",
   "execution_count": 2,
   "id": "420a833b",
   "metadata": {},
   "outputs": [],
   "source": [
    "env_conf = {\n",
    "    #\"env_task\": \"MiniGrid-LavaCrossingS9N3-v0\",\n",
    "    \"env_task\": \"MiniGrid-Empty-8x8-v0\",\n",
    "    \"grid_size\": 8,\n",
    "    \"action_size\": 3,\n",
    "    \"rgb_image\": True,\n",
    "    \"norm_type\": \"unit_norm\",\n",
    "    \"tile_size\": 8,\n",
    "    \"agent_rnn_layers\": 2,\n",
    "    \"agent_rhs_size\": 128,\n",
    "    \"minigrid_max_steps\": 64,\n",
    "    \"random_start_pos\": True\n",
    "}"
   ]
  },
  {
   "cell_type": "code",
   "execution_count": 3,
   "id": "3880f208",
   "metadata": {},
   "outputs": [],
   "source": [
    "env = minigrid_envs.gen_wrapped_env(env_conf)"
   ]
  },
  {
   "cell_type": "code",
   "execution_count": 4,
   "id": "d6d25f5c",
   "metadata": {},
   "outputs": [],
   "source": [
    "obs = env.reset()"
   ]
  },
  {
   "cell_type": "code",
   "execution_count": 5,
   "id": "1c84b979",
   "metadata": {},
   "outputs": [],
   "source": [
    "import matplotlib.pyplot as plt"
   ]
  },
  {
   "cell_type": "code",
   "execution_count": 6,
   "id": "86ad03a5",
   "metadata": {},
   "outputs": [
    {
     "data": {
      "text/plain": [
       "<matplotlib.image.AxesImage at 0x7fc38ec3d2e0>"
      ]
     },
     "execution_count": 6,
     "metadata": {},
     "output_type": "execute_result"
    },
    {
     "data": {
      "image/png": "[encoded data removed]",
      "text/plain": [
       "<Figure size 432x288 with 1 Axes>"
      ]
     },
     "metadata": {
      "needs_background": "light"
     },
     "output_type": "display_data"
    }
   ],
   "source": [
    "plt.imshow(obs)"
   ]
  },
  {
   "cell_type": "code",
   "execution_count": 7,
   "id": "eb92a274",
   "metadata": {},
   "outputs": [],
   "source": [
    "import torch\n",
    "from torch import nn\n",
    "from torch.utils.data import DataLoader, TensorDataset"
   ]
  },
  {
   "cell_type": "code",
   "execution_count": 8,
   "id": "eddd1bd4",
   "metadata": {},
   "outputs": [],
   "source": [
    "def gather_data(n=2000):\n",
    "    data = list()\n",
    "    env = minigrid_envs.gen_wrapped_env(env_conf)\n",
    "    for _ in range(n):\n",
    "        obs = env.reset()\n",
    "        data.append(torch.Tensor(obs))\n",
    "    return data\n",
    "\n",
    "dataset = gather_data()\n",
    "dataset = TensorDataset(torch.stack(dataset, dim=0))\n",
    "data = DataLoader(dataset, batch_size=128, shuffle=True)"
   ]
  },
  {
   "cell_type": "code",
   "execution_count": 9,
   "id": "0fb27481",
   "metadata": {},
   "outputs": [],
   "source": [
    "from rllr.models.encoders import Permute\n",
    "\n",
    "\n",
    "class Encoder(nn.Module):\n",
    "    def __init__(self):\n",
    "        super(Encoder, self).__init__()\n",
    "        \n",
    "        n_channels = [16, 16]\n",
    "        kernel_size = [4, 3]\n",
    "        strides = [4, 1]\n",
    "        paddings = [0, 1]\n",
    "        \n",
    "        in_channels = 3\n",
    "        conv_layers = [Permute(0, 3, 1, 2)]\n",
    "        \n",
    "        for out_cannels, k_size, stride, pad in zip(n_channels, kernel_size, strides, paddings):\n",
    "            layer = nn.Conv2d(in_channels, out_cannels, k_size, stride, pad)\n",
    "            conv_layers.append(layer)\n",
    "            conv_layers.append(nn.LeakyReLU())\n",
    "            in_channels = out_cannels\n",
    "    \n",
    "        self.net = nn.Sequential(*conv_layers)\n",
    "    \n",
    "    def get_out_shape(self, input_shape):\n",
    "        x = torch.zeros(1, *input_shape)\n",
    "        return self.net(x).shape[1:]\n",
    "        \n",
    "    def forward(self, x):\n",
    "        x = self.net(x)\n",
    "        return x\n",
    "\n",
    "\n",
    "class MLP(nn.Module):\n",
    "    def __init__(self, in_channels):\n",
    "        super(MLP, self).__init__()\n",
    "        \n",
    "        channels = []\n",
    "        mu_layers = []\n",
    "        std_layers = []\n",
    "        \n",
    "        for ch in channels:\n",
    "            mu_layer = nn.Linear(in_channels, ch)\n",
    "            mu_layers.append(mu_layer)\n",
    "            mu_layers.append(nn.LeakyReLU())\n",
    "            \n",
    "            std_layer = nn.Linear(in_channels, ch)\n",
    "            std_layers.append(std_layer)\n",
    "            std_layers.append(nn.LeakyReLU())\n",
    "            \n",
    "            in_channels = ch\n",
    "            \n",
    "        self.mu_net = nn.Sequential(*(mu_layers[:-1]))\n",
    "        self.std_net = nn.Sequential(*(std_layers[:-1]))\n",
    "    \n",
    "    def forward(self, x):\n",
    "        mu = self.mu_net(x)\n",
    "        log_std = self.std_net(x)\n",
    "        \n",
    "        x = self.reparametrize(mu, log_std)\n",
    "        \n",
    "        kl_loss = self.kl_loss(mu, log_std)\n",
    "        return x, mu, log_std, kl_loss\n",
    "    \n",
    "    def reparametrize(self, mu, log_std):\n",
    "        std = torch.exp(log_std / 2)\n",
    "        eps = torch.randn_like(std)\n",
    "        x = mu + std * eps\n",
    "        return x\n",
    "    \n",
    "    def kl_loss(self, mu, log_std):\n",
    "        kl = -0.5 * torch.mean(1 +\n",
    "                               2 * log_std -\n",
    "                               mu.pow(2) -\n",
    "                               (2 * log_std).exp())\n",
    "        return kl\n",
    "\n",
    "\n",
    "class Decoder(nn.Module):\n",
    "    def __init__(self):\n",
    "        super(Decoder, self).__init__()\n",
    "        \n",
    "        n_channels = [16, 3]\n",
    "        kernel_size = [3, 4]\n",
    "        strides = [1, 4]\n",
    "        paddings = [1, 0]\n",
    "        \n",
    "        in_channels = 16\n",
    "        conv_layers = list()\n",
    "        \n",
    "        for out_cannels, k_size, stride, pad in zip(n_channels, kernel_size, strides, paddings):\n",
    "            layer = nn.ConvTranspose2d(in_channels, out_cannels, k_size, stride, pad)\n",
    "            conv_layers.append(layer)\n",
    "            conv_layers.append(nn.LeakyReLU())\n",
    "            in_channels = out_cannels\n",
    "        \n",
    "        conv_layers.pop(-1)\n",
    "        conv_layers.append(nn.Sigmoid())\n",
    "    \n",
    "        self.net = nn.Sequential(*conv_layers)\n",
    "    \n",
    "    def get_out_shape(self, input_shape):\n",
    "        x = torch.zeros(1, *input_shape)\n",
    "        return self.net(x).shape[1:]\n",
    "    \n",
    "    def forward(self, x):\n",
    "        x = self.net(x)\n",
    "        return x"
   ]
  },
  {
   "cell_type": "code",
   "execution_count": 10,
   "id": "9eb28431",
   "metadata": {},
   "outputs": [],
   "source": [
    "from nle_toolbox.zoo.vq import VQVAEEmbeddings, VQVAEIntegerCodes, VQEMAUpdater, VQLossHelper\n",
    "from nle_toolbox.zoo.vq import VectorQuantizedVAE as VQ"
   ]
  },
  {
   "cell_type": "code",
   "execution_count": 11,
   "id": "4288a9cb",
   "metadata": {},
   "outputs": [],
   "source": [
    "num_embeddings = 32\n",
    "latent_dim = 256\n",
    "in_channels = 4096\n",
    "\n",
    "\n",
    "class VQMLP(nn.Module):\n",
    "    def __init__(self, in_channels, latent_dim, num_embeddings):\n",
    "        super(VQMLP, self).__init__()\n",
    "        \n",
    "        start_ch = in_channels\n",
    "        channels = [latent_dim]\n",
    "        \n",
    "        self.encode_net = nn.Linear(in_channels, latent_dim)\n",
    "        self.decode_net = nn.Linear(latent_dim, in_channels)\n",
    "        \n",
    "        vq_layer = VQ(num_embeddings, latent_dim)\n",
    "        self.vq = VQVAEEmbeddings(vq_layer)\n",
    "        self.inds_net = VQVAEIntegerCodes(vq_layer)\n",
    "    \n",
    "    def forward(self, x):\n",
    "        latent = self.encode_net(x.reshape(x.shape[0], -1))\n",
    "        vq = self.vq(latent)\n",
    "        return self.decode_net(vq)\n",
    "    \n",
    "    def encode(self, x):\n",
    "        with torch.no_grad():\n",
    "            latent = self.encode_net(x.reshape(x.shape[0], -1))\n",
    "            vq = self.vq(latent)\n",
    "        return vq\n",
    "    \n",
    "    def decode(self, latent):\n",
    "        with torch.no_grad():\n",
    "            vq = self.vq(latent)\n",
    "            x = self.decode_net(vq)\n",
    "        return x\n",
    "\n",
    "    \n",
    "class VQVAE(nn.Module):\n",
    "    def __init__(self):\n",
    "        super(VQVAE, self).__init__()\n",
    "        self.encoder = Encoder()\n",
    "        self.mid = VQMLP(in_channels, latent_dim, num_embeddings)\n",
    "        self.decoder = Decoder()\n",
    "    \n",
    "    def forward(self, img):\n",
    "        enc_img = self.encoder(img.float() / 255.)\n",
    "        self.enc_img_shape = enc_img.shape\n",
    "        \n",
    "        latent_code = self.mid(enc_img)\n",
    "        latent_code = latent_code.view(*self.enc_img_shape)\n",
    "        \n",
    "        restored_imgs = self.decoder(latent_code)\n",
    "        return restored_imgs\n",
    "    \n",
    "    def encode(self, img):\n",
    "        with torch.no_grad():\n",
    "            latent = self.encoder(img.float() / 255.)\n",
    "            vq = self.mid.encode(latent)\n",
    "        return vq\n",
    "    \n",
    "    def decode(self, latent):\n",
    "        with torch.no_grad():\n",
    "            latent = self.mid.decode(latent)\n",
    "            restored_img = self.decoder(latent)\n",
    "        return restored_img\n",
    "        "
   ]
  },
  {
   "cell_type": "code",
   "execution_count": 12,
   "id": "e3b7deec",
   "metadata": {},
   "outputs": [],
   "source": [
    "model = VQVAE()\n",
    "criterion = nn.BCELoss()\n",
    "\n",
    "optimizer = torch.optim.Adam(params=model.parameters())\n",
    "hlp = VQLossHelper(model, reduction='mean')\n",
    "ema = VQEMAUpdater(model, alpha=0.1, update=True)"
   ]
  },
  {
   "cell_type": "code",
   "execution_count": 13,
   "id": "1fb45f36",
   "metadata": {},
   "outputs": [],
   "source": [
    "from torch.utils.tensorboard import SummaryWriter\n",
    "from collections import defaultdict\n",
    "writer = SummaryWriter('temp_experiments/test_vq')"
   ]
  },
  {
   "cell_type": "code",
   "execution_count": null,
   "id": "42abc5be",
   "metadata": {},
   "outputs": [
    {
     "name": "stderr",
     "output_type": "stream",
     "text": [
      " 55%|███████████████▎            | 27434/50000 [119:06:50<17:07:59,  2.73s/it]"
     ]
    }
   ],
   "source": [
    "from tqdm import trange\n",
    "\n",
    "\n",
    "for epoch in trange(50000):\n",
    "    batch_data = defaultdict(list)\n",
    "    for imgs, in data:\n",
    "        \n",
    "        optimizer.zero_grad()\n",
    "        with hlp, ema:\n",
    "            restored_imgs = model(imgs)\n",
    "        restore_loss = criterion(restored_imgs, imgs.float().permute(0, 3, 1, 2) / 255.)\n",
    "        vq_ell = sum(hlp.finish().values())\n",
    "        loss = restore_loss + vq_ell\n",
    "        loss.backward()\n",
    "        optimizer.step()\n",
    "        ema.step()\n",
    "        \n",
    "        batch_data['restore_loss'].append(restore_loss.item())\n",
    "        batch_data['entropy'].append(list(ema.entropy.values())[0])\n",
    "\n",
    "    writer.add_scalar('entropy', np.mean(batch_data['entropy']), epoch)\n",
    "    writer.add_scalar('restore_loss', np.mean(batch_data['restore_loss']), epoch)\n",
    "    writer.add_image('initial_img', imgs[0].float() / 255., epoch, dataformats='HWC')\n",
    "    writer.add_image('restored_img', restored_imgs[0], epoch, dataformats='CHW')"
   ]
  },
  {
   "cell_type": "code",
   "execution_count": null,
   "id": "7277fae2",
   "metadata": {},
   "outputs": [],
   "source": [
    "model.mid.decode_net[0].wrapped.weight"
   ]
  },
  {
   "cell_type": "code",
   "execution_count": null,
   "id": "2cd3d77b",
   "metadata": {},
   "outputs": [],
   "source": []
  }
 ],
 "metadata": {
  "kernelspec": {
   "display_name": "Python 3 (ipykernel)",
   "language": "python",
   "name": "python3"
  },
  "language_info": {
   "codemirror_mode": {
    "name": "ipython",
    "version": 3
   },
   "file_extension": ".py",
   "mimetype": "text/x-python",
   "name": "python",
   "nbconvert_exporter": "python",
   "pygments_lexer": "ipython3",
   "version": "3.8.9"
  }
 },
 "nbformat": 4,
 "nbformat_minor": 5
}
