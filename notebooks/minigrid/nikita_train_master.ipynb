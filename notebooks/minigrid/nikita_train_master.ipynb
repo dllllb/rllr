{
 "cells": [
  {
   "cell_type": "code",
   "execution_count": 1,
   "metadata": {},
   "outputs": [
    {
     "data": {
      "text/html": [
       "<style>.container { width:90% !important; }</style>"
      ],
      "text/plain": [
       "<IPython.core.display.HTML object>"
      ]
     },
     "metadata": {},
     "output_type": "display_data"
    }
   ],
   "source": [
    "from IPython.core.display import display, HTML\n",
    "display(HTML(\"<style>.container { width:90% !important; }</style>\"))"
   ]
  },
  {
   "cell_type": "code",
   "execution_count": 2,
   "metadata": {},
   "outputs": [],
   "source": [
    "import matplotlib.pyplot as plt\n",
    "from pprint import pprint\n",
    "\n",
    "%matplotlib inline\n",
    "plt.rcParams['figure.figsize'] = (10.0, 8.0) # set default size of plots\n",
    "plt.rcParams['image.interpolation'] = 'nearest'\n",
    "plt.rcParams['image.cmap'] = 'gray'\n",
    "\n",
    "plt.style.use('ggplot')\n",
    "\n",
    "%load_ext autoreload\n",
    "%autoreload 2"
   ]
  },
  {
   "cell_type": "code",
   "execution_count": 3,
   "metadata": {},
   "outputs": [],
   "source": [
    "import sys\n",
    "sys.path.append('..')\n",
    "\n",
    "from gym_minigrid_navigation.utils import show_video\n",
    "\n",
    "from utils import init_logger, switch_reproducibility_on, display_stats\n",
    "\n",
    "init_logger('train_master')\n",
    "init_logger('train_worker')\n",
    "init_logger('environments')\n",
    "init_logger('gym_minigrid_navigation.environments')"
   ]
  },
  {
   "cell_type": "code",
   "execution_count": 4,
   "metadata": {},
   "outputs": [],
   "source": [
    "from pyhocon import ConfigFactory\n",
    "\n",
    "config = ConfigFactory.parse_file('../conf/minigrid_second_step.hocon')\n",
    "config['env']['video_path'] = './video/'"
   ]
  },
  {
   "cell_type": "code",
   "execution_count": 5,
   "metadata": {},
   "outputs": [],
   "source": [
    "switch_reproducibility_on(config['seed'])"
   ]
  },
  {
   "cell_type": "markdown",
   "metadata": {},
   "source": [
    "## environment "
   ]
  },
  {
   "cell_type": "code",
   "execution_count": 19,
   "metadata": {},
   "outputs": [],
   "source": [
    "from gym_minigrid_navigation.environments import gen_wrapped_env\n",
    "\n",
    "env_config = {\n",
    "    'env_task': 'MiniGrid-Dynamic-Obstacles',\n",
    "    'grid_size': 8,\n",
    "    'rgb_image': True,\n",
    "    'tile_size': 4,\n",
    "}\n",
    "\n",
    "grid_size = env_config['grid_size'] * env_config.get('tile_size', 1)\n",
    "env = gen_wrapped_env(env_config)"
   ]
  },
  {
   "cell_type": "markdown",
   "metadata": {},
   "source": [
    "## Load worker_agent from first step"
   ]
  },
  {
   "cell_type": "code",
   "execution_count": 25,
   "metadata": {},
   "outputs": [],
   "source": [
    "import pickle\n",
    "import torch\n",
    "from dqn import get_dqn_agent\n",
    "\n",
    "worker_config = {\n",
    "    'path': '../outputs/models/minigrid_worker_draft.p',\n",
    "    'device': 'cuda:0'\n",
    "}\n",
    "\n",
    "with open(worker_config['path'], 'rb') as f:\n",
    "    worker_agent = pickle.load(f)\n",
    "\n",
    "device = torch.device(worker_config['device'])\n",
    "worker_agent.qnetwork_local.to(device)\n",
    "\n",
    "emb_size = worker_agent.qnetwork_local.master.output_size"
   ]
  },
  {
   "cell_type": "markdown",
   "metadata": {},
   "source": [
    "## master agent "
   ]
  },
  {
   "cell_type": "code",
   "execution_count": 20,
   "metadata": {},
   "outputs": [],
   "source": [
    "from gym_minigrid_navigation.encoders import get_encoder\n",
    "\n",
    "master_config= {\n",
    "    'state_encoder_type': 'simple_cnn',\n",
    "    'n_channels': [6, 16],\n",
    "    'kernel_sizes': [4, 3],\n",
    "    'max_pools': [4, 1],\n",
    "}\n",
    "\n",
    "state_encoder = get_encoder(grid_size, master_config)"
   ]
  },
  {
   "cell_type": "code",
   "execution_count": 21,
   "metadata": {},
   "outputs": [],
   "source": [
    "from ddpg import DDPGAgentMaster, MasterNetwork\n",
    "\n",
    "master_agent_config = {\n",
    "    'buffer_size': 1000000,\n",
    "    'batch_size': 512,\n",
    "    'noise_decay': 0.995,\n",
    "    'min_noise': 0.01,\n",
    "    'explore': True,\n",
    "    'update_step': 4,\n",
    "    'device': \"cuda:0\"\n",
    "}\n",
    "\n",
    "master_network = MasterNetwork(emb_size, state_encoder)\n",
    "master_agent = DDPGAgentMaster(master_network, master_agent_config)"
   ]
  },
  {
   "cell_type": "markdown",
   "metadata": {},
   "source": [
    "## master training"
   ]
  },
  {
   "cell_type": "code",
   "execution_count": null,
   "metadata": {},
   "outputs": [],
   "source": [
    "from train_master import run_episodes\n",
    "\n",
    "training_config = {\n",
    "    'n_episodes': 1000,\n",
    "    'verbose': 100,\n",
    "}\n",
    "\n",
    "scores, steps = run_episodes(env, worker_agent, master_agent, n_episodes=training_config['n_episodes'], verbose=training_config['verbose'])"
   ]
  },
  {
   "cell_type": "code",
   "execution_count": null,
   "metadata": {},
   "outputs": [],
   "source": []
  },
  {
   "cell_type": "code",
   "execution_count": null,
   "metadata": {},
   "outputs": [],
   "source": []
  },
  {
   "cell_type": "code",
   "execution_count": null,
   "metadata": {},
   "outputs": [],
   "source": []
  },
  {
   "cell_type": "code",
   "execution_count": null,
   "metadata": {},
   "outputs": [],
   "source": []
  },
  {
   "cell_type": "code",
   "execution_count": null,
   "metadata": {},
   "outputs": [],
   "source": []
  }
 ],
 "metadata": {
  "kernelspec": {
   "display_name": "Python 3",
   "language": "python",
   "name": "python3"
  },
  "language_info": {
   "codemirror_mode": {
    "name": "ipython",
    "version": 3
   },
   "file_extension": ".py",
   "mimetype": "text/x-python",
   "name": "python",
   "nbconvert_exporter": "python",
   "pygments_lexer": "ipython3",
   "version": "3.8.0"
  }
 },
 "nbformat": 4,
 "nbformat_minor": 4
}
