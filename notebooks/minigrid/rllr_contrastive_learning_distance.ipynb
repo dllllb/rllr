{
 "cells": [
  {
   "cell_type": "code",
   "execution_count": 1,
   "metadata": {},
   "outputs": [],
   "source": [
    "import gym\n",
    "import matplotlib.pyplot as plt\n",
    "import sys\n",
    "\n",
    "sys.path.append('..')\n",
    "\n",
    "# from rllr.gym_minigrid_navigation.utils import show_video\n",
    "\n",
    "plt.style.use('ggplot')\n",
    "\n",
    "%load_ext autoreload\n",
    "%autoreload 2"
   ]
  },
  {
   "cell_type": "code",
   "execution_count": 2,
   "metadata": {},
   "outputs": [],
   "source": [
    "from torch import nn\n",
    "import torch\n",
    "import torch.nn.functional as F\n",
    "import numpy as np\n",
    "\n",
    "class StateSimilarityNetwork(nn.Module):\n",
    "    \n",
    "    def __init__(self, action_size, state_size):\n",
    "        super(StateSimilarityNetwork, self).__init__()\n",
    "        \n",
    "        self.cnn = nn.Sequential(\n",
    "            nn.Conv2d(state_size[2], 32, kernel_size=8, stride=4),\n",
    "            nn.ReLU(),\n",
    "            nn.Conv2d(32, 64, kernel_size=4, stride=2),\n",
    "            nn.ReLU(),\n",
    "            nn.Conv2d(64, 64, kernel_size=3, stride=1),\n",
    "            nn.ReLU()\n",
    "        )\n",
    "        \n",
    "        self.fc1 = nn.Linear(1024, 32)\n",
    "        self.fc2 = nn.Linear(2*32, 128)\n",
    "        self.fc3 = nn.Linear(128, 1)\n",
    "\n",
    "\n",
    "    def forward(self, x, y):\n",
    "        x = self.cnn(x.permute([0, 3, 1, 2]))\n",
    "        x = x.view(x.size()[0], -1)\n",
    "        x = F.relu(self.fc1(x))\n",
    "        \n",
    "        y = self.cnn(y.permute([0, 3, 1, 2]))\n",
    "        y = y.view(y.size()[0], -1)\n",
    "        y = F.relu(self.fc1(y))\n",
    "        \n",
    "        \n",
    "        z = torch.cat((x, y), 1)\n",
    "        z = F.relu(self.fc2(z))\n",
    "        return torch.sigmoid(self.fc3(z))"
   ]
  },
  {
   "cell_type": "code",
   "execution_count": 86,
   "metadata": {},
   "outputs": [],
   "source": [
    "from gym.wrappers import Monitor\n",
    "from gym_minigrid.wrappers import FullyObsWrapper, RGBImgObsWrapper\n",
    "\n",
    "\n",
    "env = gym.make(\"MiniGrid-Dynamic-Obstacles-8x8-v0\")\n",
    "env = FullyObsWrapper(env)\n",
    "env = RGBImgObsWrapper(env)\n",
    "env = Monitor(env, '../experiments/artifacts/video/', force=True)"
   ]
  },
  {
   "cell_type": "code",
   "execution_count": 164,
   "metadata": {},
   "outputs": [],
   "source": [
    "device = \"cpu\"\n",
    "\n",
    "def rollout(env, max_steps=False):\n",
    "    \n",
    "    states, indices = [],  []\n",
    "    done = False\n",
    "    \n",
    "    state = env.reset()\n",
    "    i = 0\n",
    "    \n",
    "    while not done:\n",
    "        action = env.action_space.sample()\n",
    "        if i%2 ==0:\n",
    "            action = 2\n",
    "        next_state, _, done, _ = env.step(action)\n",
    "        states.append(state['image'])\n",
    "        state = next_state\n",
    "        indices.append(i)\n",
    "        if i > max_steps and max_steps:\n",
    "            break\n",
    "        i+=1\n",
    "    \n",
    "    \n",
    "    return states, indices"
   ]
  },
  {
   "cell_type": "code",
   "execution_count": 192,
   "metadata": {},
   "outputs": [
    {
     "name": "stdout",
     "output_type": "stream",
     "text": [
      "torch.Size([128]) torch.Size([128, 64, 64, 3]) torch.Size([128, 64, 64, 3])\n"
     ]
    }
   ],
   "source": [
    "def generate_batch(env, batch_size=128, radius=3):\n",
    "    \n",
    "    \n",
    "    states1, states2, labels = [], [], []\n",
    "    \n",
    "    while len(labels) < batch_size:\n",
    "        states, indices =  rollout(env)\n",
    "        n = len(indices)\n",
    "        \n",
    "        for i in range(n):\n",
    "            for j in range(n):\n",
    "                if len(labels) >= batch_size:\n",
    "                    break\n",
    "                states1.append(states[i]/256.)\n",
    "                states2.append(states[j]/256.)\n",
    "                labels.append(int(abs(i-j)<radius))\n",
    "            \n",
    "    states1 = torch.from_numpy(np.array(states1)).to(device, dtype=torch.float32)\n",
    "    states2 = torch.from_numpy(np.array(states2)).to(device, dtype=torch.float32)\n",
    "    labels = torch.from_numpy(np.array(labels)).to(device, dtype=torch.float32)\n",
    "    return states1, states2, labels\n",
    "\n",
    "states1, states2, labels = generate_batch(env)\n",
    "print(labels.size(), states1.size(), states2.size())"
   ]
  },
  {
   "cell_type": "code",
   "execution_count": 193,
   "metadata": {},
   "outputs": [
    {
     "data": {
      "text/plain": [
       "tensor([1., 1., 1., 0., 0., 0., 0., 0., 0., 0., 0., 1., 1., 1., 1., 0., 0., 0.,\n",
       "        0., 0., 0., 0., 1., 1., 1., 1., 1., 0., 0., 0., 0., 0., 0., 0., 1., 1.,\n",
       "        1., 1., 1., 0., 0., 0., 0., 0., 0., 0., 1., 1., 1., 1., 1., 0., 0., 0.,\n",
       "        0., 0., 0., 0., 1., 1., 1., 1., 1., 0., 0., 0., 0., 0., 0., 0., 1., 1.,\n",
       "        1., 1., 1., 0., 0., 0., 0., 0., 0., 0., 1., 1., 1., 1., 1., 0., 0., 0.,\n",
       "        0., 0., 0., 0., 1., 1., 1., 1., 1., 0., 0., 0., 0., 0., 0., 0., 1., 1.,\n",
       "        1., 1., 0., 0., 0., 0., 0., 0., 0., 0., 1., 1., 1., 1., 1., 1., 1., 0.,\n",
       "        1., 1.])"
      ]
     },
     "execution_count": 193,
     "metadata": {},
     "output_type": "execute_result"
    }
   ],
   "source": [
    "labels"
   ]
  },
  {
   "cell_type": "code",
   "execution_count": 194,
   "metadata": {},
   "outputs": [
    {
     "data": {
      "image/png": "[encoded data removed]",
      "text/plain": [
       "<Figure size 432x288 with 1 Axes>"
      ]
     },
     "metadata": {},
     "output_type": "display_data"
    },
    {
     "data": {
      "image/png": "[encoded data removed]",
      "text/plain": [
       "<Figure size 432x288 with 1 Axes>"
      ]
     },
     "metadata": {},
     "output_type": "display_data"
    },
    {
     "data": {
      "text/plain": [
       "tensor(1.)"
      ]
     },
     "execution_count": 194,
     "metadata": {},
     "output_type": "execute_result"
    }
   ],
   "source": [
    "n = 14\n",
    "plt.axis(False)\n",
    "plt.imshow(states1[n].numpy())\n",
    "plt.show()\n",
    "plt.axis(False)\n",
    "plt.imshow(states2[n].numpy())\n",
    "plt.show()\n",
    "labels[n]"
   ]
  },
  {
   "cell_type": "code",
   "execution_count": 195,
   "metadata": {},
   "outputs": [
    {
     "name": "stdout",
     "output_type": "stream",
     "text": [
      "Epoch: 50, loss: 0.6768992424011231\n",
      "Epoch: 100, loss: 0.38147385984659193\n",
      "Epoch: 150, loss: 0.30647447243332865\n",
      "Epoch: 200, loss: 0.28793872371315954\n",
      "Epoch: 250, loss: 0.226499480009079\n",
      "Epoch: 300, loss: 0.19743834123015402\n",
      "Epoch: 350, loss: 0.23275215052068232\n",
      "Epoch: 400, loss: 0.18293082628399135\n",
      "Epoch: 450, loss: 0.1595965550467372\n",
      "Epoch: 500, loss: 0.2422980303876102\n",
      "Epoch: 550, loss: 0.17007391460239887\n",
      "Epoch: 600, loss: 0.1661630328372121\n",
      "Epoch: 650, loss: 0.1672186231985688\n",
      "Epoch: 700, loss: 0.14088176045566797\n",
      "Epoch: 750, loss: 0.14302513174712658\n",
      "Epoch: 800, loss: 0.1395667034201324\n",
      "Epoch: 850, loss: 0.14170110251754522\n",
      "Epoch: 900, loss: 0.1348903388902545\n",
      "Epoch: 950, loss: 0.12805313352495432\n",
      "Epoch: 1000, loss: 0.10685114722698927\n"
     ]
    }
   ],
   "source": [
    "from gym.wrappers import Monitor\n",
    "from gym_minigrid.wrappers import FullyObsWrapper, RGBImgObsWrapper\n",
    "\n",
    "\n",
    "env = gym.make(\"MiniGrid-Dynamic-Obstacles-8x8-v0\")\n",
    "env = FullyObsWrapper(env)\n",
    "env = RGBImgObsWrapper(env)\n",
    "env = Monitor(env, '../experiments/artifacts/video/', force=True)\n",
    "\n",
    "net = StateSimilarityNetwork(action_size = env.action_space.n, state_size = env.observation_space[\"image\"].shape)\n",
    "optimizer = torch.optim.Adam(net.parameters(), lr=1e-3)\n",
    "\n",
    "verbose = 50\n",
    "epochs = 1000\n",
    "bce_loss  = nn.BCELoss()\n",
    "\n",
    "l = 0\n",
    "\n",
    "for epoch in range(epochs):\n",
    "    \n",
    "    \n",
    "    states1, states2, labels = generate_batch(env, radius=3)\n",
    "    \n",
    "    for step in range(5):\n",
    "        optimizer.zero_grad()\n",
    "        predicted_labels = net.forward(states1, states2).squeeze()\n",
    "        loss = bce_loss(predicted_labels, labels)\n",
    "        loss.backward()\n",
    "        optimizer.step()\n",
    "    l+=loss.item()\n",
    "        \n",
    "    if (epoch+1)%verbose==0: \n",
    "        print(\"Epoch: {0}, loss: {1}\".format(epoch+1, l/verbose))\n",
    "        l = 0"
   ]
  },
  {
   "cell_type": "code",
   "execution_count": null,
   "metadata": {},
   "outputs": [],
   "source": [
    "net = torch.load('../')"
   ]
  },
  {
   "cell_type": "code",
   "execution_count": 196,
   "metadata": {},
   "outputs": [],
   "source": [
    "from gym.wrappers import Monitor\n",
    "from gym_minigrid.wrappers import FullyObsWrapper, RGBImgObsWrapper\n",
    "\n",
    "\n",
    "env = gym.make(\"MiniGrid-Dynamic-Obstacles-8x8-v0\")\n",
    "env = FullyObsWrapper(env)\n",
    "env = RGBImgObsWrapper(env)"
   ]
  },
  {
   "cell_type": "code",
   "execution_count": 306,
   "metadata": {},
   "outputs": [],
   "source": [
    "states1, states2, labels = generate_batch(env, batch_size=1000)"
   ]
  },
  {
   "cell_type": "code",
   "execution_count": 307,
   "metadata": {},
   "outputs": [],
   "source": [
    "def show_states(state1, state2):\n",
    "    plt.axis(False)\n",
    "    plt.imshow(state1)\n",
    "    plt.show()\n",
    "    plt.axis(False)\n",
    "    plt.imshow(state2)\n",
    "    plt.show()\n",
    "    dist = net(state1.unsqueeze(0), state2.unsqueeze(0))\n",
    "    print(\"Distance between states: \", dist.item())"
   ]
  },
  {
   "cell_type": "code",
   "execution_count": 308,
   "metadata": {},
   "outputs": [],
   "source": [
    "neg = labels == 0\n",
    "pos = labels == 1"
   ]
  },
  {
   "cell_type": "code",
   "execution_count": 329,
   "metadata": {},
   "outputs": [
    {
     "data": {
      "image/png": "[encoded data removed]",
      "text/plain": [
       "<Figure size 432x288 with 1 Axes>"
      ]
     },
     "metadata": {},
     "output_type": "display_data"
    },
    {
     "data": {
      "image/png": "[encoded data removed]",
      "text/plain": [
       "<Figure size 432x288 with 1 Axes>"
      ]
     },
     "metadata": {},
     "output_type": "display_data"
    },
    {
     "name": "stdout",
     "output_type": "stream",
     "text": [
      "Distance between states:  0.000787039112765342\n"
     ]
    }
   ],
   "source": [
    "n = 4\n",
    "show_states(states1[neg][n], states2[neg][n])"
   ]
  },
  {
   "cell_type": "code",
   "execution_count": 330,
   "metadata": {},
   "outputs": [
    {
     "data": {
      "image/png": "[encoded data removed]",
      "text/plain": [
       "<Figure size 432x288 with 1 Axes>"
      ]
     },
     "metadata": {},
     "output_type": "display_data"
    },
    {
     "data": {
      "image/png": "[encoded data removed]",
      "text/plain": [
       "<Figure size 432x288 with 1 Axes>"
      ]
     },
     "metadata": {},
     "output_type": "display_data"
    },
    {
     "name": "stdout",
     "output_type": "stream",
     "text": [
      "Distance between states:  0.9852877855300903\n"
     ]
    }
   ],
   "source": [
    "n = 1\n",
    "show_states(states1[pos][n], states2[pos][n])"
   ]
  },
  {
   "cell_type": "code",
   "execution_count": 323,
   "metadata": {},
   "outputs": [
    {
     "name": "stdout",
     "output_type": "stream",
     "text": [
      "Average negative distance:  0.22021778\n",
      "Average positive distance:  0.9114853\n"
     ]
    },
    {
     "data": {
      "image/png": "[encoded data removed]",
      "text/plain": [
       "<Figure size 432x288 with 1 Axes>"
      ]
     },
     "metadata": {},
     "output_type": "display_data"
    }
   ],
   "source": [
    "neg_dist = net(states1[neg], states2[neg]).detach().numpy()\n",
    "pos_dist = net(states1[pos], states2[pos]).detach().numpy()\n",
    "\n",
    "print(\"Average negative distance: \", np.mean(neg_dist))\n",
    "print(\"Average positive distance: \", np.mean(pos_dist))\n",
    "\n",
    "plt.hist(neg_dist)\n",
    "plt.hist(pos_dist)\n",
    "plt.show()"
   ]
  },
  {
   "cell_type": "code",
   "execution_count": 3,
   "metadata": {},
   "outputs": [
    {
     "data": {
      "text/plain": [
       "4"
      ]
     },
     "execution_count": 3,
     "metadata": {},
     "output_type": "execute_result"
    }
   ],
   "source": [
    "[1, 1, 1, 1, 0, 1, 1, 0].index(0)"
   ]
  },
  {
   "cell_type": "markdown",
   "metadata": {},
   "source": [
    "# Train with rnd"
   ]
  },
  {
   "cell_type": "code",
   "execution_count": 27,
   "metadata": {},
   "outputs": [],
   "source": [
    "import sys\n",
    "sys.path.append('..')"
   ]
  },
  {
   "cell_type": "code",
   "execution_count": 28,
   "metadata": {},
   "outputs": [
    {
     "name": "stdout",
     "output_type": "stream",
     "text": [
      "Running agent training: 2048 steps\n"
     ]
    },
    {
     "name": "stderr",
     "output_type": "stream",
     "text": [
      "  0%|          | 0/976 [00:04<?, ?it/s]"
     ]
    },
    {
     "name": "stdout",
     "output_type": "stream",
     "text": [
      "Updates 0, num timesteps 2048, FPS 444 \n",
      "Last 10 training episodes: mean/median reward -34.50/-18.50, min/max reward -81.00/-11.00\n",
      "dist_entropy 1.38, value_loss 588.52, action_loss -0.00\n"
     ]
    },
    {
     "name": "stderr",
     "output_type": "stream",
     "text": [
      "\n"
     ]
    },
    {
     "ename": "FileNotFoundError",
     "evalue": "[Errno 2] No such file or directory: 'artifacts/models/minigrid_ssim.p'",
     "output_type": "error",
     "traceback": [
      "\u001b[0;31m---------------------------------------------------------------------------\u001b[0m",
      "\u001b[0;31mFileNotFoundError\u001b[0m                         Traceback (most recent call last)",
      "\u001b[0;32m<ipython-input-28-fea449a6300e>\u001b[0m in \u001b[0;36m<module>\u001b[0;34m\u001b[0m\n\u001b[1;32m     32\u001b[0m         \u001b[0magent\u001b[0m\u001b[0;34m=\u001b[0m\u001b[0magent\u001b[0m\u001b[0;34m,\u001b[0m\u001b[0;34m\u001b[0m\u001b[0;34m\u001b[0m\u001b[0m\n\u001b[1;32m     33\u001b[0m         \u001b[0mssim\u001b[0m\u001b[0;34m=\u001b[0m\u001b[0mssim\u001b[0m\u001b[0;34m,\u001b[0m\u001b[0;34m\u001b[0m\u001b[0;34m\u001b[0m\u001b[0m\n\u001b[0;32m---> 34\u001b[0;31m         \u001b[0mconf\u001b[0m\u001b[0;34m=\u001b[0m\u001b[0mconfig\u001b[0m\u001b[0;34m\u001b[0m\u001b[0;34m\u001b[0m\u001b[0m\n\u001b[0m\u001b[1;32m     35\u001b[0m     )\n",
      "\u001b[0;32m~/work/rllr/experiments/train_ssim_with_rnd.py\u001b[0m in \u001b[0;36mtrain_ssim_with_rnd\u001b[0;34m(env, agent, ssim, conf)\u001b[0m\n\u001b[1;32m    138\u001b[0m                   f'action_loss {action_loss:.2f}')\n\u001b[1;32m    139\u001b[0m \u001b[0;34m\u001b[0m\u001b[0m\n\u001b[0;32m--> 140\u001b[0;31m         \u001b[0;31m# torch.save(ssim, conf['outputs.path'])\u001b[0m\u001b[0;34m\u001b[0m\u001b[0;34m\u001b[0m\u001b[0;34m\u001b[0m\u001b[0m\n\u001b[0m\u001b[1;32m    141\u001b[0m     \u001b[0;32mreturn\u001b[0m \u001b[0magent\u001b[0m\u001b[0;34m,\u001b[0m \u001b[0mssim\u001b[0m\u001b[0;34m\u001b[0m\u001b[0;34m\u001b[0m\u001b[0m\n\u001b[1;32m    142\u001b[0m \u001b[0;34m\u001b[0m\u001b[0m\n",
      "\u001b[0;32m/opt/anaconda3/envs/rllr/lib/python3.7/site-packages/torch/serialization.py\u001b[0m in \u001b[0;36msave\u001b[0;34m(obj, f, pickle_module, pickle_protocol, _use_new_zipfile_serialization)\u001b[0m\n\u001b[1;32m    367\u001b[0m     \u001b[0m_check_dill_version\u001b[0m\u001b[0;34m(\u001b[0m\u001b[0mpickle_module\u001b[0m\u001b[0;34m)\u001b[0m\u001b[0;34m\u001b[0m\u001b[0;34m\u001b[0m\u001b[0m\n\u001b[1;32m    368\u001b[0m \u001b[0;34m\u001b[0m\u001b[0m\n\u001b[0;32m--> 369\u001b[0;31m     \u001b[0;32mwith\u001b[0m \u001b[0m_open_file_like\u001b[0m\u001b[0;34m(\u001b[0m\u001b[0mf\u001b[0m\u001b[0;34m,\u001b[0m \u001b[0;34m'wb'\u001b[0m\u001b[0;34m)\u001b[0m \u001b[0;32mas\u001b[0m \u001b[0mopened_file\u001b[0m\u001b[0;34m:\u001b[0m\u001b[0;34m\u001b[0m\u001b[0;34m\u001b[0m\u001b[0m\n\u001b[0m\u001b[1;32m    370\u001b[0m         \u001b[0;32mif\u001b[0m \u001b[0m_use_new_zipfile_serialization\u001b[0m\u001b[0;34m:\u001b[0m\u001b[0;34m\u001b[0m\u001b[0;34m\u001b[0m\u001b[0m\n\u001b[1;32m    371\u001b[0m             \u001b[0;32mwith\u001b[0m \u001b[0m_open_zipfile_writer\u001b[0m\u001b[0;34m(\u001b[0m\u001b[0mopened_file\u001b[0m\u001b[0;34m)\u001b[0m \u001b[0;32mas\u001b[0m \u001b[0mopened_zipfile\u001b[0m\u001b[0;34m:\u001b[0m\u001b[0;34m\u001b[0m\u001b[0;34m\u001b[0m\u001b[0m\n",
      "\u001b[0;32m/opt/anaconda3/envs/rllr/lib/python3.7/site-packages/torch/serialization.py\u001b[0m in \u001b[0;36m_open_file_like\u001b[0;34m(name_or_buffer, mode)\u001b[0m\n\u001b[1;32m    228\u001b[0m \u001b[0;32mdef\u001b[0m \u001b[0m_open_file_like\u001b[0m\u001b[0;34m(\u001b[0m\u001b[0mname_or_buffer\u001b[0m\u001b[0;34m,\u001b[0m \u001b[0mmode\u001b[0m\u001b[0;34m)\u001b[0m\u001b[0;34m:\u001b[0m\u001b[0;34m\u001b[0m\u001b[0;34m\u001b[0m\u001b[0m\n\u001b[1;32m    229\u001b[0m     \u001b[0;32mif\u001b[0m \u001b[0m_is_path\u001b[0m\u001b[0;34m(\u001b[0m\u001b[0mname_or_buffer\u001b[0m\u001b[0;34m)\u001b[0m\u001b[0;34m:\u001b[0m\u001b[0;34m\u001b[0m\u001b[0;34m\u001b[0m\u001b[0m\n\u001b[0;32m--> 230\u001b[0;31m         \u001b[0;32mreturn\u001b[0m \u001b[0m_open_file\u001b[0m\u001b[0;34m(\u001b[0m\u001b[0mname_or_buffer\u001b[0m\u001b[0;34m,\u001b[0m \u001b[0mmode\u001b[0m\u001b[0;34m)\u001b[0m\u001b[0;34m\u001b[0m\u001b[0;34m\u001b[0m\u001b[0m\n\u001b[0m\u001b[1;32m    231\u001b[0m     \u001b[0;32melse\u001b[0m\u001b[0;34m:\u001b[0m\u001b[0;34m\u001b[0m\u001b[0;34m\u001b[0m\u001b[0m\n\u001b[1;32m    232\u001b[0m         \u001b[0;32mif\u001b[0m \u001b[0;34m'w'\u001b[0m \u001b[0;32min\u001b[0m \u001b[0mmode\u001b[0m\u001b[0;34m:\u001b[0m\u001b[0;34m\u001b[0m\u001b[0;34m\u001b[0m\u001b[0m\n",
      "\u001b[0;32m/opt/anaconda3/envs/rllr/lib/python3.7/site-packages/torch/serialization.py\u001b[0m in \u001b[0;36m__init__\u001b[0;34m(self, name, mode)\u001b[0m\n\u001b[1;32m    209\u001b[0m \u001b[0;32mclass\u001b[0m \u001b[0m_open_file\u001b[0m\u001b[0;34m(\u001b[0m\u001b[0m_opener\u001b[0m\u001b[0;34m)\u001b[0m\u001b[0;34m:\u001b[0m\u001b[0;34m\u001b[0m\u001b[0;34m\u001b[0m\u001b[0m\n\u001b[1;32m    210\u001b[0m     \u001b[0;32mdef\u001b[0m \u001b[0m__init__\u001b[0m\u001b[0;34m(\u001b[0m\u001b[0mself\u001b[0m\u001b[0;34m,\u001b[0m \u001b[0mname\u001b[0m\u001b[0;34m,\u001b[0m \u001b[0mmode\u001b[0m\u001b[0;34m)\u001b[0m\u001b[0;34m:\u001b[0m\u001b[0;34m\u001b[0m\u001b[0;34m\u001b[0m\u001b[0m\n\u001b[0;32m--> 211\u001b[0;31m         \u001b[0msuper\u001b[0m\u001b[0;34m(\u001b[0m\u001b[0m_open_file\u001b[0m\u001b[0;34m,\u001b[0m \u001b[0mself\u001b[0m\u001b[0;34m)\u001b[0m\u001b[0;34m.\u001b[0m\u001b[0m__init__\u001b[0m\u001b[0;34m(\u001b[0m\u001b[0mopen\u001b[0m\u001b[0;34m(\u001b[0m\u001b[0mname\u001b[0m\u001b[0;34m,\u001b[0m \u001b[0mmode\u001b[0m\u001b[0;34m)\u001b[0m\u001b[0;34m)\u001b[0m\u001b[0;34m\u001b[0m\u001b[0;34m\u001b[0m\u001b[0m\n\u001b[0m\u001b[1;32m    212\u001b[0m \u001b[0;34m\u001b[0m\u001b[0m\n\u001b[1;32m    213\u001b[0m     \u001b[0;32mdef\u001b[0m \u001b[0m__exit__\u001b[0m\u001b[0;34m(\u001b[0m\u001b[0mself\u001b[0m\u001b[0;34m,\u001b[0m \u001b[0;34m*\u001b[0m\u001b[0margs\u001b[0m\u001b[0;34m)\u001b[0m\u001b[0;34m:\u001b[0m\u001b[0;34m\u001b[0m\u001b[0;34m\u001b[0m\u001b[0m\n",
      "\u001b[0;31mFileNotFoundError\u001b[0m: [Errno 2] No such file or directory: 'artifacts/models/minigrid_ssim.p'"
     ]
    }
   ],
   "source": [
    "from pyhocon.config_parser import ConfigFactory\n",
    "from gym.wrappers import Monitor\n",
    "from rllr.env.vec_wrappers import make_vec_envs\n",
    "from rllr.utils.logger import init_logger\n",
    "from rllr.utils import switch_reproducibility_on\n",
    "from rllr.env.vec_wrappers import make_vec_envs\n",
    "from experiments.train_ssim_with_rnd import train_ssim_with_rnd\n",
    "from experiments.train_ssim_with_rnd import gen_env_with_seed\n",
    "from experiments.train_ssim_with_rnd import get_agent, get_ssim\n",
    "\n",
    "\n",
    "config = ConfigFactory.parse_file('../experiments/conf/minigrid_contrastive_ssim.hocon')\n",
    "switch_reproducibility_on(config['seed'])\n",
    "\n",
    "\n",
    "env = make_vec_envs(\n",
    "        lambda env_id: lambda: gen_env_with_seed(config, env_id),\n",
    "        config['training.n_processes'],\n",
    "        config['agent.device']\n",
    "    )\n",
    "\n",
    "# env = Monitor(env, '../experiments/artifacts/video/', force=True)\n",
    "\n",
    "agent = get_agent(env, config)\n",
    "ssim = get_ssim(config)\n",
    "\n",
    "print(f\"Running agent training: { config['training.n_steps'] * config['training.n_processes']} steps\")\n",
    "\n",
    "\n",
    "train_ssim_with_rnd(\n",
    "        env=env,\n",
    "        agent=agent,\n",
    "        ssim=ssim,\n",
    "        conf=config\n",
    "    )"
   ]
  },
  {
   "cell_type": "code",
   "execution_count": 3,
   "metadata": {},
   "outputs": [
    {
     "name": "stdout",
     "output_type": "stream",
     "text": [
      "True\n",
      "False\n"
     ]
    }
   ],
   "source": [
    "i = 29 \n",
    "j = 20 \n",
    "print(abs(i-j)==9)\n",
    "print(abs(i-j)<3)"
   ]
  },
  {
   "cell_type": "code",
   "execution_count": 2,
   "metadata": {},
   "outputs": [
    {
     "name": "stdout",
     "output_type": "stream",
     "text": [
      "True\n",
      "False\n"
     ]
    }
   ],
   "source": [
    "i = 29 \n",
    "j = 19 \n",
    "print(abs(i-j)==10)\n",
    "print(abs(i-j)<3)\n",
    "\n"
   ]
  },
  {
   "cell_type": "code",
   "execution_count": null,
   "metadata": {},
   "outputs": [],
   "source": [
    "ef rnd_obs(env, seed):\n",
    "    env.seed(seed)\n",
    "    while True:\n",
    "        env.reset()\n",
    "        goal_pos = np.random.randint(1, 6, 2)\n",
    "        goal_dir = np.random.randint(0, 4)\n",
    "        env.unwrapped.agent_pos = goal_pos\n",
    "        env.unwrapped.agent_dir = goal_dir\n",
    "        yield env.observation(env.unwrapped.gen_obs())"
   ]
  },
  {
   "cell_type": "code",
   "execution_count": 4,
   "metadata": {},
   "outputs": [
    {
     "data": {
      "text/plain": [
       "[1, 2, 3, 4, 5]"
      ]
     },
     "execution_count": 4,
     "metadata": {},
     "output_type": "execute_result"
    }
   ],
   "source": [
    "list(range(1, 6))"
   ]
  }
 ],
 "metadata": {
  "kernelspec": {
   "display_name": "Python 3.7 (rllr)",
   "language": "python",
   "name": "rllr"
  },
  "language_info": {
   "codemirror_mode": {
    "name": "ipython",
    "version": 3
   },
   "file_extension": ".py",
   "mimetype": "text/x-python",
   "name": "python",
   "nbconvert_exporter": "python",
   "pygments_lexer": "ipython3",
   "version": "3.7.9"
  }
 },
 "nbformat": 4,
 "nbformat_minor": 4
}
