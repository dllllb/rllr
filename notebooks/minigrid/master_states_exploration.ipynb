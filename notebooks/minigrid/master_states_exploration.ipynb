{
 "cells": [
  {
   "cell_type": "code",
   "execution_count": 1,
   "id": "bd731bde",
   "metadata": {},
   "outputs": [],
   "source": [
    "import numpy as np\n",
    "import matplotlib.pyplot as plt\n",
    "import torch\n",
    "from torch import nn\n",
    "from pyhocon import ConfigFactory\n",
    "import rllr.env as environments\n",
    "from rllr.algo import PPOGAN\n",
    "from rllr.models import encoders, ActorCriticNetwork, StateEmbedder\n",
    "\n",
    "import sys\n",
    "sys.path.append('../../experiments/minigrid/')\n",
    "from vae import VAE, init_params\n",
    "from train_master_gan import VAEEncoder, VAEDecoder"
   ]
  },
  {
   "cell_type": "code",
   "execution_count": 2,
   "id": "4e22f1ff",
   "metadata": {},
   "outputs": [
    {
     "data": {
      "text/plain": [
       "<All keys matched successfully>"
      ]
     },
     "execution_count": 2,
     "metadata": {},
     "output_type": "execute_result"
    }
   ],
   "source": [
    "vae_state_dict = torch.load('../../experiments/minigrid/vae.pt', map_location='cpu')\n",
    "vae = VAE((64,64,3))\n",
    "vae.load_state_dict(vae_state_dict)"
   ]
  },
  {
   "cell_type": "code",
   "execution_count": 3,
   "id": "bc713a27",
   "metadata": {},
   "outputs": [
    {
     "data": {
      "text/plain": [
       "<matplotlib.image.AxesImage at 0x7fb3421c8880>"
      ]
     },
     "execution_count": 3,
     "metadata": {},
     "output_type": "execute_result"
    },
    {
     "data": {
      "image/png": "[encoded data removed]",
      "text/plain": [
       "<Figure size 432x288 with 1 Axes>"
      ]
     },
     "metadata": {
      "needs_background": "light"
     },
     "output_type": "display_data"
    }
   ],
   "source": [
    "conf = '../../experiments/minigrid/conf/minigrid_second_step_random_empty.hocon'\n",
    "conf = ConfigFactory.parse_file(conf)\n",
    "env = environments.minigrid_envs.gen_wrapped_env(conf['env'], verbose=False)\n",
    "\n",
    "obs = env.reset()\n",
    "plt.imshow(obs)"
   ]
  },
  {
   "cell_type": "code",
   "execution_count": 4,
   "id": "b8e8c13a",
   "metadata": {},
   "outputs": [],
   "source": [
    "all_states = list()\n",
    "for i in range(6):\n",
    "    for j in range(6):\n",
    "        for k in range(4):\n",
    "            env.unwrapped.agent_pos = np.array([i+1, j+1])\n",
    "            env.unwrapped.agent_dir = k\n",
    "            obs, _, _, _ = env.step(1)\n",
    "            all_states.append(obs)"
   ]
  },
  {
   "cell_type": "code",
   "execution_count": 5,
   "id": "c4f9e13f",
   "metadata": {},
   "outputs": [
    {
     "data": {
      "text/plain": [
       "<matplotlib.image.AxesImage at 0x7fb3424f4d00>"
      ]
     },
     "execution_count": 5,
     "metadata": {},
     "output_type": "execute_result"
    },
    {
     "data": {
      "image/png": "[encoded data removed]",
      "text/plain": [
       "<Figure size 432x288 with 1 Axes>"
      ]
     },
     "metadata": {
      "needs_background": "light"
     },
     "output_type": "display_data"
    }
   ],
   "source": [
    "plt.imshow(all_states[130])"
   ]
  },
  {
   "cell_type": "code",
   "execution_count": 6,
   "id": "ad91dbcc",
   "metadata": {},
   "outputs": [
    {
     "name": "stdout",
     "output_type": "stream",
     "text": [
      "0 255 (64, 64, 3)\n"
     ]
    }
   ],
   "source": [
    "print(all_states[32].min(), all_states[32].max(), all_states[32].shape)"
   ]
  },
  {
   "cell_type": "code",
   "execution_count": 7,
   "id": "94d364df",
   "metadata": {},
   "outputs": [],
   "source": [
    "master_with_gan = '../../experiments/artifacts/minigrid/models/minigrid_master_random_empty.p'\n",
    "master_with_gan = torch.load(master_with_gan, map_location='cpu')\n",
    "master_without_gan = '../../experiments/artifacts/minigrid/models/minigrid_master_random_empty_1.p'\n",
    "master_without_gan = torch.load(master_without_gan, map_location='cpu')"
   ]
  },
  {
   "cell_type": "code",
   "execution_count": 8,
   "id": "d11334cf",
   "metadata": {},
   "outputs": [],
   "source": [
    "all_states = torch.from_numpy(np.stack(all_states, axis=0))\n",
    "with torch.no_grad():\n",
    "    _, mu, logvar = vae(all_states)\n",
    "    std = torch.sqrt(torch.exp(logvar))\n",
    "    vae_states_distr = torch.distributions.Normal(mu, std)\n",
    "    goal_with_gan = master_with_gan.actor_critic.deterministic_forward(all_states, 0, 0)\n",
    "    goal_without_gan = master_without_gan.actor_critic.deterministic_forward(all_states, 0, 0)"
   ]
  },
  {
   "cell_type": "code",
   "execution_count": 9,
   "id": "4dc62fd7",
   "metadata": {},
   "outputs": [],
   "source": [
    "probs_mu = list()\n",
    "probs_with_gan = list()\n",
    "probs_without_gan = list()\n",
    "\n",
    "for i in range(mu.shape[0]):\n",
    "    probs_mu.append(torch.exp(vae_states_distr.log_prob(mu[i])).mean(dim=-1).max())\n",
    "    probs_with_gan.append(torch.exp(vae_states_distr.log_prob(goal_with_gan[i])).mean(dim=-1).max())\n",
    "    probs_without_gan.append(torch.exp(vae_states_distr.log_prob(goal_without_gan[i])).mean(dim=-1).max())\n",
    "\n",
    "probs_mu = torch.stack(probs_mu, dim=0).numpy()\n",
    "probs_with_gan = torch.stack(probs_with_gan, dim=0).numpy()\n",
    "probs_without_gan = torch.stack(probs_without_gan, dim=0).numpy()"
   ]
  },
  {
   "cell_type": "code",
   "execution_count": 10,
   "id": "106f5c57",
   "metadata": {},
   "outputs": [
    {
     "data": {
      "image/png": "[encoded data removed]",
      "text/plain": [
       "<Figure size 432x288 with 1 Axes>"
      ]
     },
     "metadata": {
      "needs_background": "light"
     },
     "output_type": "display_data"
    }
   ],
   "source": [
    "plt.hist(probs_mu, color='b', alpha=0.4, density=True, bins=1)\n",
    "plt.hist(probs_with_gan, color='g', alpha=0.4, density=True)\n",
    "plt.hist(probs_without_gan, color='r', alpha=0.4, density=True)\n",
    "plt.show()"
   ]
  },
  {
   "cell_type": "code",
   "execution_count": null,
   "id": "7ad4504d",
   "metadata": {},
   "outputs": [],
   "source": []
  }
 ],
 "metadata": {
  "kernelspec": {
   "display_name": "Python 3 (ipykernel)",
   "language": "python",
   "name": "python3"
  },
  "language_info": {
   "codemirror_mode": {
    "name": "ipython",
    "version": 3
   },
   "file_extension": ".py",
   "mimetype": "text/x-python",
   "name": "python",
   "nbconvert_exporter": "python",
   "pygments_lexer": "ipython3",
   "version": "3.8.9"
  }
 },
 "nbformat": 4,
 "nbformat_minor": 5
}
