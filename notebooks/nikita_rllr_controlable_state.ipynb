{
 "cells": [
  {
   "cell_type": "code",
   "execution_count": 1,
   "metadata": {},
   "outputs": [
    {
     "data": {
      "text/html": [
       "<style>.container { width:90% !important; }</style>"
      ],
      "text/plain": [
       "<IPython.core.display.HTML object>"
      ]
     },
     "metadata": {},
     "output_type": "display_data"
    }
   ],
   "source": [
    "from IPython.core.display import display, HTML\n",
    "display(HTML(\"<style>.container { width:90% !important; }</style>\"))"
   ]
  },
  {
   "cell_type": "code",
   "execution_count": 2,
   "metadata": {},
   "outputs": [],
   "source": [
    "import gym\n",
    "import matplotlib.pyplot as plt\n",
    "import sys\n",
    "\n",
    "sys.path.append('..')\n",
    "\n",
    "from gym_minigrid_navigation.utils import show_video\n",
    "\n",
    "plt.style.use('ggplot')\n",
    "\n",
    "%load_ext autoreload\n",
    "%autoreload 2"
   ]
  },
  {
   "cell_type": "markdown",
   "metadata": {},
   "source": [
    "### environment "
   ]
  },
  {
   "cell_type": "code",
   "execution_count": 3,
   "metadata": {},
   "outputs": [],
   "source": [
    "from gym_minigrid_navigation.environments import gen_wrapped_env\n",
    "\n",
    "env_config = {\n",
    "    'env_type': 'gym_minigrid',\n",
    "    'env_task': 'MiniGrid-Dynamic-Obstacles',\n",
    "    'grid_size': 16,\n",
    "    'rgb_image': True,\n",
    "    'tile_size': 8,\n",
    "}\n",
    "\n",
    "env = gen_wrapped_env(env_config)"
   ]
  },
  {
   "cell_type": "markdown",
   "metadata": {},
   "source": [
    "### model "
   ]
  },
  {
   "cell_type": "code",
   "execution_count": 4,
   "metadata": {},
   "outputs": [
    {
     "data": {
      "text/plain": [
       "StateDistanceNetwork(\n",
       "  (encoder): SimpleCNN(\n",
       "    (conv_net): Sequential(\n",
       "      (0): Permute()\n",
       "      (1): Conv2d(3, 32, kernel_size=(8, 8), stride=(4, 4))\n",
       "      (2): ReLU(inplace=True)\n",
       "      (3): Conv2d(32, 64, kernel_size=(4, 4), stride=(2, 2))\n",
       "      (4): ReLU(inplace=True)\n",
       "      (5): Conv2d(64, 64, kernel_size=(3, 3), stride=(1, 1))\n",
       "      (6): ReLU(inplace=True)\n",
       "    )\n",
       "    (fc): Sequential(\n",
       "      (0): Linear(in_features=9216, out_features=32, bias=True)\n",
       "      (1): ReLU()\n",
       "    )\n",
       "  )\n",
       "  (fc): Sequential(\n",
       "    (0): Linear(in_features=64, out_features=128, bias=True)\n",
       "    (1): ReLU()\n",
       "    (2): Linear(in_features=128, out_features=3, bias=True)\n",
       "    (3): LogSoftmax(dim=-1)\n",
       "  )\n",
       ")"
      ]
     },
     "execution_count": 4,
     "metadata": {},
     "output_type": "execute_result"
    }
   ],
   "source": [
    "from models import StateDistanceNetwork\n",
    "from gym_minigrid_navigation.encoders import SimpleCNN\n",
    "\n",
    "grid_size = env_config['grid_size'] * env_config.get('tile_size', 1)\n",
    "encoder_config = {\n",
    "    'n_channels': [32, 64, 64],\n",
    "    'kernel_sizes': [8, 4, 3],\n",
    "    'strides': [4, 2, 1],\n",
    "    'hidden_layers_sizes': [32]\n",
    "}\n",
    "\n",
    "encoder = SimpleCNN(grid_size, encoder_config)\n",
    "\n",
    "net = StateDistanceNetwork(encoder=encoder, action_size = env.action_space.n, config={'hidden_size': 128})\n",
    "net"
   ]
  },
  {
   "cell_type": "markdown",
   "metadata": {},
   "source": [
    "### training"
   ]
  },
  {
   "cell_type": "code",
   "execution_count": 5,
   "metadata": {},
   "outputs": [
    {
     "name": "stdout",
     "output_type": "stream",
     "text": [
      "Rollout: 0, loss: 0.5700077414512634\n",
      "Rollout: 100, loss: 0.9336525201797485\n",
      "Rollout: 200, loss: 0.8000394701957703\n",
      "Rollout: 300, loss: 0.09025447815656662\n",
      "Rollout: 400, loss: 0.02077731303870678\n",
      "Rollout: 500, loss: 0.009412623941898346\n",
      "Rollout: 600, loss: 0.0002696018782444298\n",
      "Rollout: 700, loss: 0.00036106296465732157\n",
      "Rollout: 800, loss: 2.1529429432121105e-05\n",
      "Rollout: 900, loss: 7.827551598893479e-05\n"
     ]
    }
   ],
   "source": [
    "import torch\n",
    "from torch import nn\n",
    "import numpy as np\n",
    "\n",
    "from train_state_distance_network import rollout\n",
    "\n",
    "optimizer = torch.optim.Adam(net.parameters(), lr=1e-4, weight_decay=1e-6)\n",
    "nll_loss = nn.NLLLoss()\n",
    "\n",
    "for roll in range(1000):\n",
    "    \n",
    "    states, next_states, actions = rollout(env)\n",
    "    \n",
    "    for epoch in range(5):\n",
    "        optimizer.zero_grad()\n",
    "        predicted_actions = net.forward(states, next_states)\n",
    "        loss = nll_loss(predicted_actions, actions)\n",
    "        loss.backward()\n",
    "        optimizer.step()\n",
    "    if roll%100==0:\n",
    "        print(\"Rollout: {0}, loss: {1}\".format(roll, loss.item()))"
   ]
  },
  {
   "cell_type": "markdown",
   "metadata": {},
   "source": [
    "### visualisation "
   ]
  },
  {
   "cell_type": "code",
   "execution_count": 6,
   "metadata": {},
   "outputs": [],
   "source": [
    "env.reset()\n",
    "grid_size = env.unwrapped.grid.encode().shape[0]\n",
    "env.unwrapped.agent_pos = np.random.randint(1, grid_size - 2, 2)\n",
    "\n",
    "state1, _, _, _ = env.step(2)\n",
    "state2, _, _, _ = env.step(0)\n",
    "state3, _, _, _ = env.step(1)"
   ]
  },
  {
   "cell_type": "code",
   "execution_count": 7,
   "metadata": {},
   "outputs": [
    {
     "data": {
      "image/png": "[encoded data removed]",
      "text/plain": [
       "<Figure size 432x288 with 1 Axes>"
      ]
     },
     "metadata": {},
     "output_type": "display_data"
    },
    {
     "data": {
      "image/png": "[encoded data removed]",
      "text/plain": [
       "<Figure size 432x288 with 1 Axes>"
      ]
     },
     "metadata": {},
     "output_type": "display_data"
    },
    {
     "name": "stdout",
     "output_type": "stream",
     "text": [
      "Same position agent distance: 3.092606544494629 (should be small)\n",
      "Different position agent distance: 186.82891845703125 (should be big)\n"
     ]
    }
   ],
   "source": [
    "device = 'cpu'\n",
    "\n",
    "plt.axis(False)\n",
    "plt.imshow(state1['image'])\n",
    "plt.show()\n",
    "plt.axis(False)\n",
    "plt.imshow(state3['image'])\n",
    "plt.show()\n",
    "\n",
    "embeds = net.encoder(torch.from_numpy(np.array([state1['image'], state2['image'], state3['image']])).to(device, dtype=torch.float32))\n",
    "\n",
    "d_same = torch.dist(embeds[0], embeds[2], 2).detach().item()\n",
    "d_diff = torch.dist(embeds[0], embeds[1], 2).detach().item()\n",
    "\n",
    "print(f\"Same position agent distance: {d_same} (should be small)\")\n",
    "print(f\"Different position agent distance: {d_diff} (should be big)\")"
   ]
  },
  {
   "cell_type": "code",
   "execution_count": null,
   "metadata": {},
   "outputs": [],
   "source": []
  },
  {
   "cell_type": "code",
   "execution_count": null,
   "metadata": {},
   "outputs": [],
   "source": []
  },
  {
   "cell_type": "code",
   "execution_count": null,
   "metadata": {},
   "outputs": [],
   "source": []
  },
  {
   "cell_type": "code",
   "execution_count": null,
   "metadata": {},
   "outputs": [],
   "source": []
  }
 ],
 "metadata": {
  "kernelspec": {
   "display_name": "Python 3",
   "language": "python",
   "name": "python3"
  },
  "language_info": {
   "codemirror_mode": {
    "name": "ipython",
    "version": 3
   },
   "file_extension": ".py",
   "mimetype": "text/x-python",
   "name": "python",
   "nbconvert_exporter": "python",
   "pygments_lexer": "ipython3",
   "version": "3.8.5"
  }
 },
 "nbformat": 4,
 "nbformat_minor": 4
}
