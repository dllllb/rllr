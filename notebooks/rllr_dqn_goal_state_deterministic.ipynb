{
 "cells": [
  {
   "cell_type": "code",
   "execution_count": 1,
   "metadata": {},
   "outputs": [],
   "source": [
    "import numpy as np\n",
    "import matplotlib.pyplot as plt\n",
    "from pprint import pprint\n",
    "\n",
    "%matplotlib inline\n",
    "plt.rcParams['figure.figsize'] = (10.0, 8.0) # set default size of plots\n",
    "plt.rcParams['image.interpolation'] = 'nearest'\n",
    "plt.rcParams['image.cmap'] = 'gray'\n",
    "\n",
    "plt.style.use('ggplot')\n",
    "\n",
    "%load_ext autoreload\n",
    "%autoreload 2"
   ]
  },
  {
   "cell_type": "code",
   "execution_count": 2,
   "metadata": {},
   "outputs": [],
   "source": [
    "import base64\n",
    "import glob\n",
    "import io\n",
    "from IPython.display import HTML\n",
    "from IPython import display \n",
    "\n",
    "def show_video():\n",
    "    mp4list = glob.glob('video/*.mp4')\n",
    "    if len(mp4list) > 0:\n",
    "        mp4 = mp4list[0]\n",
    "        video = io.open(mp4, 'r+b').read()\n",
    "        encoded = base64.b64encode(video)\n",
    "        display.display(HTML(data='''<video alt=\"test\" autoplay \n",
    "                loop controls style=\"height: 400px;\">\n",
    "                <source src=\"data:video/mp4;base64,{0}\" type=\"video/mp4\" />\n",
    "             </video>'''.format(encoded.decode('ascii'))))\n",
    "    else:\n",
    "        print(\"Could not find video\")"
   ]
  },
  {
   "cell_type": "markdown",
   "metadata": {},
   "source": [
    "# Flatten image and remove walls"
   ]
  },
  {
   "cell_type": "code",
   "execution_count": 3,
   "metadata": {},
   "outputs": [],
   "source": [
    "import gym\n",
    "from gym import spaces\n",
    "from gym_minigrid.minigrid import OBJECT_TO_IDX, COLOR_TO_IDX\n",
    "\n",
    "# max_env_steps = 100\n",
    "\n",
    "class FlatObsWrapper(gym.core.ObservationWrapper):\n",
    "    \"\"\"Fully observable gridworld returning a flat grid encoding.\"\"\"\n",
    "\n",
    "    def __init__(self, env):\n",
    "        super().__init__(env)\n",
    "\n",
    "        # Since the outer walls are always present, we remove left, right, top, bottom walls\n",
    "        # from the observation space of the agent. There are 3 channels, but for simplicity\n",
    "        # in this assignment, we will deal with flattened version of state.\n",
    "        \n",
    "        self.observation_space = spaces.Box(\n",
    "            low=0,\n",
    "            high=255,\n",
    "            shape=((self.env.width-2) * (self.env.height-2) * 3,),  # number of cells\n",
    "            dtype='uint8'\n",
    "        )\n",
    "        # self.unwrapped.max_steps = max_env_steps\n",
    "\n",
    "    def observation(self, obs):\n",
    "        # this method is called in the step() function to get the observation\n",
    "        # we provide code that gets the grid state and places the agent in it\n",
    "        env = self.unwrapped\n",
    "        full_grid = env.grid.encode()\n",
    "        full_grid[env.agent_pos[0]][env.agent_pos[1]] = np.array([\n",
    "            OBJECT_TO_IDX['agent'],\n",
    "            COLOR_TO_IDX['red'],\n",
    "            env.agent_dir\n",
    "        ])\n",
    "        full_grid = full_grid[1:-1, 1:-1]   # remove outer walls of the environment (for efficiency)\n",
    "        \n",
    "        flattened_grid = full_grid.ravel()\n",
    "        return flattened_grid\n",
    "    \n",
    "    def render(self, *args, **kwargs):\n",
    "        \"\"\"This removes the default visualization of the partially observable field of view.\"\"\"\n",
    "        kwargs['highlight'] = False\n",
    "        return self.unwrapped.render(*args, **kwargs)"
   ]
  },
  {
   "cell_type": "markdown",
   "metadata": {},
   "source": [
    "# Add goal state"
   ]
  },
  {
   "cell_type": "code",
   "execution_count": 4,
   "metadata": {},
   "outputs": [
    {
     "name": "stdout",
     "output_type": "stream",
     "text": [
      "Running on device: cpu\n"
     ]
    }
   ],
   "source": [
    "import torch\n",
    "import torch.nn as nn\n",
    "import torch.nn.functional as F\n",
    "import torch.optim as optim\n",
    "from collections import deque\n",
    "import random\n",
    "from torch.distributions.multivariate_normal import MultivariateNormal\n",
    "\n",
    "BATCH_SIZE = 128 # 128\n",
    "UPDATE_STEP = 4 # 4\n",
    "BUFFER_SIZE = 100000 # 100000\n",
    "LEARNING_RATE = 1e-3 # 5e-3\n",
    "GAMMA = 0.9 # 0.9\n",
    "EPS_START = 1 # 1\n",
    "EPS_END = 0.1 # 0.1\n",
    "EPS_DECAY = 0.995 # 0.995\n",
    "TAU=1e-3 # 1e-3\n",
    "EPSILON = 0.2\n",
    "\n",
    "device = torch.device(\"cuda:0\" if torch.cuda.is_available() else \"cpu\")\n",
    "print(\"Running on device: {}\".format(device))\n",
    "\n",
    "    \n",
    "class MasterNetwork(nn.Module):\n",
    "    \"\"\"\n",
    "    Simple multilayer network for DQN agent\n",
    "    \"\"\"\n",
    "\n",
    "    def __init__(self, state_size, seed=42, hidden_size1=64, hidden_size2=64):\n",
    "        super(MasterNetwork, self).__init__()\n",
    "        self.seed = torch.manual_seed(seed)\n",
    "        self.layer1 = nn.Linear(state_size, hidden_size1)\n",
    "        self.layer2 = nn.Linear(hidden_size1, hidden_size2)\n",
    "        self.layer3 = nn.Linear(hidden_size2, state_size)\n",
    "\n",
    "    def forward(self, states):\n",
    "        x = F.relu(self.layer1(states))\n",
    "        x = F.relu(self.layer2(x))\n",
    "        return self.layer3(x)\n",
    "    \n",
    "    \n",
    "class WorkerNetwork(nn.Module):\n",
    "    \"\"\"\n",
    "    Simple multilayer network for DQN agent\n",
    "    \"\"\"\n",
    "\n",
    "    def __init__(self, state_size, action_size, seed=42, hidden_size1=64, hidden_size2=64):\n",
    "        super(WorkerNetwork, self).__init__()\n",
    "        self.seed = torch.manual_seed(seed)    \n",
    "        self.layer1 = nn.Linear(state_size, hidden_size1)\n",
    "        self.layer2 = nn.Linear(hidden_size1, hidden_size2)\n",
    "        self.layer3 = nn.Linear(state_size + hidden_size2, hidden_size2)\n",
    "        self.layer4 = nn.Linear(hidden_size2, action_size)\n",
    "\n",
    "    def forward(self, states, goal_states):\n",
    "        x = F.relu(self.layer1(states))\n",
    "        x = F.relu(self.layer2(x))\n",
    "        x = torch.cat((goal_states, x), 1)\n",
    "        x = F.relu(self.layer3(x))\n",
    "        return self.layer4(x)  \n",
    "    \n",
    "\n",
    "class MasterWorkerNetwork(nn.Module):\n",
    "    \"\"\"\n",
    "    Master-Worker model\n",
    "    \"\"\"\n",
    "    \n",
    "    def __init__(self, state_size, action_size, pretrain=True, seed=42):\n",
    "        super(MasterWorkerNetwork, self).__init__()\n",
    "        self.pretrain = pretrain\n",
    "        self.master = MasterNetwork(state_size)\n",
    "        self.worker = WorkerNetwork(state_size, action_size)\n",
    "        \n",
    "    def forward(self, states, goal_states):\n",
    "        if self.pretrain:\n",
    "            return self.worker.forward(states, goal_states)\n",
    "        else:\n",
    "            goal_states = self.master.forward(states)\n",
    "            return self.worker.forward(states, goal_states)\n",
    "\n",
    "\n",
    "class DQNAgentGoal:\n",
    "    \"\"\" An agent implementing Deep Q-Network algorithm\"\"\"\n",
    "    \n",
    "    def __init__(self, state_size, action_size, pretrain=True, emb_size=64, seed=42):\n",
    "        \"\"\"Initializes an Agent.\n",
    "        \n",
    "        Params:\n",
    "        -------\n",
    "            state_size (int): dimension of each state\n",
    "            action_size (int): dimension of each action\n",
    "            seed (int): random seed\n",
    "        \"\"\"\n",
    "\n",
    "        self.qnetwork_local = MasterWorkerNetwork(state_size, action_size).to(device)\n",
    "        self.qnetwork_target = MasterWorkerNetwork(state_size, action_size).to(device)\n",
    "        self.qnetwork_target.load_state_dict(self.qnetwork_local.state_dict())\n",
    "        self.optimizer = optim.Adam(self.qnetwork_local.parameters(), lr=LEARNING_RATE)\n",
    "        self.action_size = action_size\n",
    "        self.buffer = deque(maxlen=BUFFER_SIZE) \n",
    "        self.step = 0\n",
    "        self.eps = EPS_START\n",
    "        self.explore = True\n",
    "        \n",
    "        \n",
    "    def disable_pretrain(self, learning_rate=LEARNING_RATE):\n",
    "        \n",
    "        for param in self.qnetwork_local.worker.parameters():\n",
    "            param.requires_grad = False\n",
    "        \n",
    "        self.qnetwork_local.pretrain = False\n",
    "        self.qnetwork_target.pretrain = False\n",
    "        \n",
    "        trainable = filter(lambda p: p.requires_grad, self.qnetwork_local.parameters())\n",
    "        optimizer = optim.Adam(trainable, lr=learning_rate)\n",
    "            \n",
    "   \n",
    "    def reset_episode(self):\n",
    "        \"\"\"\n",
    "        Resets episode and update epsilon decay\n",
    "        \"\"\"\n",
    "        self.eps = max(EPS_END, EPS_DECAY*self.eps) \n",
    "        \n",
    "        \n",
    "    def learn(self):\n",
    "        \"\"\"\n",
    "        Learns values-actions network\n",
    "        \n",
    "        \"\"\"\n",
    "        \n",
    "        # Sample batch from replay buffer\n",
    "        states, next_states, goal_states, actions, rewards, dones = self.sample_batch()\n",
    "            \n",
    "        values = self.qnetwork_target.forward(next_states, goal_states).detach()\n",
    "        targets = rewards + GAMMA * values.max(1)[0].view(dones.size()) * (1 - dones)\n",
    "        outputs = self.qnetwork_local.forward(states, goal_states)\n",
    "        outputs = outputs.gather(1, actions.long())\n",
    "                \n",
    "        self.optimizer.zero_grad()\n",
    "        loss = F.mse_loss(outputs, targets)\n",
    "        loss.backward()\n",
    "        self.optimizer.step()\n",
    "\n",
    "            \n",
    "            \n",
    "    def update(self, state, goal_state, action, reward, next_state, done):\n",
    "        \"\"\"\n",
    "        Makes an update step of algorithm and append sars to buffer replay\n",
    "        \n",
    "        Params:\n",
    "        -------\n",
    "        state - current state\n",
    "        action - action made\n",
    "        reward - reward for an action\n",
    "        next_state - next state from env\n",
    "        done - episode finishing flag\n",
    "        \"\"\"\n",
    "        self.buffer.append((state, next_state, goal_state, action, reward, float(done)))\n",
    "        \n",
    "        self.step = (self.step+1)%UPDATE_STEP\n",
    "        if self.step == 0:\n",
    "            if len(self.buffer) > BATCH_SIZE:\n",
    "                self.learn()\n",
    "                self.reset_target_network()\n",
    "        \n",
    "        \n",
    "    def reset_target_network(self):\n",
    "        \"\"\"\n",
    "        Resets params of target network to values from local network\n",
    "        \"\"\"\n",
    "        params = zip(self.qnetwork_target.parameters(), self.qnetwork_local.parameters())\n",
    "        for target_param, local_param in params:\n",
    "            updated_params = TAU*local_param.data + (1-TAU)*target_param.data\n",
    "            target_param.data.copy_(updated_params)\n",
    "        \n",
    "        \n",
    "    def act(self, state, goal_state):\n",
    "        \"\"\"\n",
    "        Selects action from state if epsilon-greedy way\n",
    "        \n",
    "        Params:\n",
    "        state - current state\n",
    "        \n",
    "        \"\"\"\n",
    "        self.step+=1\n",
    "        \n",
    "        self.qnetwork_local.eval()\n",
    "        with torch.no_grad():\n",
    "            action_values = self.qnetwork_local(torch.from_numpy(np.vstack([state])).float().to(device), \n",
    "                                                   torch.from_numpy(np.vstack([goal_state])).float().to(device))  \n",
    "        self.qnetwork_local.train()\n",
    "            \n",
    "        if (random.random() > self.eps) and self.explore:\n",
    "            return np.argmax(action_values.cpu().data.numpy())\n",
    "        else:\n",
    "            return random.choice(np.arange(self.action_size))\n",
    "        \n",
    "    def sample_batch(self):\n",
    "        \"\"\"\n",
    "        Samples a batch of experience from replay buffer random uniformily\n",
    "        \"\"\"\n",
    "        batch = random.sample(self.buffer, k=BATCH_SIZE)\n",
    "        f = lambda arr: torch.from_numpy(np.vstack(arr)).float().to(device)\n",
    "        states, next_states, goal_states, actions, rewards, dones = map(f, zip(*batch))\n",
    "        rewards = (rewards - rewards.mean()) / (rewards.std() + 1e-5)\n",
    "        return states, next_states, goal_states, actions, rewards, dones"
   ]
  },
  {
   "cell_type": "code",
   "execution_count": 5,
   "metadata": {},
   "outputs": [],
   "source": [
    "import gym\n",
    "\n",
    "def to_coords(state):\n",
    "    idx = state[0:-1:3]\n",
    "    n = int(np.sqrt(len(idx)))\n",
    "    for i in range(n):\n",
    "        for j in range(n):\n",
    "            k = n*i + j\n",
    "            if (idx[k] == 10) or (idx[k] == 8):\n",
    "                return np.array([i+1, j+1])\n",
    "            \n",
    "            \n",
    "class CuriosityWrapper(gym.Wrapper):\n",
    "    \n",
    "    def __init__(self, env):\n",
    "        self.grid_size = env.unwrapped.grid.encode().shape[0]\n",
    "        self.visited_states = dict({})\n",
    "        super().__init__(env)\n",
    "        \n",
    "    def step(self, action):\n",
    "        state = self.env.observation(self.env.unwrapped.gen_obs())\n",
    "        next_state, reward, done, info = self.env.step(action)\n",
    "        \n",
    "        # Exploration bonus\n",
    "        if tuple(state) in self.visited_states:\n",
    "            reward = 1/np.sqrt(self.visited_states[tuple(state)])\n",
    "            self.visited_states[tuple(state)] += 1\n",
    "        else:\n",
    "            self.visited_states[tuple(state)] = 1\n",
    "            \n",
    "        return next_state, reward, done, info\n",
    "    \n",
    "    def reset(self):\n",
    "        # self.visited_states = dict({})\n",
    "        return self.env.reset()\n",
    "            \n",
    "\n",
    "class RandomPosAndGoalWrapper(gym.Wrapper):\n",
    "    \n",
    "    def reset(self):\n",
    "        \n",
    "        # Generate goal state\n",
    "        self.env.unwrapped.agent_pos = np.random.randint(1, self.grid_size-2, 2) \n",
    "        self.goal_state = self.env.observation(self.env.unwrapped.gen_obs())\n",
    "        goal_pos = to_coords(self.goal_state)\n",
    "        \n",
    "        # Set initial state\n",
    "        self.env.reset()\n",
    "        radius = self.grid_size-2\n",
    "        init_pos = (goal_pos + np.random.randint(0, radius, 2))%(self.grid_size-2) + 1\n",
    "        while (init_pos==goal_pos).all():\n",
    "            init_pos = (goal_pos + np.random.randint(0, radius, 2))%(self.grid_size-2) + 1\n",
    "            \n",
    "        self.env.unwrapped.agent_pos = init_pos\n",
    "        \n",
    "        # Return initial state \n",
    "        return self.env.observation(self.env.unwrapped.gen_obs())\n",
    "    \n",
    "    def __init__(self, env):\n",
    "        self.goal_state = None\n",
    "        self.grid_size = env.unwrapped.grid.encode().shape[0]\n",
    "        super().__init__(env)\n",
    "        \n",
    "        \n",
    "    def step(self, action):\n",
    "        state = self.env.observation(self.env.unwrapped.gen_obs())\n",
    "        next_state, reward, done, info = self.env.step(action)\n",
    "        cur_pos, next_pos, goal_pos = to_coords(state), to_coords(next_state), to_coords(self.goal_state)\n",
    "        dist1 = np.linalg.norm(cur_pos - goal_pos)\n",
    "        dist2 = np.linalg.norm(next_pos - goal_pos)\n",
    "        \n",
    "        reward = (dist1 - dist2)\n",
    "        reward = 1 - np.sqrt(2) if reward == 0 else reward\n",
    "        \n",
    "        if (next_pos == goal_pos).all() or (self.step_count  >= self.max_steps):\n",
    "            done = True\n",
    "        else: \n",
    "            done = False\n",
    "        \n",
    "        return next_state, reward, done, info\n",
    "    \n",
    "            \n",
    "from gym.wrappers import Monitor\n",
    "\n",
    "def wrap_env(env):\n",
    "    env = Monitor(env, './video', force=True)\n",
    "    return env\n",
    "\n",
    "def gen_wrapped_env(env_name):\n",
    "    env = FlatObsWrapper(gym.make(env_name))\n",
    "    env = RandomPosAndGoalWrapper(env)\n",
    "    return wrap_env(env)"
   ]
  },
  {
   "cell_type": "code",
   "execution_count": 6,
   "metadata": {},
   "outputs": [],
   "source": [
    "import matplotlib.pyplot as plt\n",
    "%matplotlib inline\n",
    "\n",
    "def run_episode(env, agent, pretrain=True, train_mode=True, show_steps=False):\n",
    "    \"\"\"\n",
    "    A hepler function for running single episode\n",
    "    \"\"\"\n",
    "    \n",
    "    state = env.reset() \n",
    "    if not train_mode:\n",
    "        agent.expore = False\n",
    "        if pretrain:\n",
    "            print(\"From \", to_coords(state), \"to\", to_coords(env.goal_state))\n",
    "    score = 0 \n",
    "    done = False\n",
    "    \n",
    "    steps = 0\n",
    "    while not done:\n",
    "        if pretrain:\n",
    "            goal_state = env.goal_state\n",
    "        else:\n",
    "            goal_state = state\n",
    "            \n",
    "        action = agent.act(state, goal_state)\n",
    "        next_state, reward, done, _ = env.step(action)\n",
    "        agent.update(state, goal_state, action, reward, next_state, done)\n",
    "        state = next_state\n",
    "        score += reward  \n",
    "        steps+=1\n",
    "\n",
    "   \n",
    "        if (not train_mode) and show_steps:\n",
    "            img = env.render('rgb_array')\n",
    "            plt.imshow(img);\n",
    "            plt.show()\n",
    "        \n",
    "            \n",
    "    agent.reset_episode()\n",
    "    env.close()\n",
    "    \n",
    "    if not train_mode:\n",
    "        show_video()\n",
    "    \n",
    "    return score, steps\n",
    "\n",
    "def run_episodes_and_display(env, agent, pretrain=True, n_episodes=1000):\n",
    "    \"\"\"\n",
    "    Runs a series of episode and display agent's performance\n",
    "    \"\"\"\n",
    "    \n",
    "    display_step = 100\n",
    "    score = 0\n",
    "    score_sum = 0\n",
    "    scores = []\n",
    "    steps = []\n",
    "    for episode in range(1, n_episodes+1):\n",
    "        score, step = run_episode(env, agent, pretrain=pretrain, train_mode=True)\n",
    "        score_sum += score\n",
    "        scores.append(score)\n",
    "        steps.append(step)\n",
    "        if episode%display_step==0:\n",
    "            avg_score = score_sum/display_step\n",
    "            print(\"Episode: {}. Average score: {}\".format(episode, avg_score))\n",
    "            score_sum = 0\n",
    "            \n",
    "    fig = plt.figure()\n",
    "    plt.plot(np.arange(len(scores)), scores)\n",
    "    plt.ylabel('Max Score')\n",
    "    plt.xlabel('Episode #')\n",
    "    plt.show()\n",
    "    \n",
    "    fig = plt.figure()\n",
    "    plt.plot(np.arange(len(steps)), steps)\n",
    "    plt.ylabel('Steps')\n",
    "    plt.xlabel('Episode #')\n",
    "    plt.show()"
   ]
  },
  {
   "cell_type": "code",
   "execution_count": 7,
   "metadata": {
    "scrolled": false
   },
   "outputs": [
    {
     "name": "stdout",
     "output_type": "stream",
     "text": [
      "Episode: 100. Average score: -25.163339828930667\n",
      "Episode: 200. Average score: -3.854743157019541\n",
      "Episode: 300. Average score: -2.6578331735005025\n",
      "Episode: 400. Average score: -1.6361714055460228\n",
      "Episode: 500. Average score: -2.566059922475069\n"
     ]
    },
    {
     "data": {
      "image/png": "[encoded data removed]",
      "text/plain": [
       "<Figure size 432x288 with 1 Axes>"
      ]
     },
     "metadata": {
      "needs_background": "light"
     },
     "output_type": "display_data"
    },
    {
     "data": {
      "image/png": "[encoded data removed]",
      "text/plain": [
       "<Figure size 432x288 with 1 Axes>"
      ]
     },
     "metadata": {
      "needs_background": "light"
     },
     "output_type": "display_data"
    },
    {
     "name": "stdout",
     "output_type": "stream",
     "text": [
      "CPU times: user 57.3 s, sys: 804 ms, total: 58.1 s\n",
      "Wall time: 57.9 s\n"
     ]
    }
   ],
   "source": [
    "%%time\n",
    "env_name = 'MiniGrid-Empty-8x8-v0'\n",
    "env = gen_wrapped_env(env_name)\n",
    "state_size = env.observation_space.shape[0]\n",
    "action_size = 3\n",
    "agent = DQNAgentGoal(state_size, action_size)\n",
    "run_episodes_and_display(env, agent, n_episodes=500)"
   ]
  },
  {
   "cell_type": "code",
   "execution_count": 8,
   "metadata": {},
   "outputs": [
    {
     "name": "stdout",
     "output_type": "stream",
     "text": [
      "From  [5 3] to [4 4]\n"
     ]
    },
    {
     "data": {
      "text/html": [
       "<video alt=\"test\" autoplay \n",
       "                loop controls style=\"height: 400px;\">\n",
       "                <source src=\"data:video/mp4;base64,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\" type=\"video/mp4\" />\n",
       "             </video>"
      ],
      "text/plain": [
       "<IPython.core.display.HTML object>"
      ]
     },
     "metadata": {},
     "output_type": "display_data"
    },
    {
     "data": {
      "text/plain": [
       "(0.5857864376269049, 6)"
      ]
     },
     "execution_count": 8,
     "metadata": {},
     "output_type": "execute_result"
    }
   ],
   "source": [
    "env = gen_wrapped_env(env_name)\n",
    "run_episode(env, agent, train_mode=False, show_steps=False)"
   ]
  },
  {
   "cell_type": "markdown",
   "metadata": {},
   "source": [
    "# Learn exploring env and move to goal"
   ]
  },
  {
   "cell_type": "code",
   "execution_count": 9,
   "metadata": {
    "scrolled": false
   },
   "outputs": [
    {
     "name": "stdout",
     "output_type": "stream",
     "text": [
      "Episode: 100. Average score: 0.22481640625000002\n",
      "Episode: 200. Average score: 0.0872109375\n",
      "Episode: 300. Average score: 0.048234374999999996\n",
      "Episode: 400. Average score: 0.10026562499999998\n",
      "Episode: 500. Average score: 0.5725078125\n",
      "Episode: 600. Average score: 0.9173476562499995\n",
      "Episode: 700. Average score: 0.8906640625000003\n",
      "Episode: 800. Average score: 0.9467382812500003\n",
      "Episode: 900. Average score: 0.9517304687500007\n",
      "Episode: 1000. Average score: 0.9518007812500007\n"
     ]
    },
    {
     "data": {
      "image/png": "[encoded data removed]",
      "text/plain": [
       "<Figure size 432x288 with 1 Axes>"
      ]
     },
     "metadata": {
      "needs_background": "light"
     },
     "output_type": "display_data"
    },
    {
     "data": {
      "image/png": "[encoded data removed]",
      "text/plain": [
       "<Figure size 432x288 with 1 Axes>"
      ]
     },
     "metadata": {
      "needs_background": "light"
     },
     "output_type": "display_data"
    },
    {
     "name": "stdout",
     "output_type": "stream",
     "text": [
      "CPU times: user 5min 55s, sys: 5.65 s, total: 6min\n",
      "Wall time: 5min 59s\n"
     ]
    }
   ],
   "source": [
    "%%time\n",
    "env_name = 'MiniGrid-Empty-8x8-v0'\n",
    "env = FlatObsWrapper(gym.make(env_name))\n",
    "# env = CuriosityWrapper(env)\n",
    "agent.disable_pretrain(0.0001) # 0.0001\n",
    "agent.eps = EPS_START\n",
    "run_episodes_and_display(env, agent, n_episodes=1000, pretrain=False)"
   ]
  },
  {
   "cell_type": "code",
   "execution_count": 10,
   "metadata": {},
   "outputs": [
    {
     "data": {
      "text/html": [
       "<video alt=\"test\" autoplay \n",
       "                loop controls style=\"height: 400px;\">\n",
       "                <source src=\"data:video/mp4;base64,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\" type=\"video/mp4\" />\n",
       "             </video>"
      ],
      "text/plain": [
       "<IPython.core.display.HTML object>"
      ]
     },
     "metadata": {},
     "output_type": "display_data"
    },
    {
     "data": {
      "text/plain": [
       "(3.93671875, 18)"
      ]
     },
     "execution_count": 10,
     "metadata": {},
     "output_type": "execute_result"
    }
   ],
   "source": [
    "env = FlatObsWrapper(gym.make(env_name))\n",
    "env = CuriosityWrapper(env)\n",
    "env = Monitor(env, './video', force=True)\n",
    "run_episode(env, agent, pretrain=False, train_mode=False, show_steps=False)"
   ]
  },
  {
   "cell_type": "code",
   "execution_count": null,
   "metadata": {},
   "outputs": [],
   "source": []
  },
  {
   "cell_type": "code",
   "execution_count": null,
   "metadata": {},
   "outputs": [],
   "source": []
  }
 ],
 "metadata": {
  "kernelspec": {
   "display_name": "Python 3.7 (rllr)",
   "language": "python",
   "name": "rllr"
  },
  "language_info": {
   "codemirror_mode": {
    "name": "ipython",
    "version": 3
   },
   "file_extension": ".py",
   "mimetype": "text/x-python",
   "name": "python",
   "nbconvert_exporter": "python",
   "pygments_lexer": "ipython3",
   "version": "3.7.9"
  }
 },
 "nbformat": 4,
 "nbformat_minor": 4
}
