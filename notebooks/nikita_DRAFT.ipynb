{
 "cells": [
  {
   "cell_type": "code",
   "execution_count": 1,
   "metadata": {},
   "outputs": [
    {
     "data": {
      "text/html": [
       "<style>.container { width:90% !important; }</style>"
      ],
      "text/plain": [
       "<IPython.core.display.HTML object>"
      ]
     },
     "metadata": {},
     "output_type": "display_data"
    }
   ],
   "source": [
    "from IPython.core.display import display, HTML\n",
    "display(HTML(\"<style>.container { width:90% !important; }</style>\"))"
   ]
  },
  {
   "cell_type": "code",
   "execution_count": 2,
   "metadata": {},
   "outputs": [],
   "source": [
    "import matplotlib.pyplot as plt\n",
    "from pprint import pprint\n",
    "\n",
    "%matplotlib inline\n",
    "plt.rcParams['figure.figsize'] = (10.0, 8.0) # set default size of plots\n",
    "plt.rcParams['image.interpolation'] = 'nearest'\n",
    "plt.rcParams['image.cmap'] = 'gray'\n",
    "\n",
    "plt.style.use('ggplot')\n",
    "\n",
    "%load_ext autoreload\n",
    "%autoreload 2"
   ]
  },
  {
   "cell_type": "code",
   "execution_count": 3,
   "metadata": {},
   "outputs": [],
   "source": [
    "import sys\n",
    "sys.path.append('..')\n",
    "\n",
    "from gym_minigrid_navigation.utils import show_video\n",
    "from train_worker import gen_navigation_env, get_agent, run_episode, run_episodes\n",
    "\n",
    "from rewards import get_reward_function\n",
    "from utils import init_logger, switch_reproducibility_on, display_stats\n",
    "\n",
    "init_logger('dqn')\n",
    "init_logger('train_worker')\n",
    "init_logger('environments')\n",
    "init_logger('gym_minigrid_navigation.environments')"
   ]
  },
  {
   "cell_type": "markdown",
   "metadata": {},
   "source": [
    "### config "
   ]
  },
  {
   "cell_type": "code",
   "execution_count": 4,
   "metadata": {},
   "outputs": [],
   "source": [
    "from pyhocon import ConfigFactory\n",
    "\n",
    "config = ConfigFactory.parse_file('../conf/minigrid_first_step.hocon')\n",
    "config['env']['video_path'] = './video/'"
   ]
  },
  {
   "cell_type": "code",
   "execution_count": 5,
   "metadata": {},
   "outputs": [],
   "source": [
    "switch_reproducibility_on(config['seed'])"
   ]
  },
  {
   "cell_type": "markdown",
   "metadata": {},
   "source": [
    "### environment "
   ]
  },
  {
   "cell_type": "code",
   "execution_count": 6,
   "metadata": {},
   "outputs": [],
   "source": [
    "config['env.state_distance_network_params']['path'] = '../outputs/models/state_distance_encoder.p'"
   ]
  },
  {
   "cell_type": "code",
   "execution_count": 7,
   "metadata": {},
   "outputs": [],
   "source": [
    "env = gen_navigation_env(config['env'])"
   ]
  },
  {
   "cell_type": "markdown",
   "metadata": {},
   "source": [
    "### agent "
   ]
  },
  {
   "cell_type": "code",
   "execution_count": 8,
   "metadata": {},
   "outputs": [
    {
     "name": "stderr",
     "output_type": "stream",
     "text": [
      "2021-03-26 14:40:57,145 INFO    dqn                    : Running on device: cuda:0\n"
     ]
    }
   ],
   "source": [
    "from utils import init_logger\n",
    "\n",
    "agent = get_agent(config)"
   ]
  },
  {
   "cell_type": "markdown",
   "metadata": {},
   "source": [
    "### trainings "
   ]
  },
  {
   "cell_type": "code",
   "execution_count": null,
   "metadata": {},
   "outputs": [],
   "source": [
    "scores, steps = run_episodes(\n",
    "    env=env,\n",
    "    worker_agent=agent,\n",
    "    n_episodes=config['training.n_episodes'],\n",
    "    verbose=config['training.verbose'],\n",
    "    max_steps=config['training'].get('max_steps', 100_000),\n",
    ")"
   ]
  },
  {
   "cell_type": "code",
   "execution_count": null,
   "metadata": {
    "scrolled": true
   },
   "outputs": [],
   "source": [
    "# display_stats(scores, steps)"
   ]
  },
  {
   "cell_type": "code",
   "execution_count": null,
   "metadata": {},
   "outputs": [],
   "source": [
    "config['env']['goal_type'] = 'random'\n",
    "env_ = gen_navigation_env(config['env'])\n",
    "_, _ = run_episodes(\n",
    "    env=env_,\n",
    "    worker_agent=agent,\n",
    "    train_mode=False,\n",
    "    n_episodes=100,\n",
    "    verbose=config['training.verbose']\n",
    ")"
   ]
  },
  {
   "cell_type": "markdown",
   "metadata": {},
   "source": [
    "### visualisation "
   ]
  },
  {
   "cell_type": "code",
   "execution_count": null,
   "metadata": {},
   "outputs": [],
   "source": [
    "import environments\n",
    "\n",
    "env_ = gen_navigation_env(config['env'], verbose = True)\n",
    "env_ = environments.visualisation_wrapper(env_, config['env.video_path'])\n",
    "\n",
    "print(run_episode(env_, agent, train_mode=True))"
   ]
  },
  {
   "cell_type": "code",
   "execution_count": null,
   "metadata": {},
   "outputs": [],
   "source": [
    "show_video()"
   ]
  },
  {
   "cell_type": "code",
   "execution_count": null,
   "metadata": {},
   "outputs": [],
   "source": []
  },
  {
   "cell_type": "code",
   "execution_count": null,
   "metadata": {},
   "outputs": [],
   "source": []
  },
  {
   "cell_type": "code",
   "execution_count": null,
   "metadata": {},
   "outputs": [],
   "source": []
  },
  {
   "cell_type": "code",
   "execution_count": null,
   "metadata": {},
   "outputs": [],
   "source": []
  },
  {
   "cell_type": "code",
   "execution_count": null,
   "metadata": {},
   "outputs": [],
   "source": []
  },
  {
   "cell_type": "code",
   "execution_count": null,
   "metadata": {},
   "outputs": [],
   "source": []
  },
  {
   "cell_type": "code",
   "execution_count": 10,
   "metadata": {},
   "outputs": [
    {
     "data": {
      "text/plain": [
       "10000"
      ]
     },
     "execution_count": 10,
     "metadata": {},
     "output_type": "execute_result"
    }
   ],
   "source": [
    "len(env.buffer)"
   ]
  },
  {
   "cell_type": "code",
   "execution_count": null,
   "metadata": {},
   "outputs": [],
   "source": []
  },
  {
   "cell_type": "code",
   "execution_count": 28,
   "metadata": {},
   "outputs": [
    {
     "name": "stdout",
     "output_type": "stream",
     "text": [
      "40\n",
      "[[2. 3. 1. 0. 2. 3.]\n",
      " [3. 0. 2. 0. 0. 1.]\n",
      " [4. 3. 1. 0. 1. 2.]\n",
      " [0. 2. 0. 1. 0. 1.]\n",
      " [1. 1. 0. 0. 2. 0.]\n",
      " [1. 0. 1. 0. 1. 0.]]\n",
      "50\n",
      "[[1. 0. 2. 2. 0. 0.]\n",
      " [5. 1. 1. 0. 1. 3.]\n",
      " [1. 1. 0. 0. 0. 1.]\n",
      " [3. 1. 1. 1. 1. 2.]\n",
      " [1. 0. 1. 0. 1. 1.]\n",
      " [2. 2. 0. 2. 1. 0.]]\n",
      "60\n",
      "[[4. 1. 3. 1. 0. 0.]\n",
      " [1. 1. 0. 1. 1. 1.]\n",
      " [2. 2. 1. 1. 1. 0.]\n",
      " [0. 0. 0. 0. 1. 0.]\n",
      " [1. 2. 0. 2. 1. 2.]\n",
      " [2. 4. 1. 0. 0. 2.]]\n",
      "70\n",
      "[[5. 2. 1. 1. 0. 2.]\n",
      " [2. 0. 0. 2. 1. 0.]\n",
      " [0. 2. 0. 0. 0. 0.]\n",
      " [1. 1. 1. 1. 2. 0.]\n",
      " [1. 1. 1. 0. 2. 2.]\n",
      " [3. 2. 0. 0. 1. 2.]]\n",
      "80\n",
      "[[5. 0. 1. 2. 1. 2.]\n",
      " [2. 1. 2. 0. 0. 1.]\n",
      " [2. 0. 0. 0. 0. 0.]\n",
      " [0. 1. 1. 3. 0. 2.]\n",
      " [1. 0. 1. 0. 1. 0.]\n",
      " [3. 0. 2. 1. 1. 3.]]\n",
      "90\n",
      "[[1. 2. 0. 2. 1. 1.]\n",
      " [2. 2. 1. 1. 2. 2.]\n",
      " [2. 1. 1. 1. 0. 0.]\n",
      " [1. 2. 0. 1. 1. 0.]\n",
      " [1. 1. 0. 0. 0. 1.]\n",
      " [1. 0. 0. 2. 4. 2.]]\n",
      "100\n",
      "[[3. 1. 1. 2. 2. 1.]\n",
      " [4. 2. 0. 0. 2. 1.]\n",
      " [1. 0. 0. 1. 1. 1.]\n",
      " [1. 1. 1. 0. 0. 1.]\n",
      " [0. 1. 0. 0. 0. 0.]\n",
      " [2. 2. 3. 0. 1. 3.]]\n",
      "110\n",
      "[[6. 0. 3. 0. 0. 0.]\n",
      " [3. 1. 1. 0. 0. 0.]\n",
      " [5. 0. 0. 1. 2. 2.]\n",
      " [0. 0. 0. 1. 0. 1.]\n",
      " [0. 0. 1. 1. 1. 0.]\n",
      " [2. 1. 1. 1. 1. 4.]]\n",
      "120\n",
      "[[3. 3. 2. 2. 0. 0.]\n",
      " [2. 0. 1. 1. 0. 0.]\n",
      " [3. 1. 2. 0. 0. 3.]\n",
      " [2. 1. 0. 0. 1. 1.]\n",
      " [1. 1. 0. 0. 0. 1.]\n",
      " [0. 2. 0. 0. 3. 3.]]\n",
      "130\n",
      "[[2. 2. 1. 2. 2. 0.]\n",
      " [1. 1. 2. 3. 0. 0.]\n",
      " [0. 1. 0. 3. 1. 1.]\n",
      " [2. 1. 0. 1. 2. 4.]\n",
      " [0. 0. 0. 0. 0. 1.]\n",
      " [2. 0. 0. 1. 1. 2.]]\n",
      "140\n",
      "[[4. 4. 1. 0. 1. 0.]\n",
      " [0. 0. 2. 2. 1. 0.]\n",
      " [1. 0. 0. 2. 3. 1.]\n",
      " [1. 1. 1. 1. 2. 1.]\n",
      " [0. 0. 0. 1. 2. 2.]\n",
      " [1. 0. 0. 1. 1. 2.]]\n",
      "150\n",
      "[[5. 0. 2. 3. 1. 1.]\n",
      " [0. 1. 0. 1. 0. 4.]\n",
      " [3. 1. 1. 0. 0. 0.]\n",
      " [0. 0. 0. 3. 1. 1.]\n",
      " [0. 1. 1. 1. 0. 5.]\n",
      " [0. 0. 0. 0. 1. 2.]]\n",
      "160\n",
      "[[2. 0. 0. 3. 1. 2.]\n",
      " [1. 0. 2. 1. 1. 0.]\n",
      " [2. 1. 2. 1. 0. 1.]\n",
      " [0. 1. 0. 2. 0. 1.]\n",
      " [0. 0. 1. 2. 2. 0.]\n",
      " [1. 2. 1. 2. 0. 4.]]\n",
      "170\n",
      "[[1. 0. 0. 2. 1. 6.]\n",
      " [1. 0. 0. 1. 1. 2.]\n",
      " [0. 0. 1. 0. 1. 1.]\n",
      " [1. 2. 2. 1. 1. 0.]\n",
      " [0. 0. 0. 1. 1. 2.]\n",
      " [2. 2. 0. 4. 2. 0.]]\n",
      "180\n",
      "[[1. 0. 0. 2. 1. 4.]\n",
      " [2. 0. 0. 2. 0. 2.]\n",
      " [1. 0. 1. 0. 2. 0.]\n",
      " [1. 1. 1. 0. 1. 4.]\n",
      " [0. 1. 1. 1. 2. 0.]\n",
      " [1. 2. 1. 2. 1. 1.]]\n",
      "190\n",
      "[[2. 0. 1. 0. 1. 0.]\n",
      " [0. 0. 1. 0. 0. 2.]\n",
      " [3. 1. 1. 3. 1. 0.]\n",
      " [2. 1. 0. 2. 0. 2.]\n",
      " [1. 1. 0. 2. 2. 1.]\n",
      " [2. 2. 1. 0. 2. 2.]]\n",
      "200\n",
      "[[0. 1. 0. 0. 0. 0.]\n",
      " [2. 1. 0. 1. 1. 2.]\n",
      " [0. 0. 1. 0. 0. 3.]\n",
      " [2. 1. 1. 0. 2. 1.]\n",
      " [3. 1. 0. 3. 0. 1.]\n",
      " [1. 2. 2. 2. 2. 3.]]\n",
      "210\n",
      "[[2. 2. 2. 0. 0. 2.]\n",
      " [0. 0. 0. 0. 0. 2.]\n",
      " [0. 0. 1. 0. 1. 0.]\n",
      " [1. 3. 0. 0. 3. 1.]\n",
      " [4. 0. 0. 0. 0. 1.]\n",
      " [2. 0. 2. 3. 2. 5.]]\n",
      "220\n",
      "[[2. 1. 0. 1. 0. 0.]\n",
      " [0. 1. 0. 0. 0. 2.]\n",
      " [1. 4. 1. 0. 0. 2.]\n",
      " [0. 1. 0. 1. 1. 0.]\n",
      " [1. 0. 1. 0. 3. 1.]\n",
      " [4. 2. 2. 1. 1. 5.]]\n",
      "230\n",
      "[[2. 1. 2. 0. 0. 1.]\n",
      " [2. 0. 1. 0. 0. 3.]\n",
      " [1. 1. 0. 0. 0. 1.]\n",
      " [2. 0. 1. 1. 1. 0.]\n",
      " [0. 2. 0. 0. 1. 1.]\n",
      " [2. 2. 3. 3. 2. 3.]]\n",
      "240\n",
      "[[3. 4. 0. 0. 0. 3.]\n",
      " [0. 0. 1. 0. 2. 0.]\n",
      " [2. 1. 0. 0. 0. 0.]\n",
      " [1. 0. 0. 1. 2. 0.]\n",
      " [2. 1. 1. 0. 0. 3.]\n",
      " [3. 2. 2. 2. 0. 3.]]\n"
     ]
    }
   ],
   "source": [
    "import numpy as np\n",
    "from collections import Counter\n",
    "\n",
    "for complexity in range(10):\n",
    "    print(complexity)\n",
    "    arr = np.zeros((6, 6))\n",
    "\n",
    "    for k, v in Counter([(s['position'][0], s['position'][1]) for x, s in env.buffer if x==complexity]).items():\n",
    "        arr[k[0] - 1, k[1] - 1] = v\n",
    "\n",
    "    print(arr)"
   ]
  },
  {
   "cell_type": "code",
   "execution_count": 10,
   "metadata": {},
   "outputs": [
    {
     "name": "stdout",
     "output_type": "stream",
     "text": [
      "1 5\n",
      "[[0.513 0.076 0.038 0.009 0.002 0.002]\n",
      " [0.142 0.027 0.02  0.003 0.001 0.   ]\n",
      " [0.081 0.03  0.013 0.005 0.    0.   ]\n",
      " [0.023 0.002 0.004 0.003 0.    0.   ]\n",
      " [0.    0.    0.006 0.    0.    0.   ]\n",
      " [0.    0.    0.    0.    0.    0.   ]]\n",
      "6 5\n",
      "[[0.416 0.114 0.04  0.017 0.001 0.006]\n",
      " [0.135 0.034 0.027 0.005 0.002 0.   ]\n",
      " [0.075 0.049 0.031 0.008 0.    0.   ]\n",
      " [0.013 0.001 0.008 0.003 0.    0.   ]\n",
      " [0.002 0.002 0.007 0.002 0.002 0.   ]\n",
      " [0.    0.    0.    0.    0.    0.   ]]\n",
      "11 5\n",
      "[[0.319 0.158 0.036 0.028 0.008 0.008]\n",
      " [0.123 0.036 0.044 0.01  0.011 0.002]\n",
      " [0.061 0.034 0.041 0.016 0.    0.   ]\n",
      " [0.005 0.003 0.004 0.01  0.001 0.   ]\n",
      " [0.004 0.01  0.018 0.008 0.001 0.   ]\n",
      " [0.    0.    0.    0.    0.    0.001]]\n",
      "16 5\n",
      "[[0.284 0.162 0.024 0.024 0.026 0.008]\n",
      " [0.111 0.028 0.033 0.027 0.018 0.012]\n",
      " [0.039 0.027 0.055 0.022 0.    0.   ]\n",
      " [0.008 0.001 0.007 0.015 0.003 0.001]\n",
      " [0.007 0.015 0.013 0.015 0.015 0.   ]\n",
      " [0.    0.    0.    0.    0.    0.   ]]\n",
      "21 5\n",
      "[[0.253 0.139 0.038 0.02  0.046 0.021]\n",
      " [0.068 0.022 0.034 0.03  0.029 0.019]\n",
      " [0.039 0.021 0.043 0.025 0.007 0.   ]\n",
      " [0.021 0.    0.021 0.007 0.006 0.   ]\n",
      " [0.004 0.015 0.022 0.02  0.02  0.001]\n",
      " [0.    0.    0.007 0.    0.001 0.001]]\n",
      "26 5\n",
      "[[0.212 0.096 0.038 0.012 0.062 0.021]\n",
      " [0.063 0.027 0.031 0.019 0.044 0.039]\n",
      " [0.035 0.022 0.036 0.016 0.012 0.002]\n",
      " [0.043 0.004 0.025 0.003 0.01  0.005]\n",
      " [0.015 0.008 0.032 0.024 0.016 0.005]\n",
      " [0.    0.    0.007 0.    0.01  0.006]]\n",
      "31 5\n",
      "[[0.153 0.095 0.027 0.011 0.067 0.061]\n",
      " [0.057 0.019 0.019 0.014 0.04  0.055]\n",
      " [0.051 0.033 0.016 0.01  0.01  0.013]\n",
      " [0.06  0.016 0.019 0.002 0.012 0.006]\n",
      " [0.018 0.009 0.025 0.016 0.026 0.005]\n",
      " [0.002 0.    0.005 0.001 0.017 0.01 ]]\n",
      "36 5\n",
      "[[0.103 0.071 0.033 0.013 0.054 0.073]\n",
      " [0.078 0.023 0.01  0.002 0.025 0.065]\n",
      " [0.06  0.049 0.027 0.007 0.013 0.034]\n",
      " [0.049 0.025 0.021 0.    0.006 0.013]\n",
      " [0.019 0.014 0.028 0.007 0.026 0.002]\n",
      " [0.02  0.004 0.005 0.005 0.016 0.   ]]\n",
      "41 5\n",
      "[[0.053 0.048 0.037 0.025 0.027 0.068]\n",
      " [0.085 0.027 0.03  0.003 0.009 0.065]\n",
      " [0.066 0.039 0.015 0.003 0.013 0.048]\n",
      " [0.059 0.051 0.008 0.002 0.006 0.026]\n",
      " [0.027 0.024 0.012 0.008 0.027 0.009]\n",
      " [0.018 0.012 0.017 0.012 0.021 0.   ]]\n",
      "46 5\n",
      "[[0.042 0.041 0.024 0.036 0.011 0.043]\n",
      " [0.098 0.025 0.043 0.003 0.018 0.056]\n",
      " [0.033 0.037 0.008 0.001 0.006 0.036]\n",
      " [0.066 0.05  0.005 0.019 0.007 0.055]\n",
      " [0.032 0.02  0.01  0.007 0.019 0.017]\n",
      " [0.03  0.029 0.022 0.031 0.019 0.001]]\n",
      "51 5\n",
      "[[0.041 0.02  0.035 0.054 0.002 0.009]\n",
      " [0.094 0.027 0.034 0.011 0.019 0.063]\n",
      " [0.034 0.035 0.011 0.004 0.006 0.038]\n",
      " [0.06  0.011 0.01  0.012 0.009 0.032]\n",
      " [0.039 0.028 0.022 0.016 0.017 0.04 ]\n",
      " [0.035 0.051 0.005 0.047 0.018 0.011]]\n",
      "56 5\n",
      "[[0.076 0.02  0.029 0.052 0.01  0.004]\n",
      " [0.063 0.033 0.041 0.018 0.011 0.034]\n",
      " [0.052 0.04  0.008 0.012 0.014 0.021]\n",
      " [0.035 0.004 0.009 0.018 0.007 0.016]\n",
      " [0.037 0.02  0.015 0.022 0.026 0.048]\n",
      " [0.044 0.064 0.009 0.042 0.006 0.04 ]]\n",
      "61 5\n",
      "[[0.085 0.053 0.027 0.038 0.026 0.007]\n",
      " [0.035 0.036 0.019 0.016 0.009 0.022]\n",
      " [0.051 0.028 0.016 0.008 0.014 0.009]\n",
      " [0.014 0.019 0.008 0.025 0.006 0.013]\n",
      " [0.023 0.019 0.011 0.025 0.035 0.073]\n",
      " [0.067 0.082 0.004 0.03  0.002 0.045]]\n",
      "66 5\n",
      "[[0.11  0.072 0.024 0.02  0.024 0.029]\n",
      " [0.037 0.035 0.012 0.02  0.015 0.007]\n",
      " [0.031 0.022 0.004 0.001 0.023 0.005]\n",
      " [0.036 0.021 0.019 0.029 0.018 0.003]\n",
      " [0.025 0.03  0.02  0.022 0.036 0.059]\n",
      " [0.072 0.048 0.012 0.008 0.011 0.04 ]]\n",
      "71 5\n",
      "[[0.135 0.077 0.015 0.045 0.028 0.036]\n",
      " [0.049 0.038 0.008 0.014 0.017 0.011]\n",
      " [0.017 0.009 0.002 0.006 0.004 0.002]\n",
      " [0.03  0.017 0.023 0.049 0.013 0.005]\n",
      " [0.024 0.016 0.022 0.011 0.041 0.041]\n",
      " [0.074 0.033 0.016 0.004 0.015 0.053]]\n",
      "76 5\n",
      "[[0.11  0.072 0.017 0.049 0.024 0.028]\n",
      " [0.056 0.043 0.014 0.01  0.006 0.016]\n",
      " [0.008 0.008 0.007 0.002 0.002 0.002]\n",
      " [0.021 0.017 0.041 0.058 0.023 0.005]\n",
      " [0.013 0.02  0.021 0.009 0.034 0.015]\n",
      " [0.063 0.026 0.031 0.011 0.017 0.101]]\n",
      "81 5\n",
      "[[0.1   0.039 0.041 0.046 0.023 0.047]\n",
      " [0.064 0.027 0.011 0.003 0.008 0.019]\n",
      " [0.031 0.014 0.025 0.003 0.    0.019]\n",
      " [0.01  0.022 0.024 0.045 0.021 0.005]\n",
      " [0.024 0.005 0.016 0.013 0.023 0.015]\n",
      " [0.056 0.03  0.041 0.007 0.032 0.091]]\n",
      "86 5\n",
      "[[0.099 0.023 0.04  0.044 0.033 0.042]\n",
      " [0.057 0.039 0.018 0.002 0.016 0.031]\n",
      " [0.03  0.033 0.035 0.008 0.    0.019]\n",
      " [0.024 0.025 0.016 0.024 0.027 0.008]\n",
      " [0.013 0.015 0.007 0.022 0.01  0.007]\n",
      " [0.038 0.028 0.033 0.029 0.027 0.078]]\n",
      "91 5\n",
      "[[0.077 0.028 0.021 0.042 0.033 0.023]\n",
      " [0.086 0.036 0.007 0.004 0.032 0.038]\n",
      " [0.028 0.019 0.035 0.019 0.005 0.022]\n",
      " [0.034 0.033 0.019 0.013 0.039 0.013]\n",
      " [0.008 0.016 0.005 0.016 0.012 0.006]\n",
      " [0.022 0.031 0.036 0.052 0.017 0.073]]\n",
      "96 5\n",
      "[[0.08  0.024 0.031 0.029 0.049 0.01 ]\n",
      " [0.103 0.034 0.008 0.009 0.044 0.041]\n",
      " [0.048 0.009 0.012 0.017 0.012 0.017]\n",
      " [0.047 0.043 0.015 0.021 0.025 0.016]\n",
      " [0.01  0.004 0.002 0.004 0.002 0.007]\n",
      " [0.033 0.021 0.058 0.039 0.03  0.046]]\n"
     ]
    }
   ],
   "source": [
    "import numpy as np\n",
    "from collections import Counter\n",
    "\n",
    "for c, s in [(1 + x*5, 5) for x in range(20)]:\n",
    "    env.complexity, env.scale = c, s\n",
    "\n",
    "    m = 1000\n",
    "\n",
    "    print(c, s)\n",
    "    choices = [env.buffer_random_choice() for x in range(m)]\n",
    "    arr = np.zeros((6, 6))\n",
    "\n",
    "    for k, v in Counter([(s['position'][0], s['position'][1]) for s in choices]).items():\n",
    "        arr[k[0] - 1, k[1] - 1] = v / m\n",
    "\n",
    "    print(arr)"
   ]
  },
  {
   "cell_type": "code",
   "execution_count": null,
   "metadata": {},
   "outputs": [],
   "source": []
  },
  {
   "cell_type": "code",
   "execution_count": null,
   "metadata": {},
   "outputs": [],
   "source": []
  },
  {
   "cell_type": "code",
   "execution_count": null,
   "metadata": {},
   "outputs": [],
   "source": []
  },
  {
   "cell_type": "code",
   "execution_count": null,
   "metadata": {},
   "outputs": [],
   "source": []
  },
  {
   "cell_type": "code",
   "execution_count": null,
   "metadata": {},
   "outputs": [],
   "source": []
  },
  {
   "cell_type": "code",
   "execution_count": null,
   "metadata": {},
   "outputs": [],
   "source": []
  },
  {
   "cell_type": "code",
   "execution_count": null,
   "metadata": {},
   "outputs": [],
   "source": []
  },
  {
   "cell_type": "code",
   "execution_count": null,
   "metadata": {},
   "outputs": [],
   "source": []
  },
  {
   "cell_type": "code",
   "execution_count": null,
   "metadata": {},
   "outputs": [],
   "source": []
  },
  {
   "cell_type": "code",
   "execution_count": 17,
   "metadata": {},
   "outputs": [
    {
     "data": {
      "text/plain": [
       "[1, 1]"
      ]
     },
     "execution_count": 17,
     "metadata": {},
     "output_type": "execute_result"
    }
   ],
   "source": [
    "np.array([1, 1]).tolist()"
   ]
  },
  {
   "cell_type": "code",
   "execution_count": 12,
   "metadata": {},
   "outputs": [
    {
     "data": {
      "text/plain": [
       "(10, array([4, 1]), 0)"
      ]
     },
     "execution_count": 12,
     "metadata": {},
     "output_type": "execute_result"
    }
   ],
   "source": [
    "import numpy as np\n",
    "from scipy.stats import norm\n",
    "\n",
    "steps_array = np.array([x for x, _ in env.buffer])\n",
    "p = norm.pdf(steps_array, loc=env.complexity, scale=env.scale)\n",
    "p /= p.sum()\n",
    "choice = np.random.choice(np.arange(len(steps_array)), p=p)\n",
    "i, s = env.buffer[choice]\n",
    "\n",
    "i, s['position'], s['direction']"
   ]
  },
  {
   "cell_type": "code",
   "execution_count": 16,
   "metadata": {},
   "outputs": [
    {
     "data": {
      "text/plain": [
       "array([12, 13, 14, ..., 38, 39, 40])"
      ]
     },
     "execution_count": 16,
     "metadata": {},
     "output_type": "execute_result"
    }
   ],
   "source": [
    "np.array([x for x, _ in env.buffer])"
   ]
  },
  {
   "cell_type": "code",
   "execution_count": null,
   "metadata": {},
   "outputs": [],
   "source": []
  },
  {
   "cell_type": "code",
   "execution_count": 11,
   "metadata": {},
   "outputs": [
    {
     "data": {
      "text/plain": [
       "[(233, array([6, 1]), 0),\n",
       " (234, array([6, 1]), 0),\n",
       " (235, array([6, 1]), 0),\n",
       " (236, array([6, 1]), 3),\n",
       " (237, array([6, 1]), 0),\n",
       " (238, array([6, 1]), 0),\n",
       " (239, array([6, 1]), 3),\n",
       " (240, array([6, 1]), 0),\n",
       " (241, array([6, 1]), 0),\n",
       " (242, array([6, 1]), 0),\n",
       " (243, array([6, 1]), 3),\n",
       " (244, array([6, 1]), 3),\n",
       " (245, array([6, 1]), 2),\n",
       " (246, array([6, 1]), 3),\n",
       " (247, array([6, 1]), 2),\n",
       " (248, array([6, 1]), 3),\n",
       " (249, array([6, 1]), 3),\n",
       " (250, array([6, 1]), 0),\n",
       " (251, array([6, 1]), 1),\n",
       " (252, array([6, 2]), 1),\n",
       " (253, array([6, 2]), 2),\n",
       " (254, array([5, 2]), 2),\n",
       " (255, array([5, 2]), 3),\n",
       " (256, array([5, 2]), 2),\n",
       " (1, (1, 1), 1),\n",
       " (2, (1, 1), 2),\n",
       " (3, (1, 1), 2),\n",
       " (4, (1, 1), 1),\n",
       " (5, (1, 1), 0),\n",
       " (6, array([2, 1]), 0),\n",
       " (7, array([2, 1]), 1),\n",
       " (8, array([2, 2]), 1),\n",
       " (9, array([2, 2]), 1),\n",
       " (10, array([2, 3]), 1),\n",
       " (11, array([2, 3]), 2),\n",
       " (12, array([2, 3]), 1),\n",
       " (13, array([2, 3]), 1),\n",
       " (14, array([2, 4]), 1),\n",
       " (15, array([2, 5]), 1),\n",
       " (16, array([2, 5]), 1)]"
      ]
     },
     "execution_count": 11,
     "metadata": {},
     "output_type": "execute_result"
    }
   ],
   "source": [
    "[(x, s['position'], s['direction']) for x, s in env.buffer][-40:]"
   ]
  },
  {
   "cell_type": "code",
   "execution_count": 10,
   "metadata": {},
   "outputs": [
    {
     "data": {
      "text/plain": [
       "1"
      ]
     },
     "execution_count": 10,
     "metadata": {},
     "output_type": "execute_result"
    }
   ],
   "source": []
  },
  {
   "cell_type": "code",
   "execution_count": 12,
   "metadata": {},
   "outputs": [
    {
     "data": {
      "text/plain": [
       "9"
      ]
     },
     "execution_count": 12,
     "metadata": {},
     "output_type": "execute_result"
    }
   ],
   "source": [
    "env.complexity"
   ]
  },
  {
   "cell_type": "code",
   "execution_count": 21,
   "metadata": {},
   "outputs": [
    {
     "data": {
      "text/plain": [
       "2276"
      ]
     },
     "execution_count": 21,
     "metadata": {},
     "output_type": "execute_result"
    }
   ],
   "source": [
    "len(env.buffer)"
   ]
  },
  {
   "cell_type": "code",
   "execution_count": 15,
   "metadata": {},
   "outputs": [
    {
     "data": {
      "text/plain": [
       "[(array([2, 1]), 3),\n",
       " (array([2, 1]), 0),\n",
       " (array([2, 1]), 3),\n",
       " (array([5, 1]), 1),\n",
       " (array([3, 3]), 2),\n",
       " ((1, 1), 0),\n",
       " ((1, 1), 1),\n",
       " (array([2, 3]), 1),\n",
       " (array([2, 1]), 1),\n",
       " (array([2, 4]), 1),\n",
       " (array([2, 2]), 1),\n",
       " ((1, 1), 0),\n",
       " (array([6, 1]), 0),\n",
       " ((1, 1), 3),\n",
       " (array([1, 1]), 3),\n",
       " (array([2, 1]), 3),\n",
       " (array([2, 1]), 3),\n",
       " (array([2, 2]), 3),\n",
       " ((1, 1), 2),\n",
       " (array([1, 3]), 1)]"
      ]
     },
     "execution_count": 15,
     "metadata": {},
     "output_type": "execute_result"
    }
   ],
   "source": [
    "env.complexity = 9\n",
    "\n",
    "[(state['position'], state['direction']) for state in [env.buffer_random_choice() for _ in range(20)]]"
   ]
  },
  {
   "cell_type": "code",
   "execution_count": null,
   "metadata": {},
   "outputs": [],
   "source": []
  },
  {
   "cell_type": "code",
   "execution_count": null,
   "metadata": {},
   "outputs": [],
   "source": []
  },
  {
   "cell_type": "code",
   "execution_count": null,
   "metadata": {},
   "outputs": [],
   "source": []
  },
  {
   "cell_type": "code",
   "execution_count": null,
   "metadata": {},
   "outputs": [],
   "source": []
  },
  {
   "cell_type": "code",
   "execution_count": null,
   "metadata": {},
   "outputs": [],
   "source": []
  },
  {
   "cell_type": "code",
   "execution_count": null,
   "metadata": {},
   "outputs": [],
   "source": [
    "a = env.reset()['position']"
   ]
  },
  {
   "cell_type": "code",
   "execution_count": null,
   "metadata": {},
   "outputs": [],
   "source": [
    "import numpy as np\n",
    "from gym_minigrid_navigation.environments import gen_wrapped_env\n",
    "\n",
    "def random_grid_goal_generator(conf, verbose=False):\n",
    "    env = gen_wrapped_env(conf)\n",
    "    grid_size = env.unwrapped.grid.encode().shape[0]\n",
    "    init_pos = np.array([1, 1])\n",
    "\n",
    "    while True:\n",
    "        goal_pos = None\n",
    "        while goal_pos is None or (init_pos == goal_pos).all():\n",
    "            goal_pos = np.random.randint(1, grid_size - 2, 2)\n",
    "        if verbose:\n",
    "            logger.info(f\"Random goal: {goal_pos}\")\n",
    "\n",
    "        env.unwrapped.agent_pos = goal_pos\n",
    "        goal_state = env.observation(env.unwrapped.gen_obs())\n",
    "        yield goal_state\n",
    "        \n",
    "next(random_grid_goal_generator(config['env']))"
   ]
  },
  {
   "cell_type": "code",
   "execution_count": null,
   "metadata": {},
   "outputs": [],
   "source": [
    "config['env']['goal_achieving_criterion'] = 'position'"
   ]
  },
  {
   "cell_type": "code",
   "execution_count": null,
   "metadata": {},
   "outputs": [],
   "source": [
    "env = gen_wrapped_env(config['env'])"
   ]
  },
  {
   "cell_type": "code",
   "execution_count": null,
   "metadata": {},
   "outputs": [],
   "source": [
    "type(env.reset()['position'])"
   ]
  },
  {
   "cell_type": "code",
   "execution_count": null,
   "metadata": {},
   "outputs": [],
   "source": [
    "import gym\n",
    "\n",
    "conf = config['env']\n",
    "\n",
    "if conf['env_task'] in ['MiniGrid-Empty', 'MiniGrid-Dynamic-Obstacles']:\n",
    "    env_name = f\"{conf['env_task']}-{conf['grid_size']}x{conf['grid_size']}-v0\"\n",
    "else:\n",
    "    raise AttributeError(f\"unknown env_task '{conf['env_task']}'\")\n",
    "\n",
    "env = gym.make(env_name)\n",
    "    \n",
    "env.reset()\n",
    "print(env.unwrapped.agent_pos, env.unwrapped.agent_dir)\n",
    "state1, _, _, _ = env.step(2)\n",
    "print(env.unwrapped.agent_pos, env.unwrapped.agent_dir)\n",
    "state2, _, _, _ = env.step(0)\n",
    "print(env.unwrapped.agent_pos, env.unwrapped.agent_dir)\n",
    "state3, _, _, _ = env.step(1)\n",
    "print(env.unwrapped.agent_pos, env.unwrapped.agent_dir)"
   ]
  },
  {
   "cell_type": "code",
   "execution_count": null,
   "metadata": {},
   "outputs": [],
   "source": [
    "state1"
   ]
  },
  {
   "cell_type": "code",
   "execution_count": null,
   "metadata": {},
   "outputs": [],
   "source": [
    "env"
   ]
  },
  {
   "cell_type": "code",
   "execution_count": null,
   "metadata": {},
   "outputs": [],
   "source": []
  },
  {
   "cell_type": "code",
   "execution_count": null,
   "metadata": {},
   "outputs": [],
   "source": [
    "init_logger('environments')"
   ]
  },
  {
   "cell_type": "code",
   "execution_count": null,
   "metadata": {},
   "outputs": [],
   "source": []
  },
  {
   "cell_type": "code",
   "execution_count": null,
   "metadata": {},
   "outputs": [],
   "source": []
  },
  {
   "cell_type": "code",
   "execution_count": null,
   "metadata": {},
   "outputs": [],
   "source": [
    "((1, 1) == np.array((1, 1))).all()"
   ]
  },
  {
   "cell_type": "code",
   "execution_count": null,
   "metadata": {},
   "outputs": [],
   "source": []
  },
  {
   "cell_type": "code",
   "execution_count": null,
   "metadata": {},
   "outputs": [],
   "source": []
  },
  {
   "cell_type": "code",
   "execution_count": null,
   "metadata": {},
   "outputs": [],
   "source": []
  },
  {
   "cell_type": "code",
   "execution_count": null,
   "metadata": {},
   "outputs": [],
   "source": [
    "env.threshold"
   ]
  },
  {
   "cell_type": "code",
   "execution_count": null,
   "metadata": {},
   "outputs": [],
   "source": [
    "env = gen_env(config['env'], goal_achieving_criterion, reward_functions)"
   ]
  },
  {
   "cell_type": "code",
   "execution_count": null,
   "metadata": {},
   "outputs": [],
   "source": []
  },
  {
   "cell_type": "code",
   "execution_count": null,
   "metadata": {},
   "outputs": [],
   "source": [
    "config = ConfigFactory.parse_file('../conf/minigrid_dqn_navigation_mlp.hocon')"
   ]
  },
  {
   "cell_type": "code",
   "execution_count": null,
   "metadata": {},
   "outputs": [],
   "source": [
    "from gym_minigrid_navigation import environments as minigrid_envs"
   ]
  },
  {
   "cell_type": "code",
   "execution_count": null,
   "metadata": {},
   "outputs": [],
   "source": [
    "from gym_minigrid_navigation.environments import gen_wrapped_env"
   ]
  },
  {
   "cell_type": "code",
   "execution_count": null,
   "metadata": {},
   "outputs": [],
   "source": [
    "import numpy as np\n",
    "\n",
    "def random_grid_goal_generator(conf, verbose=False):\n",
    "    env = gen_wrapped_env(conf)\n",
    "    grid_size = env.unwrapped.grid.encode().shape[0]\n",
    "    init_pos = np.array([1, 1])\n",
    "    \n",
    "    while True:\n",
    "        goal_pos = None\n",
    "        while goal_pos is None or (init_pos == goal_pos).all():\n",
    "            goal_pos = np.random.randint(1, grid_size - 2, 2)\n",
    "        if verbose and (goal_pos == np.array([1, 1])).all():\n",
    "            print(f\"Goal: {goal_pos}\")\n",
    "\n",
    "        env.unwrapped.agent_pos = goal_pos\n",
    "        goal_state = env.observation(env.unwrapped.gen_obs())\n",
    "        yield goal_state"
   ]
  },
  {
   "cell_type": "code",
   "execution_count": null,
   "metadata": {},
   "outputs": [],
   "source": [
    "a = random_grid_goal_generator(config['env'], True)"
   ]
  },
  {
   "cell_type": "code",
   "execution_count": null,
   "metadata": {},
   "outputs": [],
   "source": [
    "for x in range(1000):\n",
    "    next(a)"
   ]
  },
  {
   "cell_type": "code",
   "execution_count": null,
   "metadata": {},
   "outputs": [],
   "source": [
    "np.random.randint(1, 5, 2)"
   ]
  },
  {
   "cell_type": "code",
   "execution_count": null,
   "metadata": {},
   "outputs": [],
   "source": [
    "env = gen_wrapped_env(config['env'])"
   ]
  },
  {
   "cell_type": "code",
   "execution_count": null,
   "metadata": {},
   "outputs": [],
   "source": [
    "s = next(a)\n",
    "s.keys()"
   ]
  },
  {
   "cell_type": "code",
   "execution_count": null,
   "metadata": {},
   "outputs": [],
   "source": [
    "s['position']"
   ]
  },
  {
   "cell_type": "code",
   "execution_count": null,
   "metadata": {},
   "outputs": [],
   "source": []
  },
  {
   "cell_type": "code",
   "execution_count": null,
   "metadata": {},
   "outputs": [],
   "source": []
  }
 ],
 "metadata": {
  "kernelspec": {
   "display_name": "Python 3",
   "language": "python",
   "name": "python3"
  },
  "language_info": {
   "codemirror_mode": {
    "name": "ipython",
    "version": 3
   },
   "file_extension": ".py",
   "mimetype": "text/x-python",
   "name": "python",
   "nbconvert_exporter": "python",
   "pygments_lexer": "ipython3",
   "version": "3.8.10"
  }
 },
 "nbformat": 4,
 "nbformat_minor": 4
}
