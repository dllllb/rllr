{
 "cells": [
  {
   "cell_type": "code",
   "execution_count": 2,
   "metadata": {},
   "outputs": [],
   "source": [
    "import matplotlib.pyplot as plt\n",
    "from pprint import pprint\n",
    "\n",
    "%matplotlib inline\n",
    "plt.rcParams['figure.figsize'] = (10.0, 8.0) # set default size of plots\n",
    "plt.rcParams['image.interpolation'] = 'nearest'\n",
    "plt.rcParams['image.cmap'] = 'gray'\n",
    "\n",
    "plt.style.use('ggplot')\n",
    "\n",
    "%load_ext autoreload\n",
    "%autoreload 2"
   ]
  },
  {
   "cell_type": "code",
   "execution_count": 3,
   "metadata": {},
   "outputs": [],
   "source": [
    "import numpy as np\n",
    "import sys\n",
    "\n",
    "sys.path.append('..')\n",
    "\n",
    "from dqn import DQNAgentGoal\n",
    "from gym_minigrid_navigation.utils import show_video\n",
    "from gym_minigrid_navigation.navigation_models import Flatter, MLP\n",
    "from gym_minigrid_navigation.wrappers import gen_wrapped_env"
   ]
  },
  {
   "cell_type": "code",
   "execution_count": null,
   "metadata": {},
   "outputs": [],
   "source": []
  },
  {
   "cell_type": "code",
   "execution_count": 4,
   "metadata": {},
   "outputs": [],
   "source": [
    "def run_episode(env, agent, train_mode=True, show_steps=False):\n",
    "    \"\"\"\n",
    "    A hepler function for running single episode\n",
    "    \"\"\"\n",
    "    \n",
    "    state = env.reset() \n",
    "    if not train_mode:\n",
    "        agent.expore = False\n",
    "        print(\"From \", env.to_coords(state), \"to\", env.to_coords(env.goal_state))\n",
    "    score = 0 \n",
    "    done = False\n",
    "    \n",
    "    steps = 0\n",
    "    while not done:\n",
    "        steps += 1\n",
    "        action = agent.act(state, env.goal_state)                           \n",
    "        next_state, reward, done, _ = env.step(action)\n",
    "        if train_mode:\n",
    "            agent.update(state, env.goal_state, action, reward, next_state, done)\n",
    "        score += reward                                     \n",
    "        state = next_state \n",
    "            \n",
    "        if (not train_mode) and show_steps:\n",
    "            img = env.render('rgb_array')\n",
    "            plt.imshow(img);\n",
    "            plt.show()\n",
    "            \n",
    "    agent.reset_episode()\n",
    "    env.close()\n",
    "    \n",
    "    if not train_mode:\n",
    "        show_video()\n",
    "    \n",
    "    return score, steps\n",
    "\n",
    "def run_episodes_and_display(env, agent, n_episodes=1000):\n",
    "    \"\"\"\n",
    "    Runs a series of episode and display agent's performance\n",
    "    \"\"\"\n",
    "    \n",
    "    display_step = 100\n",
    "    score = 0\n",
    "    score_sum = 0\n",
    "    scores = []\n",
    "    steps = []\n",
    "    for episode in range(1, n_episodes+1):\n",
    "        score, step = run_episode(env, agent, train_mode=True)\n",
    "        score_sum += score\n",
    "        scores.append(score)\n",
    "        steps.append(step)\n",
    "        if episode%display_step==0:\n",
    "            avg_score = score_sum/display_step\n",
    "            print(\"Episode: {}. Average score: {}\".format(episode, avg_score))\n",
    "            score_sum = 0\n",
    "            \n",
    "    fig = plt.figure()\n",
    "    plt.plot(np.arange(len(scores)), scores)\n",
    "    plt.ylabel('Max Score')\n",
    "    plt.xlabel('Episode #')\n",
    "    plt.show()\n",
    "    \n",
    "    fig = plt.figure()\n",
    "    plt.plot(np.arange(len(steps)), steps)\n",
    "    plt.ylabel('Steps')\n",
    "    plt.xlabel('Episode #')\n",
    "    plt.show()"
   ]
  },
  {
   "cell_type": "markdown",
   "metadata": {},
   "source": [
    "### reward functoin"
   ]
  },
  {
   "cell_type": "code",
   "execution_count": 5,
   "metadata": {},
   "outputs": [],
   "source": [
    "def reward_function(cur_pos, next_pos, goal_pos):\n",
    "    dist1 = np.linalg.norm(cur_pos - goal_pos)\n",
    "    dist2 = np.linalg.norm(next_pos - goal_pos)\n",
    "\n",
    "    reward = (dist1 - dist2)\n",
    "    reward = 1 - np.sqrt(2) if reward == 0 else reward\n",
    "    return reward"
   ]
  },
  {
   "cell_type": "markdown",
   "metadata": {},
   "source": [
    "### environment "
   ]
  },
  {
   "cell_type": "code",
   "execution_count": 6,
   "metadata": {},
   "outputs": [],
   "source": [
    "env_name = 'MiniGrid-Empty-8x8-v0'\n",
    "env = gen_wrapped_env(env_name, reward_function)"
   ]
  },
  {
   "cell_type": "markdown",
   "metadata": {},
   "source": [
    "### DQN Agent"
   ]
  },
  {
   "cell_type": "code",
   "execution_count": 7,
   "metadata": {},
   "outputs": [
    {
     "name": "stdout",
     "output_type": "stream",
     "text": [
      "Running on device: cuda:0\n"
     ]
    }
   ],
   "source": [
    "action_size = 3\n",
    "seed = 42\n",
    "\n",
    "state_size = 3 * (env.grid_size - 2)  ** 2  \n",
    "qnetwork_local = Flatter(MLP(state_size, action_size, seed))\n",
    "qnetwork_target = Flatter(MLP(state_size, action_size, seed))\n",
    "\n",
    "agent = DQNAgentGoal(\n",
    "    qnetwork_local = qnetwork_local, \n",
    "    qnetwork_target = qnetwork_target, \n",
    "    action_size = action_size\n",
    ")"
   ]
  },
  {
   "cell_type": "markdown",
   "metadata": {},
   "source": [
    "### training "
   ]
  },
  {
   "cell_type": "code",
   "execution_count": 8,
   "metadata": {
    "scrolled": true
   },
   "outputs": [
    {
     "name": "stdout",
     "output_type": "stream",
     "text": [
      "Episode: 100. Average score: -22.07280468288398\n",
      "Episode: 200. Average score: -3.6355068138280235\n",
      "Episode: 300. Average score: 0.2707124817635526\n",
      "Episode: 400. Average score: 0.8985067556288149\n",
      "Episode: 500. Average score: 0.44983100490297423\n",
      "Episode: 600. Average score: 0.05240101168664148\n",
      "Episode: 700. Average score: 1.0526720188823067\n",
      "Episode: 800. Average score: 0.3928824295523\n",
      "Episode: 900. Average score: 0.688716256570693\n",
      "Episode: 1000. Average score: 1.2347655514829317\n",
      "Episode: 1100. Average score: 1.5979208207280362\n",
      "Episode: 1200. Average score: 1.582093834308386\n",
      "Episode: 1300. Average score: 1.5971251973478224\n",
      "Episode: 1400. Average score: 1.3426835676703968\n",
      "Episode: 1500. Average score: 1.5173613734424618\n",
      "Episode: 1600. Average score: 1.557864629916881\n",
      "Episode: 1700. Average score: 1.7106852670661947\n",
      "Episode: 1800. Average score: 1.6083472318717447\n",
      "Episode: 1900. Average score: 1.6180135927492487\n",
      "Episode: 2000. Average score: 1.7710480067605547\n",
      "Episode: 2100. Average score: 1.69617625929663\n",
      "Episode: 2200. Average score: 1.2726358616184037\n",
      "Episode: 2300. Average score: 1.7334107815645194\n",
      "Episode: 2400. Average score: 1.651732243721876\n",
      "Episode: 2500. Average score: 1.7038077966843543\n",
      "Episode: 2600. Average score: 1.7507516827878729\n",
      "Episode: 2700. Average score: 1.7086457156225732\n",
      "Episode: 2800. Average score: 1.8206448138534024\n",
      "Episode: 2900. Average score: 1.8844484693736943\n",
      "Episode: 3000. Average score: 1.7111852100711338\n",
      "Episode: 3100. Average score: 1.8993285952586632\n",
      "Episode: 3200. Average score: 1.5835602129601336\n",
      "Episode: 3300. Average score: 1.6403260165703568\n",
      "Episode: 3400. Average score: 1.735024133807311\n",
      "Episode: 3500. Average score: 1.6474364805062576\n",
      "Episode: 3600. Average score: 1.687838198455679\n",
      "Episode: 3700. Average score: 1.7921644807606938\n",
      "Episode: 3800. Average score: 1.6425663649711273\n",
      "Episode: 3900. Average score: 1.7591089273633114\n",
      "Episode: 4000. Average score: 1.9163506239559043\n",
      "Episode: 4100. Average score: 1.7861966381285057\n",
      "Episode: 4200. Average score: 1.6142302858460096\n",
      "Episode: 4300. Average score: 1.740015839375976\n",
      "Episode: 4400. Average score: 1.804821449423705\n",
      "Episode: 4500. Average score: 1.6823634218184287\n",
      "Episode: 4600. Average score: 1.643082747438222\n",
      "Episode: 4700. Average score: 1.9009601059786658\n",
      "Episode: 4800. Average score: 1.6814813033843783\n",
      "Episode: 4900. Average score: 1.8524952367624856\n",
      "Episode: 5000. Average score: 1.7015256979327336\n"
     ]
    },
    {
     "data": {
      "image/png": "[encoded data removed]",
      "text/plain": [
       "<Figure size 720x576 with 1 Axes>"
      ]
     },
     "metadata": {},
     "output_type": "display_data"
    },
    {
     "data": {
      "image/png": "[encoded data removed]",
      "text/plain": [
       "<Figure size 720x576 with 1 Axes>"
      ]
     },
     "metadata": {},
     "output_type": "display_data"
    },
    {
     "name": "stdout",
     "output_type": "stream",
     "text": [
      "CPU times: user 3min 47s, sys: 1.04 s, total: 3min 49s\n",
      "Wall time: 3min 49s\n"
     ]
    }
   ],
   "source": [
    "%%time\n",
    "\n",
    "run_episodes_and_display(env, agent, n_episodes=5_000)"
   ]
  },
  {
   "cell_type": "markdown",
   "metadata": {},
   "source": [
    "### visualisation "
   ]
  },
  {
   "cell_type": "code",
   "execution_count": 9,
   "metadata": {},
   "outputs": [
    {
     "name": "stdout",
     "output_type": "stream",
     "text": [
      "From  [1 1] to [3 4]\n"
     ]
    },
    {
     "data": {
      "text/html": [
       "<video alt=\"test\" autoplay \n",
       "                loop controls style=\"height: 400px;\">\n",
       "                <source src=\"data:video/mp4;base64,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\" type=\"video/mp4\" />\n",
       "             </video>"
      ],
      "text/plain": [
       "<IPython.core.display.HTML object>"
      ]
     },
     "metadata": {},
     "output_type": "display_data"
    },
    {
     "data": {
      "text/plain": [
       "(3.1913377130908938, 6)"
      ]
     },
     "execution_count": 9,
     "metadata": {},
     "output_type": "execute_result"
    }
   ],
   "source": [
    "env = gen_wrapped_env(env_name, reward_function)\n",
    "run_episode(env, agent, train_mode=False, show_steps=False)"
   ]
  },
  {
   "cell_type": "code",
   "execution_count": null,
   "metadata": {},
   "outputs": [],
   "source": []
  },
  {
   "cell_type": "code",
   "execution_count": null,
   "metadata": {},
   "outputs": [],
   "source": []
  },
  {
   "cell_type": "code",
   "execution_count": null,
   "metadata": {},
   "outputs": [],
   "source": []
  },
  {
   "cell_type": "code",
   "execution_count": null,
   "metadata": {},
   "outputs": [],
   "source": []
  },
  {
   "cell_type": "code",
   "execution_count": null,
   "metadata": {},
   "outputs": [],
   "source": []
  },
  {
   "cell_type": "code",
   "execution_count": null,
   "metadata": {},
   "outputs": [],
   "source": []
  },
  {
   "cell_type": "code",
   "execution_count": null,
   "metadata": {},
   "outputs": [],
   "source": []
  },
  {
   "cell_type": "code",
   "execution_count": null,
   "metadata": {},
   "outputs": [],
   "source": []
  },
  {
   "cell_type": "code",
   "execution_count": null,
   "metadata": {},
   "outputs": [],
   "source": []
  },
  {
   "cell_type": "code",
   "execution_count": null,
   "metadata": {},
   "outputs": [],
   "source": []
  }
 ],
 "metadata": {
  "kernelspec": {
   "display_name": "Python 3",
   "language": "python",
   "name": "python3"
  },
  "language_info": {
   "codemirror_mode": {
    "name": "ipython",
    "version": 3
   },
   "file_extension": ".py",
   "mimetype": "text/x-python",
   "name": "python",
   "nbconvert_exporter": "python",
   "pygments_lexer": "ipython3",
   "version": "3.8.5"
  }
 },
 "nbformat": 4,
 "nbformat_minor": 4
}
